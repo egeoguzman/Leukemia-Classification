{
 "cells": [
  {
   "cell_type": "markdown",
   "metadata": {},
   "source": [
    "<h1 style=\"color:000000\">Leukemia Classification</h1>"
   ]
  },
  {
   "cell_type": "markdown",
   "metadata": {},
   "source": [
    "<h3 style=\"color:000000\">Installing dependicies and packages</h3>"
   ]
  },
  {
   "cell_type": "code",
   "execution_count": 1,
   "metadata": {},
   "outputs": [
    {
     "name": "stdout",
     "output_type": "stream",
     "text": [
      "Requirement already satisfied: numpy in c:\\users\\asus\\miniconda3\\lib\\site-packages (1.19.5)\n",
      "Could not fetch URL https://pypi.org/simple/pip/: There was a problem confirming the ssl certificate: HTTPSConnectionPool(host='pypi.org', port=443): Max retries exceeded with url: /simple/pip/ (Caused by SSLError(\"Can't connect to HTTPS URL because the SSL module is not available.\")) - skipping\n"
     ]
    },
    {
     "name": "stderr",
     "output_type": "stream",
     "text": [
      "WARNING: pip is configured with locations that require TLS/SSL, however the ssl module in Python is not available.\n",
      "WARNING: pip is configured with locations that require TLS/SSL, however the ssl module in Python is not available.\n"
     ]
    },
    {
     "name": "stdout",
     "output_type": "stream",
     "text": [
      "Requirement already satisfied: pandas in c:\\users\\asus\\miniconda3\\lib\\site-packages (1.2.4)\n",
      "Requirement already satisfied: python-dateutil>=2.7.3 in c:\\users\\asus\\miniconda3\\lib\\site-packages (from pandas) (2.8.1)\n",
      "Requirement already satisfied: numpy>=1.16.5 in c:\\users\\asus\\miniconda3\\lib\\site-packages (from pandas) (1.19.5)\n",
      "Requirement already satisfied: pytz>=2017.3 in c:\\users\\asus\\miniconda3\\lib\\site-packages (from pandas) (2021.1)\n",
      "Requirement already satisfied: six>=1.5 in c:\\users\\asus\\miniconda3\\lib\\site-packages (from python-dateutil>=2.7.3->pandas) (1.15.0)\n",
      "Could not fetch URL https://pypi.org/simple/pip/: There was a problem confirming the ssl certificate: HTTPSConnectionPool(host='pypi.org', port=443): Max retries exceeded with url: /simple/pip/ (Caused by SSLError(\"Can't connect to HTTPS URL because the SSL module is not available.\")) - skipping\n"
     ]
    },
    {
     "name": "stderr",
     "output_type": "stream",
     "text": [
      "WARNING: pip is configured with locations that require TLS/SSL, however the ssl module in Python is not available.\n",
      "WARNING: pip is configured with locations that require TLS/SSL, however the ssl module in Python is not available.\n"
     ]
    },
    {
     "name": "stdout",
     "output_type": "stream",
     "text": [
      "Requirement already satisfied: matplotlib in c:\\users\\asus\\miniconda3\\lib\\site-packages (3.4.2)\n",
      "Requirement already satisfied: python-dateutil>=2.7 in c:\\users\\asus\\miniconda3\\lib\\site-packages (from matplotlib) (2.8.1)\n",
      "Requirement already satisfied: pillow>=6.2.0 in c:\\users\\asus\\miniconda3\\lib\\site-packages (from matplotlib) (8.2.0)\n",
      "Requirement already satisfied: pyparsing>=2.2.1 in c:\\users\\asus\\miniconda3\\lib\\site-packages (from matplotlib) (2.4.7)\n",
      "Requirement already satisfied: kiwisolver>=1.0.1 in c:\\users\\asus\\miniconda3\\lib\\site-packages (from matplotlib) (1.3.1)\n",
      "Requirement already satisfied: cycler>=0.10 in c:\\users\\asus\\miniconda3\\lib\\site-packages (from matplotlib) (0.10.0)\n",
      "Requirement already satisfied: numpy>=1.16 in c:\\users\\asus\\miniconda3\\lib\\site-packages (from matplotlib) (1.19.5)\n",
      "Requirement already satisfied: six in c:\\users\\asus\\miniconda3\\lib\\site-packages (from cycler>=0.10->matplotlib) (1.15.0)\n",
      "Requirement already satisfied: six in c:\\users\\asus\\miniconda3\\lib\\site-packages (from cycler>=0.10->matplotlib) (1.15.0)\n",
      "Could not fetch URL https://pypi.org/simple/pip/: There was a problem confirming the ssl certificate: HTTPSConnectionPool(host='pypi.org', port=443): Max retries exceeded with url: /simple/pip/ (Caused by SSLError(\"Can't connect to HTTPS URL because the SSL module is not available.\")) - skipping\n"
     ]
    },
    {
     "name": "stderr",
     "output_type": "stream",
     "text": [
      "WARNING: pip is configured with locations that require TLS/SSL, however the ssl module in Python is not available.\n",
      "WARNING: pip is configured with locations that require TLS/SSL, however the ssl module in Python is not available.\n"
     ]
    },
    {
     "name": "stdout",
     "output_type": "stream",
     "text": [
      "Requirement already satisfied: tensorflow in c:\\users\\asus\\miniconda3\\lib\\site-packages (2.5.0)\n",
      "Requirement already satisfied: flatbuffers~=1.12.0 in c:\\users\\asus\\miniconda3\\lib\\site-packages (from tensorflow) (1.12)\n",
      "Requirement already satisfied: google-pasta~=0.2 in c:\\users\\asus\\miniconda3\\lib\\site-packages (from tensorflow) (0.2.0)\n",
      "Requirement already satisfied: keras-preprocessing~=1.1.2 in c:\\users\\asus\\miniconda3\\lib\\site-packages (from tensorflow) (1.1.2)\n",
      "Requirement already satisfied: wrapt~=1.12.1 in c:\\users\\asus\\miniconda3\\lib\\site-packages (from tensorflow) (1.12.1)\n",
      "Requirement already satisfied: wheel~=0.35 in c:\\users\\asus\\miniconda3\\lib\\site-packages (from tensorflow) (0.36.1)\n",
      "Requirement already satisfied: astunparse~=1.6.3 in c:\\users\\asus\\miniconda3\\lib\\site-packages (from tensorflow) (1.6.3)\n",
      "Requirement already satisfied: grpcio~=1.34.0 in c:\\users\\asus\\miniconda3\\lib\\site-packages (from tensorflow) (1.34.1)"
     ]
    },
    {
     "name": "stderr",
     "output_type": "stream",
     "text": [
      "WARNING: pip is configured with locations that require TLS/SSL, however the ssl module in Python is not available.\n",
      "WARNING: pip is configured with locations that require TLS/SSL, however the ssl module in Python is not available.\n"
     ]
    },
    {
     "name": "stdout",
     "output_type": "stream",
     "text": [
      "\n",
      "Requirement already satisfied: absl-py~=0.10 in c:\\users\\asus\\miniconda3\\lib\\site-packages (from tensorflow) (0.12.0)\n",
      "Requirement already satisfied: tensorflow-estimator<2.6.0,>=2.5.0rc0 in c:\\users\\asus\\miniconda3\\lib\\site-packages (from tensorflow) (2.5.0)\n",
      "Requirement already satisfied: tensorboard~=2.5 in c:\\users\\asus\\miniconda3\\lib\\site-packages (from tensorflow) (2.5.0)\n",
      "Requirement already satisfied: keras-nightly~=2.5.0.dev in c:\\users\\asus\\miniconda3\\lib\\site-packages (from tensorflow) (2.5.0.dev2021032900)\n",
      "Requirement already satisfied: gast==0.4.0 in c:\\users\\asus\\miniconda3\\lib\\site-packages (from tensorflow) (0.4.0)\n",
      "Requirement already satisfied: protobuf>=3.9.2 in c:\\users\\asus\\miniconda3\\lib\\site-packages (from tensorflow) (3.17.0)\n",
      "Requirement already satisfied: six~=1.15.0 in c:\\users\\asus\\miniconda3\\lib\\site-packages (from tensorflow) (1.15.0)\n",
      "Requirement already satisfied: typing-extensions~=3.7.4 in c:\\users\\asus\\miniconda3\\lib\\site-packages (from tensorflow) (3.7.4.3)\n",
      "Requirement already satisfied: numpy~=1.19.2 in c:\\users\\asus\\miniconda3\\lib\\site-packages (from tensorflow) (1.19.5)\n",
      "Requirement already satisfied: termcolor~=1.1.0 in c:\\users\\asus\\miniconda3\\lib\\site-packages (from tensorflow) (1.1.0)\n",
      "Requirement already satisfied: opt-einsum~=3.3.0 in c:\\users\\asus\\miniconda3\\lib\\site-packages (from tensorflow) (3.3.0)\n",
      "Requirement already satisfied: h5py~=3.1.0 in c:\\users\\asus\\miniconda3\\lib\\site-packages (from tensorflow) (3.1.0)\n",
      "Requirement already satisfied: six~=1.15.0 in c:\\users\\asus\\miniconda3\\lib\\site-packages (from tensorflow) (1.15.0)\n",
      "Requirement already satisfied: six~=1.15.0 in c:\\users\\asus\\miniconda3\\lib\\site-packages (from tensorflow) (1.15.0)\n",
      "Requirement already satisfied: wheel~=0.35 in c:\\users\\asus\\miniconda3\\lib\\site-packages (from tensorflow) (0.36.1)\n",
      "Requirement already satisfied: six~=1.15.0 in c:\\users\\asus\\miniconda3\\lib\\site-packages (from tensorflow) (1.15.0)\n",
      "Requirement already satisfied: six~=1.15.0 in c:\\users\\asus\\miniconda3\\lib\\site-packages (from tensorflow) (1.15.0)\n",
      "Requirement already satisfied: numpy~=1.19.2 in c:\\users\\asus\\miniconda3\\lib\\site-packages (from tensorflow) (1.19.5)\n",
      "Requirement already satisfied: six~=1.15.0 in c:\\users\\asus\\miniconda3\\lib\\site-packages (from tensorflow) (1.15.0)\n",
      "Requirement already satisfied: numpy~=1.19.2 in c:\\users\\asus\\miniconda3\\lib\\site-packages (from tensorflow) (1.19.5)\n",
      "Requirement already satisfied: numpy~=1.19.2 in c:\\users\\asus\\miniconda3\\lib\\site-packages (from tensorflow) (1.19.5)\n",
      "Requirement already satisfied: six~=1.15.0 in c:\\users\\asus\\miniconda3\\lib\\site-packages (from tensorflow) (1.15.0)\n",
      "Requirement already satisfied: absl-py~=0.10 in c:\\users\\asus\\miniconda3\\lib\\site-packages (from tensorflow) (0.12.0)\n",
      "Requirement already satisfied: markdown>=2.6.8 in c:\\users\\asus\\miniconda3\\lib\\site-packages (from tensorboard~=2.5->tensorflow) (3.3.4)\n",
      "Requirement already satisfied: tensorboard-data-server<0.7.0,>=0.6.0 in c:\\users\\asus\\miniconda3\\lib\\site-packages (from tensorboard~=2.5->tensorflow) (0.6.1)\n",
      "Requirement already satisfied: google-auth<2,>=1.6.3 in c:\\users\\asus\\miniconda3\\lib\\site-packages (from tensorboard~=2.5->tensorflow) (1.30.0)\n",
      "Requirement already satisfied: requests<3,>=2.21.0 in c:\\users\\asus\\miniconda3\\lib\\site-packages (from tensorboard~=2.5->tensorflow) (2.25.0)\n",
      "Requirement already satisfied: protobuf>=3.9.2 in c:\\users\\asus\\miniconda3\\lib\\site-packages (from tensorflow) (3.17.0)\n",
      "Requirement already satisfied: grpcio~=1.34.0 in c:\\users\\asus\\miniconda3\\lib\\site-packages (from tensorflow) (1.34.1)\n",
      "Requirement already satisfied: setuptools>=41.0.0 in c:\\users\\asus\\miniconda3\\lib\\site-packages (from tensorboard~=2.5->tensorflow) (51.0.0.post20201207)\n",
      "Requirement already satisfied: werkzeug>=0.11.15 in c:\\users\\asus\\miniconda3\\lib\\site-packages (from tensorboard~=2.5->tensorflow) (2.0.1)\n",
      "Requirement already satisfied: google-auth-oauthlib<0.5,>=0.4.1 in c:\\users\\asus\\miniconda3\\lib\\site-packages (from tensorboard~=2.5->tensorflow) (0.4.4)\n",
      "Requirement already satisfied: numpy~=1.19.2 in c:\\users\\asus\\miniconda3\\lib\\site-packages (from tensorflow) (1.19.5)\n",
      "Requirement already satisfied: tensorboard-plugin-wit>=1.6.0 in c:\\users\\asus\\miniconda3\\lib\\site-packages (from tensorboard~=2.5->tensorflow) (1.8.0)\n",
      "Requirement already satisfied: wheel~=0.35 in c:\\users\\asus\\miniconda3\\lib\\site-packages (from tensorflow) (0.36.1)\n",
      "Requirement already satisfied: six~=1.15.0 in c:\\users\\asus\\miniconda3\\lib\\site-packages (from tensorflow) (1.15.0)\n",
      "Requirement already satisfied: rsa<5,>=3.1.4 in c:\\users\\asus\\miniconda3\\lib\\site-packages (from google-auth<2,>=1.6.3->tensorboard~=2.5->tensorflow) (4.7.2)\n",
      "Requirement already satisfied: setuptools>=41.0.0 in c:\\users\\asus\\miniconda3\\lib\\site-packages (from tensorboard~=2.5->tensorflow) (51.0.0.post20201207)\n",
      "Requirement already satisfied: pyasn1-modules>=0.2.1 in c:\\users\\asus\\miniconda3\\lib\\site-packages (from google-auth<2,>=1.6.3->tensorboard~=2.5->tensorflow) (0.2.8)\n",
      "Requirement already satisfied: cachetools<5.0,>=2.0.0 in c:\\users\\asus\\miniconda3\\lib\\site-packages (from google-auth<2,>=1.6.3->tensorboard~=2.5->tensorflow) (4.2.2)\n",
      "Requirement already satisfied: google-auth<2,>=1.6.3 in c:\\users\\asus\\miniconda3\\lib\\site-packages (from tensorboard~=2.5->tensorflow) (1.30.0)\n",
      "Requirement already satisfied: requests-oauthlib>=0.7.0 in c:\\users\\asus\\miniconda3\\lib\\site-packages (from google-auth-oauthlib<0.5,>=0.4.1->tensorboard~=2.5->tensorflow) (1.3.0)\n",
      "Requirement already satisfied: pyasn1<0.5.0,>=0.4.6 in c:\\users\\asus\\miniconda3\\lib\\site-packages (from pyasn1-modules>=0.2.1->google-auth<2,>=1.6.3->tensorboard~=2.5->tensorflow) (0.4.8)\n",
      "Requirement already satisfied: idna<3,>=2.5 in c:\\users\\asus\\miniconda3\\lib\\site-packages (from requests<3,>=2.21.0->tensorboard~=2.5->tensorflow) (2.10)\n",
      "Requirement already satisfied: certifi>=2017.4.17 in c:\\users\\asus\\miniconda3\\lib\\site-packages (from requests<3,>=2.21.0->tensorboard~=2.5->tensorflow) (2020.12.5)\n",
      "Requirement already satisfied: chardet<4,>=3.0.2 in c:\\users\\asus\\miniconda3\\lib\\site-packages (from requests<3,>=2.21.0->tensorboard~=2.5->tensorflow) (3.0.4)\n",
      "Requirement already satisfied: urllib3<1.27,>=1.21.1 in c:\\users\\asus\\miniconda3\\lib\\site-packages (from requests<3,>=2.21.0->tensorboard~=2.5->tensorflow) (1.25.11)\n",
      "Requirement already satisfied: requests<3,>=2.21.0 in c:\\users\\asus\\miniconda3\\lib\\site-packages (from tensorboard~=2.5->tensorflow) (2.25.0)\n",
      "Requirement already satisfied: oauthlib>=3.0.0 in c:\\users\\asus\\miniconda3\\lib\\site-packages (from requests-oauthlib>=0.7.0->google-auth-oauthlib<0.5,>=0.4.1->tensorboard~=2.5->tensorflow) (3.1.0)\n",
      "Requirement already satisfied: pyasn1<0.5.0,>=0.4.6 in c:\\users\\asus\\miniconda3\\lib\\site-packages (from pyasn1-modules>=0.2.1->google-auth<2,>=1.6.3->tensorboard~=2.5->tensorflow) (0.4.8)\n",
      "Could not fetch URL https://pypi.org/simple/pip/: There was a problem confirming the ssl certificate: HTTPSConnectionPool(host='pypi.org', port=443): Max retries exceeded with url: /simple/pip/ (Caused by SSLError(\"Can't connect to HTTPS URL because the SSL module is not available.\")) - skipping\n",
      "Requirement already satisfied: scikit-image in c:\\users\\asus\\miniconda3\\lib\\site-packages (0.18.1)\n",
      "Requirement already satisfied: numpy>=1.16.5 in c:\\users\\asus\\miniconda3\\lib\\site-packages (from scikit-image) (1.19.5)\n",
      "Requirement already satisfied: scipy>=1.0.1 in c:\\users\\asus\\miniconda3\\lib\\site-packages (from scikit-image) (1.6.3)\n",
      "Requirement already satisfied: networkx>=2.0 in c:\\users\\asus\\miniconda3\\lib\\site-packages (from scikit-image) (2.5.1)\n",
      "Requirement already satisfied: tifffile>=2019.7.26 in c:\\users\\asus\\miniconda3\\lib\\site-packages (from scikit-image) (2021.4.8)\n",
      "Requirement already satisfied: PyWavelets>=1.1.1 in c:\\users\\asus\\miniconda3\\lib\\site-packages (from scikit-image) (1.1.1)\n",
      "Requirement already satisfied: matplotlib!=3.0.0,>=2.0.0 in c:\\users\\asus\\miniconda3\\lib\\site-packages (from scikit-image) (3.4.2)\n",
      "Requirement already satisfied: pillow!=7.1.0,!=7.1.1,>=4.3.0 in c:\\users\\asus\\miniconda3\\lib\\site-packages (from scikit-image) (8.2.0)\n",
      "Requirement already satisfied: imageio>=2.3.0 in c:\\users\\asus\\miniconda3\\lib\\site-packages (from scikit-image) (2.9.0)\n",
      "Requirement already satisfied: pillow!=7.1.0,!=7.1.1,>=4.3.0 in c:\\users\\asus\\miniconda3\\lib\\site-packages (from scikit-image) (8.2.0)\n",
      "Requirement already satisfied: numpy>=1.16.5 in c:\\users\\asus\\miniconda3\\lib\\site-packages (from scikit-image) (1.19.5)\n",
      "Requirement already satisfied: pyparsing>=2.2.1 in c:\\users\\asus\\miniconda3\\lib\\site-packages (from matplotlib!=3.0.0,>=2.0.0->scikit-image) (2.4.7)\n",
      "Requirement already satisfied: pillow!=7.1.0,!=7.1.1,>=4.3.0 in c:\\users\\asus\\miniconda3\\lib\\site-packages (from scikit-image) (8.2.0)\n",
      "Requirement already satisfied: cycler>=0.10 in c:\\users\\asus\\miniconda3\\lib\\site-packages (from matplotlib!=3.0.0,>=2.0.0->scikit-image) (0.10.0)\n",
      "Requirement already satisfied: numpy>=1.16.5 in c:\\users\\asus\\miniconda3\\lib\\site-packages (from scikit-image) (1.19.5)\n",
      "Requirement already satisfied: python-dateutil>=2.7 in c:\\users\\asus\\miniconda3\\lib\\site-packages (from matplotlib!=3.0.0,>=2.0.0->scikit-image) (2.8.1)\n",
      "Requirement already satisfied: kiwisolver>=1.0.1 in c:\\users\\asus\\miniconda3\\lib\\site-packages (from matplotlib!=3.0.0,>=2.0.0->scikit-image) (1.3.1)\n",
      "Requirement already satisfied: six in c:\\users\\asus\\miniconda3\\lib\\site-packages (from cycler>=0.10->matplotlib!=3.0.0,>=2.0.0->scikit-image) (1.15.0)\n",
      "Requirement already satisfied: decorator<5,>=4.3 in c:\\users\\asus\\miniconda3\\lib\\site-packages (from networkx>=2.0->scikit-image) (4.4.2)\n",
      "Requirement already satisfied: six in c:\\users\\asus\\miniconda3\\lib\\site-packages (from cycler>=0.10->matplotlib!=3.0.0,>=2.0.0->scikit-image) (1.15.0)\n",
      "Requirement already satisfied: numpy>=1.16.5 in c:\\users\\asus\\miniconda3\\lib\\site-packages (from scikit-image) (1.19.5)\n",
      "Requirement already satisfied: numpy>=1.16.5 in c:\\users\\asus\\miniconda3\\lib\\site-packages (from scikit-image) (1.19.5)\n",
      "Requirement already satisfied: numpy>=1.16.5 in c:\\users\\asus\\miniconda3\\lib\\site-packages (from scikit-image) (1.19.5)\n",
      "Could not fetch URL https://pypi.org/simple/pip/: There was a problem confirming the ssl certificate: HTTPSConnectionPool(host='pypi.org', port=443): Max retries exceeded with url: /simple/pip/ (Caused by SSLError(\"Can't connect to HTTPS URL because the SSL module is not available.\")) - skipping\n"
     ]
    },
    {
     "name": "stderr",
     "output_type": "stream",
     "text": [
      "WARNING: pip is configured with locations that require TLS/SSL, however the ssl module in Python is not available.\n",
      "WARNING: pip is configured with locations that require TLS/SSL, however the ssl module in Python is not available.\n"
     ]
    },
    {
     "name": "stdout",
     "output_type": "stream",
     "text": [
      "Requirement already satisfied: tqdm in c:\\users\\asus\\miniconda3\\lib\\site-packages (4.54.1)\n",
      "Could not fetch URL https://pypi.org/simple/pip/: There was a problem confirming the ssl certificate: HTTPSConnectionPool(host='pypi.org', port=443): Max retries exceeded with url: /simple/pip/ (Caused by SSLError(\"Can't connect to HTTPS URL because the SSL module is not available.\")) - skipping\n"
     ]
    },
    {
     "name": "stderr",
     "output_type": "stream",
     "text": [
      "WARNING: pip is configured with locations that require TLS/SSL, however the ssl module in Python is not available.\n",
      "WARNING: pip is configured with locations that require TLS/SSL, however the ssl module in Python is not available.\n"
     ]
    },
    {
     "name": "stdout",
     "output_type": "stream",
     "text": [
      "Requirement already satisfied: scikit-learn in c:\\users\\asus\\miniconda3\\lib\\site-packages (0.24.2)\n",
      "Requirement already satisfied: scipy>=0.19.1 in c:\\users\\asus\\miniconda3\\lib\\site-packages (from scikit-learn) (1.6.3)\n",
      "Requirement already satisfied: joblib>=0.11 in c:\\users\\asus\\miniconda3\\lib\\site-packages (from scikit-learn) (1.0.1)\n",
      "Requirement already satisfied: threadpoolctl>=2.0.0 in c:\\users\\asus\\miniconda3\\lib\\site-packages (from scikit-learn) (2.1.0)\n",
      "Requirement already satisfied: numpy>=1.13.3 in c:\\users\\asus\\miniconda3\\lib\\site-packages (from scikit-learn) (1.19.5)\n",
      "Requirement already satisfied: numpy>=1.13.3 in c:\\users\\asus\\miniconda3\\lib\\site-packages (from scikit-learn) (1.19.5)\n",
      "Could not fetch URL https://pypi.org/simple/pip/: There was a problem confirming the ssl certificate: HTTPSConnectionPool(host='pypi.org', port=443): Max retries exceeded with url: /simple/pip/ (Caused by SSLError(\"Can't connect to HTTPS URL because the SSL module is not available.\")) - skipping\n"
     ]
    },
    {
     "name": "stderr",
     "output_type": "stream",
     "text": [
      "WARNING: pip is configured with locations that require TLS/SSL, however the ssl module in Python is not available.\n",
      "WARNING: pip is configured with locations that require TLS/SSL, however the ssl module in Python is not available.\n"
     ]
    },
    {
     "name": "stdout",
     "output_type": "stream",
     "text": [
      "Could not fetch URL https://pypi.org/simple/seaborn/: There was a problem confirming the ssl certificate: HTTPSConnectionPool(host='pypi.org', port=443): Max retries exceeded with url: /simple/seaborn/ (Caused by SSLError(\"Can't connect to HTTPS URL because the SSL module is not available.\")) - skipping\n",
      "Could not fetch URL https://pypi.org/simple/pip/: There was a problem confirming the ssl certificate: HTTPSConnectionPool(host='pypi.org', port=443): Max retries exceeded with url: /simple/pip/ (Caused by SSLError(\"Can't connect to HTTPS URL because the SSL module is not available.\")) - skipping\n"
     ]
    },
    {
     "name": "stderr",
     "output_type": "stream",
     "text": [
      "WARNING: pip is configured with locations that require TLS/SSL, however the ssl module in Python is not available.\n",
      "WARNING: Retrying (Retry(total=4, connect=None, read=None, redirect=None, status=None)) after connection broken by 'SSLError(\"Can't connect to HTTPS URL because the SSL module is not available.\")': /simple/seaborn/\n",
      "WARNING: Retrying (Retry(total=3, connect=None, read=None, redirect=None, status=None)) after connection broken by 'SSLError(\"Can't connect to HTTPS URL because the SSL module is not available.\")': /simple/seaborn/\n",
      "WARNING: Retrying (Retry(total=2, connect=None, read=None, redirect=None, status=None)) after connection broken by 'SSLError(\"Can't connect to HTTPS URL because the SSL module is not available.\")': /simple/seaborn/\n",
      "WARNING: Retrying (Retry(total=1, connect=None, read=None, redirect=None, status=None)) after connection broken by 'SSLError(\"Can't connect to HTTPS URL because the SSL module is not available.\")': /simple/seaborn/\n",
      "WARNING: Retrying (Retry(total=0, connect=None, read=None, redirect=None, status=None)) after connection broken by 'SSLError(\"Can't connect to HTTPS URL because the SSL module is not available.\")': /simple/seaborn/\n",
      "ERROR: Could not find a version that satisfies the requirement seaborn\n",
      "ERROR: No matching distribution found for seaborn\n",
      "WARNING: pip is configured with locations that require TLS/SSL, however the ssl module in Python is not available.\n"
     ]
    },
    {
     "name": "stdout",
     "output_type": "stream",
     "text": [
      "Could not fetch URL https://pypi.org/simple/opencv-contrib-python/: There was a problem confirming the ssl certificate: HTTPSConnectionPool(host='pypi.org', port=443): Max retries exceeded with url: /simple/opencv-contrib-python/ (Caused by SSLError(\"Can't connect to HTTPS URL because the SSL module is not available.\")) - skipping\n",
      "Could not fetch URL https://pypi.org/simple/pip/: There was a problem confirming the ssl certificate: HTTPSConnectionPool(host='pypi.org', port=443): Max retries exceeded with url: /simple/pip/ (Caused by SSLError(\"Can't connect to HTTPS URL because the SSL module is not available.\")) - skipping\n"
     ]
    },
    {
     "name": "stderr",
     "output_type": "stream",
     "text": [
      "WARNING: pip is configured with locations that require TLS/SSL, however the ssl module in Python is not available.\n",
      "WARNING: Retrying (Retry(total=4, connect=None, read=None, redirect=None, status=None)) after connection broken by 'SSLError(\"Can't connect to HTTPS URL because the SSL module is not available.\")': /simple/opencv-contrib-python/\n",
      "WARNING: Retrying (Retry(total=3, connect=None, read=None, redirect=None, status=None)) after connection broken by 'SSLError(\"Can't connect to HTTPS URL because the SSL module is not available.\")': /simple/opencv-contrib-python/\n",
      "WARNING: Retrying (Retry(total=2, connect=None, read=None, redirect=None, status=None)) after connection broken by 'SSLError(\"Can't connect to HTTPS URL because the SSL module is not available.\")': /simple/opencv-contrib-python/\n",
      "WARNING: Retrying (Retry(total=1, connect=None, read=None, redirect=None, status=None)) after connection broken by 'SSLError(\"Can't connect to HTTPS URL because the SSL module is not available.\")': /simple/opencv-contrib-python/\n",
      "WARNING: Retrying (Retry(total=0, connect=None, read=None, redirect=None, status=None)) after connection broken by 'SSLError(\"Can't connect to HTTPS URL because the SSL module is not available.\")': /simple/opencv-contrib-python/\n",
      "ERROR: Could not find a version that satisfies the requirement opencv-contrib-python\n",
      "ERROR: No matching distribution found for opencv-contrib-python\n",
      "WARNING: pip is configured with locations that require TLS/SSL, however the ssl module in Python is not available.\n"
     ]
    }
   ],
   "source": [
    "!pip install numpy\n",
    "!pip install pandas\n",
    "!pip install matplotlib\n",
    "!pip install tensorflow\n",
    "!pip install scikit-image\n",
    "!pip install tqdm\n",
    "!pip install scikit-learn\n",
    "!pip install seaborn\n",
    "!pip install opencv-contrib-python"
   ]
  },
  {
   "cell_type": "markdown",
   "metadata": {},
   "source": [
    "<h3 style=\"color:000000\">Importing libraries</h3>"
   ]
  },
  {
   "cell_type": "code",
   "execution_count": 1,
   "metadata": {},
   "outputs": [],
   "source": [
    "import numpy as np\n",
    "import pandas as pd\n",
    "import matplotlib.pyplot as plt\n",
    "import tensorflow as tf\n",
    "import os\n",
    "import tqdm\n",
    "import skimage.io\n",
    "import glob\n",
    "import random\n",
    "from PIL import Image\n",
    "import itertools\n",
    "\n",
    "import cv2 as cv\n",
    "\n",
    "import tensorflow_hub as hub\n",
    "import seaborn as sns\n",
    "\n",
    "from tensorflow.keras.models import load_model\n",
    "from tqdm import tqdm\n",
    "from skimage.io import imread, imshow\n",
    "from sklearn.preprocessing import LabelEncoder\n",
    "from skimage.transform import resize\n",
    "from sklearn.utils import shuffle\n",
    "from sklearn.metrics import classification_report, confusion_matrix\n",
    "from tensorflow.keras.utils import to_categorical\n",
    "from tensorflow.keras.preprocessing.image import ImageDataGenerator\n",
    "from tensorflow.keras.models import Sequential, Model\n",
    "from tensorflow.keras.layers import InputLayer, Conv2D, BatchNormalization, MaxPool2D, Dropout, Flatten, Dense\n",
    "from tensorflow.keras.callbacks import EarlyStopping, ModelCheckpoint, ReduceLROnPlateau\n",
    "from tensorflow.keras.applications.inception_v3 import preprocess_input, decode_predictions\n",
    "from tensorflow.keras.preprocessing import image\n",
    "from tensorflow.keras import layers\n",
    "from tensorflow.keras.preprocessing.image import img_to_array\n",
    "\n",
    "from keras.utils import np_utils\n",
    "from tensorflow.keras.optimizers import Adam\n",
    "from keras import backend as K"
   ]
  },
  {
   "cell_type": "markdown",
   "metadata": {},
   "source": [
    "<h3 style=\"color:000000\">Utilities</h3>\n",
    "<h3 style=\"color:blue\">Confusion Matrix Plotting Function</h3>"
   ]
  },
  {
   "cell_type": "code",
   "execution_count": 2,
   "metadata": {},
   "outputs": [],
   "source": [
    "def plot_confusion_matrix(cm,\n",
    "                          target_names,\n",
    "                          title='Confusion matrix',\n",
    "                          cmap=None,\n",
    "                          normalize=True):\n",
    "    \"\"\"\n",
    "    given a sklearn confusion matrix (cm), make a nice plot\n",
    "\n",
    "    Arguments\n",
    "    ---------\n",
    "    cm:           confusion matrix from sklearn.metrics.confusion_matrix\n",
    "\n",
    "    target_names: given classification classes such as [0, 1, 2]\n",
    "                  the class names, for example: ['high', 'medium', 'low']\n",
    "\n",
    "    title:        the text to display at the top of the matrix\n",
    "\n",
    "    cmap:         the gradient of the values displayed from matplotlib.pyplot.cm\n",
    "                  see http://matplotlib.org/examples/color/colormaps_reference.html\n",
    "                  plt.get_cmap('jet') or plt.cm.Blues\n",
    "\n",
    "    normalize:    If False, plot the raw numbers\n",
    "                  If True, plot the proportions\n",
    "\n",
    "    Usage\n",
    "    -----\n",
    "    plot_confusion_matrix(cm           = cm,                  # confusion matrix created by\n",
    "                                                              # sklearn.metrics.confusion_matrix\n",
    "                          normalize    = True,                # show proportions\n",
    "                          target_names = y_labels_vals,       # list of names of the classes\n",
    "                          title        = best_estimator_name) # title of graph\n",
    "\n",
    "    Citiation\n",
    "    ---------\n",
    "    http://scikit-learn.org/stable/auto_examples/model_selection/plot_confusion_matrix.html\n",
    "\n",
    "    \"\"\"\n",
    "\n",
    "\n",
    "    accuracy = np.trace(cm) / float(np.sum(cm))\n",
    "    misclass = 1 - accuracy\n",
    "\n",
    "    if cmap is None:\n",
    "        cmap = plt.get_cmap('Blues')\n",
    "\n",
    "    plt.figure(figsize=(8, 6))\n",
    "    plt.imshow(cm, interpolation='nearest', cmap=cmap)\n",
    "    plt.title(title)\n",
    "    plt.colorbar()\n",
    "\n",
    "    if target_names is not None:\n",
    "        tick_marks = np.arange(len(target_names))\n",
    "        plt.xticks(tick_marks, target_names, rotation=45)\n",
    "        plt.yticks(tick_marks, target_names)\n",
    "\n",
    "    if normalize:\n",
    "        cm = cm.astype('float') / cm.sum(axis=1)[:, np.newaxis]\n",
    "\n",
    "\n",
    "    thresh = cm.max() / 1.5 if normalize else cm.max() / 2\n",
    "    for i, j in itertools.product(range(cm.shape[0]), range(cm.shape[1])):\n",
    "        if normalize:\n",
    "            plt.text(j, i, \"{:0.4f}\".format(cm[i, j]),\n",
    "                     horizontalalignment=\"center\",\n",
    "                     color=\"white\" if cm[i, j] > thresh else \"black\")\n",
    "        else:\n",
    "            plt.text(j, i, \"{:,}\".format(cm[i, j]),\n",
    "                     horizontalalignment=\"center\",\n",
    "                     color=\"white\" if cm[i, j] > thresh else \"black\")\n",
    "\n",
    "\n",
    "    plt.tight_layout()\n",
    "    plt.ylabel('True label')\n",
    "    plt.xlabel('Predicted label')\n",
    "    plt.show()"
   ]
  },
  {
   "cell_type": "markdown",
   "metadata": {},
   "source": [
    "<h3 style=\"color:000000\">Data preprocessing</h3>\n",
    "<h3 style=\"color:blue\">Reading Files</h3>"
   ]
  },
  {
   "cell_type": "markdown",
   "metadata": {},
   "source": [
    "<h3 style=\"font-weight:bold;color:red;\">!!! NOTE: For test dataset, labels are not defined. So, we are not going to be able to use test dataset for testing</h3>"
   ]
  },
  {
   "cell_type": "code",
   "execution_count": 3,
   "metadata": {},
   "outputs": [],
   "source": [
    "#Traning Dataset\n",
    "train_dataset_0_all = glob.glob('data/training_data/fold_0/all/*.bmp')\n",
    "train_dataset_0_hem = glob.glob('data/training_data/fold_0/hem/*.bmp')\n",
    "train_dataset_1_all = glob.glob('data/training_data/fold_1/all/*.bmp')\n",
    "train_dataset_1_hem = glob.glob('data/training_data/fold_1/hem/*.bmp')\n",
    "train_dataset_2_all = glob.glob('data/training_data/fold_2/all/*.bmp')\n",
    "train_dataset_2_hem = glob.glob('data/training_data/fold_2/hem/*.bmp')\n",
    "\n",
    "#Test Dataset\n",
    "test_dataset  = glob.glob('data/testing_data/C-NMC_test_final_phase_data/*.bmp')\n",
    "\n",
    "#Validation Dataset (Images)\n",
    "valid_dataset = glob.glob('data/validation_data/C-NMC_test_prelim_phase_data/*.bmp')\n",
    "\n",
    "#Validation Dataset (.CSV)\n",
    "valid_data = pd.read_csv('data/validation_data/C-NMC_test_prelim_phase_data_labels.csv')"
   ]
  },
  {
   "cell_type": "markdown",
   "metadata": {},
   "source": [
    "<h3 style=\"color:000000\">Data preprocessing cont.</h3>\n",
    "<h3 style=\"color:blue\">Collecting Images</h3>"
   ]
  },
  {
   "cell_type": "code",
   "execution_count": 4,
   "metadata": {},
   "outputs": [],
   "source": [
    "ALL = []\n",
    "HEM = []\n",
    "images = []\n",
    "labels = []\n",
    "\n",
    "ALL.extend(train_dataset_0_all)\n",
    "ALL.extend(train_dataset_1_all)\n",
    "ALL.extend(train_dataset_2_all)\n",
    "\n",
    "HEM.extend(train_dataset_0_hem)\n",
    "HEM.extend(train_dataset_1_hem)\n",
    "HEM.extend(train_dataset_2_hem)\n",
    "\n",
    "images.extend(HEM)\n",
    "images.extend(ALL)"
   ]
  },
  {
   "cell_type": "markdown",
   "metadata": {},
   "source": [
    "<h3 style=\"color:000000\">Data preprocessing</h3>\n",
    "<h3 style=\"color:blue\">Load the data</h3>"
   ]
  },
  {
   "cell_type": "code",
   "execution_count": 5,
   "metadata": {
    "scrolled": false
   },
   "outputs": [
    {
     "name": "stdout",
     "output_type": "stream",
     "text": [
      "                                                  images  labels\n",
      "0       data/training_data/fold_0/all/UID_20_1_1_all.bmp       0\n",
      "1        data/training_data/fold_0/all/UID_4_4_2_all.bmp       0\n",
      "2      data/training_data/fold_0/all/UID_45_30_2_all.bmp       0\n",
      "3       data/training_data/fold_0/all/UID_28_2_3_all.bmp       0\n",
      "4       data/training_data/fold_0/all/UID_35_8_7_all.bmp       0\n",
      "...                                                  ...     ...\n",
      "10656  data/training_data/fold_2/hem/UID_H5_12_2_hem.bmp       1\n",
      "10657  data/training_data/fold_2/hem/UID_h3_18_1_hem.bmp       1\n",
      "10658  data/training_data/fold_2/hem/UID_H40_10_2_hem...       1\n",
      "10659   data/training_data/fold_2/hem/UID_H5_4_1_hem.bmp       1\n",
      "10660  data/training_data/fold_2/hem/UID_H23_28_2_hem...       1\n",
      "\n",
      "[10661 rows x 2 columns]\n"
     ]
    }
   ],
   "source": [
    "X_train = []\n",
    "y_train = []\n",
    "\n",
    "for i in range(0, len(ALL)):\n",
    "    X_train.append(ALL[i])\n",
    "    y_train.append(0)\n",
    "    \n",
    "for i in range(0, len(HEM)):\n",
    "    X_train.append(HEM[i])\n",
    "    y_train.append(1)\n",
    "    \n",
    "df = pd.DataFrame({'images' : X_train, 'labels' : y_train})\n",
    "print(df)"
   ]
  },
  {
   "cell_type": "code",
   "execution_count": 6,
   "metadata": {},
   "outputs": [
    {
     "data": {
      "text/html": [
       "<div>\n",
       "<style scoped>\n",
       "    .dataframe tbody tr th:only-of-type {\n",
       "        vertical-align: middle;\n",
       "    }\n",
       "\n",
       "    .dataframe tbody tr th {\n",
       "        vertical-align: top;\n",
       "    }\n",
       "\n",
       "    .dataframe thead th {\n",
       "        text-align: right;\n",
       "    }\n",
       "</style>\n",
       "<table border=\"1\" class=\"dataframe\">\n",
       "  <thead>\n",
       "    <tr style=\"text-align: right;\">\n",
       "      <th></th>\n",
       "      <th>Patient_ID</th>\n",
       "      <th>new_names</th>\n",
       "      <th>labels</th>\n",
       "    </tr>\n",
       "  </thead>\n",
       "  <tbody>\n",
       "    <tr>\n",
       "      <th>0</th>\n",
       "      <td>UID_57_29_1_all.bmp</td>\n",
       "      <td>1.bmp</td>\n",
       "      <td>1</td>\n",
       "    </tr>\n",
       "    <tr>\n",
       "      <th>1</th>\n",
       "      <td>UID_57_22_2_all.bmp</td>\n",
       "      <td>2.bmp</td>\n",
       "      <td>1</td>\n",
       "    </tr>\n",
       "    <tr>\n",
       "      <th>2</th>\n",
       "      <td>UID_57_31_3_all.bmp</td>\n",
       "      <td>3.bmp</td>\n",
       "      <td>1</td>\n",
       "    </tr>\n",
       "    <tr>\n",
       "      <th>3</th>\n",
       "      <td>UID_H49_35_1_hem.bmp</td>\n",
       "      <td>4.bmp</td>\n",
       "      <td>0</td>\n",
       "    </tr>\n",
       "    <tr>\n",
       "      <th>4</th>\n",
       "      <td>UID_58_6_13_all.bmp</td>\n",
       "      <td>5.bmp</td>\n",
       "      <td>1</td>\n",
       "    </tr>\n",
       "    <tr>\n",
       "      <th>5</th>\n",
       "      <td>UID_57_8_11_all.bmp</td>\n",
       "      <td>6.bmp</td>\n",
       "      <td>1</td>\n",
       "    </tr>\n",
       "    <tr>\n",
       "      <th>6</th>\n",
       "      <td>UID_H49_29_2_hem.bmp</td>\n",
       "      <td>7.bmp</td>\n",
       "      <td>0</td>\n",
       "    </tr>\n",
       "    <tr>\n",
       "      <th>7</th>\n",
       "      <td>UID_H30_6_2_hem.bmp</td>\n",
       "      <td>8.bmp</td>\n",
       "      <td>0</td>\n",
       "    </tr>\n",
       "    <tr>\n",
       "      <th>8</th>\n",
       "      <td>UID_58_2_1_all.bmp</td>\n",
       "      <td>9.bmp</td>\n",
       "      <td>1</td>\n",
       "    </tr>\n",
       "    <tr>\n",
       "      <th>9</th>\n",
       "      <td>UID_54_35_3_all.bmp</td>\n",
       "      <td>10.bmp</td>\n",
       "      <td>1</td>\n",
       "    </tr>\n",
       "  </tbody>\n",
       "</table>\n",
       "</div>"
      ],
      "text/plain": [
       "             Patient_ID new_names  labels\n",
       "0   UID_57_29_1_all.bmp     1.bmp       1\n",
       "1   UID_57_22_2_all.bmp     2.bmp       1\n",
       "2   UID_57_31_3_all.bmp     3.bmp       1\n",
       "3  UID_H49_35_1_hem.bmp     4.bmp       0\n",
       "4   UID_58_6_13_all.bmp     5.bmp       1\n",
       "5   UID_57_8_11_all.bmp     6.bmp       1\n",
       "6  UID_H49_29_2_hem.bmp     7.bmp       0\n",
       "7   UID_H30_6_2_hem.bmp     8.bmp       0\n",
       "8    UID_58_2_1_all.bmp     9.bmp       1\n",
       "9   UID_54_35_3_all.bmp    10.bmp       1"
      ]
     },
     "execution_count": 6,
     "metadata": {},
     "output_type": "execute_result"
    }
   ],
   "source": [
    "valid_data.head(10)"
   ]
  },
  {
   "cell_type": "code",
   "execution_count": 7,
   "metadata": {},
   "outputs": [],
   "source": [
    "X_val = []\n",
    "y_val = []\n",
    "\n",
    "for img_name in valid_data.new_names:\n",
    "    X_val.append('data/validation_data/C-NMC_test_prelim_phase_data/' + img_name)\n",
    "for label_name in valid_data.labels.values:\n",
    "    y_val.append(label_name)"
   ]
  },
  {
   "cell_type": "markdown",
   "metadata": {},
   "source": [
    "<h3 style=\"color:000000\">Data preprocessing</h3>\n",
    "<h3 style=\"color:blue\">Parameter Selecting</h3>"
   ]
  },
  {
   "cell_type": "code",
   "execution_count": 8,
   "metadata": {},
   "outputs": [],
   "source": [
    "AUTOTUNE = tf.data.experimental.AUTOTUNE\n",
    "BATCH_SIZE = 32\n",
    "IMG_SIZE = 128\n",
    "EPOCHS = 100\n",
    "CLASS_NAMES = [\"ALL\", \"HEM\"]"
   ]
  },
  {
   "cell_type": "markdown",
   "metadata": {},
   "source": [
    "<h3 style=\"color:000000\">Data preprocessing</h3>\n",
    "<h3 style=\"color:blue\">ONE-HOT Encoding</h3>"
   ]
  },
  {
   "cell_type": "code",
   "execution_count": 9,
   "metadata": {},
   "outputs": [],
   "source": [
    "y_train = tf.keras.utils.to_categorical(np.array(y_train), 2)\n",
    "ds = tf.data.Dataset.from_tensor_slices((X_train,y_train))"
   ]
  },
  {
   "cell_type": "code",
   "execution_count": 10,
   "metadata": {},
   "outputs": [],
   "source": [
    "def process_dataset(image,label):\n",
    "    img = tf.io.read_file(image)\n",
    "    img = tf.io.decode_bmp(img, channels=3)\n",
    "    img = tf.image.resize(img, [IMG_SIZE,IMG_SIZE])\n",
    "    return img, label\n",
    "\n",
    "ds = ds.map(process_dataset, num_parallel_calls=AUTOTUNE)"
   ]
  },
  {
   "cell_type": "code",
   "execution_count": 11,
   "metadata": {
    "execution": {
     "iopub.execute_input": "2021-06-05T21:17:50.398793Z",
     "iopub.status.busy": "2021-06-05T21:17:50.398437Z",
     "iopub.status.idle": "2021-06-05T21:17:50.454292Z",
     "shell.execute_reply": "2021-06-05T21:17:50.452344Z",
     "shell.execute_reply.started": "2021-06-05T21:17:50.398726Z"
    }
   },
   "outputs": [
    {
     "name": "stdout",
     "output_type": "stream",
     "text": [
      "Training dataset : 8529\n",
      "Validation dataset : 2132\n"
     ]
    }
   ],
   "source": [
    "val_size = int(len(images) * 0.2)\n",
    "ds = ds.shuffle(10000)\n",
    "\n",
    "val_ds = ds.take(val_size)\n",
    "train_ds = ds.skip(val_size)\n",
    "\n",
    "print('Training dataset :',tf.data.experimental.cardinality(train_ds).numpy())\n",
    "print('Validation dataset :',tf.data.experimental.cardinality(val_ds).numpy())"
   ]
  },
  {
   "cell_type": "code",
   "execution_count": 12,
   "metadata": {},
   "outputs": [],
   "source": [
    "def prepare_for_training(ds):\n",
    "    ds = ds.cache()\n",
    "    ds = ds.shuffle(buffer_size=1000)\n",
    "    ds = ds.batch(BATCH_SIZE)\n",
    "    ds = ds.prefetch(buffer_size=AUTOTUNE)\n",
    "    return ds\n",
    "\n",
    "train_ds = prepare_for_training(train_ds)\n",
    "val_ds = prepare_for_training(val_ds)"
   ]
  },
  {
   "cell_type": "code",
   "execution_count": 13,
   "metadata": {},
   "outputs": [],
   "source": [
    "normalization_layer = layers.experimental.preprocessing.Rescaling(1./255)\n",
    "train_ds = train_ds.map(lambda x, y: (normalization_layer(x), y))\n",
    "val_ds = val_ds.map(lambda x, y: (normalization_layer(x), y))"
   ]
  },
  {
   "cell_type": "code",
   "execution_count": 14,
   "metadata": {},
   "outputs": [
    {
     "data": {
      "text/plain": [
       "((8529, 128, 128, 3), (8529, 2), (2132, 128, 128, 3), (2132, 2))"
      ]
     },
     "execution_count": 14,
     "metadata": {},
     "output_type": "execute_result"
    }
   ],
   "source": [
    "X_train = np.concatenate([x for x, y in train_ds], axis=0)\n",
    "y_train = np.concatenate([y for x, y in train_ds], axis=0)\n",
    "X_val = np.concatenate([x for x, y in val_ds], axis=0)\n",
    "y_val = np.concatenate([y for x, y in val_ds], axis=0)\n",
    "\n",
    "X_train.shape,y_train.shape,X_val.shape,y_val.shape,"
   ]
  },
  {
   "cell_type": "markdown",
   "metadata": {},
   "source": [
    "<h3 style=\"color:000000\">Convolutional Neural Network</h3>\n",
    "<h3 style=\"color:blue\">InceptionV3</h3>"
   ]
  },
  {
   "cell_type": "markdown",
   "metadata": {},
   "source": [
    "![inceptionv3onc--oview_vjAbOfw.png](./images/inceptionv3onc--oview_vjAbOfw.png)"
   ]
  },
  {
   "cell_type": "markdown",
   "metadata": {},
   "source": [
    "<h3 style=\"color:000000\">InceptionV3</h3>\n",
    "<h3 style=\"color:blue\">Model Tuning</h3>"
   ]
  },
  {
   "cell_type": "code",
   "execution_count": 17,
   "metadata": {},
   "outputs": [],
   "source": [
    "inception_v3 = 'https://tfhub.dev/google/tf2-preview/inception_v3/feature_vector/4'\n",
    "\n",
    "inception_v3_model = tf.keras.Sequential([\n",
    "    hub.KerasLayer(inception_v3, output_shape=[2048], input_shape=(IMG_SIZE, IMG_SIZE,3), trainable=False)\n",
    "])"
   ]
  },
  {
   "cell_type": "code",
   "execution_count": 18,
   "metadata": {},
   "outputs": [],
   "source": [
    "model = tf.keras.Sequential([\n",
    "    \n",
    "    inception_v3_model,\n",
    "    \n",
    "    tf.keras.layers.Flatten(),\n",
    "    tf.keras.layers.Dense(1024, activation='relu'),\n",
    "    tf.keras.layers.Dropout(0.5),\n",
    "\n",
    "    tf.keras.layers.Dense(512, activation='relu'),\n",
    "    tf.keras.layers.Dropout(0.4),\n",
    "\n",
    "    tf.keras.layers.Dense(128, activation='relu'),\n",
    "    tf.keras.layers.Dropout(0.3),\n",
    "\n",
    "    tf.keras.layers.Dense(64, activation='relu'),\n",
    "    tf.keras.layers.Dropout(0.2),\n",
    "\n",
    "    layers.Dense(2, activation = \"softmax\")\n",
    "])\n",
    "\n",
    "model.compile(\n",
    "    loss=\"categorical_crossentropy\", \n",
    "    metrics = ['accuracy'], \n",
    "    optimizer = 'adam'\n",
    ")"
   ]
  },
  {
   "cell_type": "code",
   "execution_count": 19,
   "metadata": {},
   "outputs": [
    {
     "name": "stdout",
     "output_type": "stream",
     "text": [
      "Model: \"sequential_1\"\n",
      "_________________________________________________________________\n",
      "Layer (type)                 Output Shape              Param #   \n",
      "=================================================================\n",
      "sequential (Sequential)      (None, 2048)              21802784  \n",
      "_________________________________________________________________\n",
      "flatten (Flatten)            (None, 2048)              0         \n",
      "_________________________________________________________________\n",
      "dense (Dense)                (None, 1024)              2098176   \n",
      "_________________________________________________________________\n",
      "dropout (Dropout)            (None, 1024)              0         \n",
      "_________________________________________________________________\n",
      "dense_1 (Dense)              (None, 512)               524800    \n",
      "_________________________________________________________________\n",
      "dropout_1 (Dropout)          (None, 512)               0         \n",
      "_________________________________________________________________\n",
      "dense_2 (Dense)              (None, 128)               65664     \n",
      "_________________________________________________________________\n",
      "dropout_2 (Dropout)          (None, 128)               0         \n",
      "_________________________________________________________________\n",
      "dense_3 (Dense)              (None, 64)                8256      \n",
      "_________________________________________________________________\n",
      "dropout_3 (Dropout)          (None, 64)                0         \n",
      "_________________________________________________________________\n",
      "dense_4 (Dense)              (None, 2)                 130       \n",
      "=================================================================\n",
      "Total params: 24,499,810\n",
      "Trainable params: 2,697,026\n",
      "Non-trainable params: 21,802,784\n",
      "_________________________________________________________________\n"
     ]
    }
   ],
   "source": [
    "model.summary()"
   ]
  },
  {
   "cell_type": "markdown",
   "metadata": {},
   "source": [
    "<h3 style=\"color:000000\">Data preprocessing cont.</h3>\n",
    "<h3 style=\"color:blue\">Balancing Weights</h3>"
   ]
  },
  {
   "cell_type": "code",
   "execution_count": 20,
   "metadata": {},
   "outputs": [
    {
     "name": "stdout",
     "output_type": "stream",
     "text": [
      "Total ALL: 7272\n",
      "Total Normal: 3389\n",
      "Initial bias: 0.76350\n",
      "Weight for class 0: 0.73\n",
      "Weight for class 1: 1.57\n",
      "{0: 0.7330170517051705, 1: 1.5728828562997934}\n"
     ]
    }
   ],
   "source": [
    "train_0 = len(df[df.labels == 0])\n",
    "train_1 = len(df[df.labels == 1])\n",
    "train_total = train_0 + train_1\n",
    "\n",
    "initial_bias = np.log([train_0 / train_1])\n",
    "\n",
    "weight_0 = (1 / train_0) * (train_total) / 2.0\n",
    "weight_1 = (1 / train_1) * (train_total) / 2.0\n",
    "\n",
    "class_weight = {0: weight_0, 1: weight_1}\n",
    "\n",
    "print(\"Total ALL: \" + format(train_0))\n",
    "print(\"Total Normal: \" + format(train_1))\n",
    "print(\"Initial bias: {:.5f}\".format(initial_bias[0]))\n",
    "print(\"Weight for class 0: {:.2f}\".format(weight_0))\n",
    "print(\"Weight for class 1: {:.2f}\".format(weight_1))\n",
    "print(class_weight)"
   ]
  },
  {
   "cell_type": "markdown",
   "metadata": {},
   "source": [
    "<h3 style=\"color:000000\">InceptionV3</h3>\n",
    "<h3 style=\"color:blue\">Callbacks</h3>"
   ]
  },
  {
   "cell_type": "code",
   "execution_count": 19,
   "metadata": {
    "_kg_hide-output": true
   },
   "outputs": [],
   "source": [
    "callbacks = [\n",
    "    tf.keras.callbacks.ModelCheckpoint(\"model.h5\", verbose = 1, save_best_only=True),\n",
    "    tf.keras.callbacks.EarlyStopping(verbose = 1, patience=10, restore_best_weights=True)\n",
    "]"
   ]
  },
  {
   "cell_type": "markdown",
   "metadata": {},
   "source": [
    "<h3 style=\"color:000000\">InceptionV3</h3>\n",
    "<h3 style=\"color:blue\">Training</h3>"
   ]
  },
  {
   "cell_type": "code",
   "execution_count": 21,
   "metadata": {},
   "outputs": [
    {
     "name": "stdout",
     "output_type": "stream",
     "text": [
      "WARNING:tensorflow:From C:\\Users\\ASUS\\miniconda3\\envs\\CMPE462Project\\lib\\site-packages\\tensorflow\\python\\ops\\array_ops.py:5049: calling gather (from tensorflow.python.ops.array_ops) with validate_indices is deprecated and will be removed in a future version.\n",
      "Instructions for updating:\n",
      "The `validate_indices` argument has no effect. Indices are always validated on CPU and never validated on GPU.\n"
     ]
    },
    {
     "name": "stderr",
     "output_type": "stream",
     "text": [
      "WARNING:tensorflow:From C:\\Users\\ASUS\\miniconda3\\envs\\CMPE462Project\\lib\\site-packages\\tensorflow\\python\\ops\\array_ops.py:5049: calling gather (from tensorflow.python.ops.array_ops) with validate_indices is deprecated and will be removed in a future version.\n",
      "Instructions for updating:\n",
      "The `validate_indices` argument has no effect. Indices are always validated on CPU and never validated on GPU.\n"
     ]
    },
    {
     "name": "stdout",
     "output_type": "stream",
     "text": [
      "Epoch 1/100\n",
      "334/334 [==============================] - 60s 141ms/step - loss: 0.7374 - accuracy: 0.6661 - val_loss: 0.5255 - val_accuracy: 0.7786\n",
      "\n",
      "Epoch 00001: val_loss improved from inf to 0.52550, saving model to model.h5\n",
      "Epoch 2/100\n",
      "334/334 [==============================] - 44s 132ms/step - loss: 0.5461 - accuracy: 0.7569 - val_loss: 0.4655 - val_accuracy: 0.8133\n",
      "\n",
      "Epoch 00002: val_loss improved from 0.52550 to 0.46549, saving model to model.h5\n",
      "Epoch 3/100\n",
      "334/334 [==============================] - 44s 133ms/step - loss: 0.5289 - accuracy: 0.7756 - val_loss: 0.5060 - val_accuracy: 0.8171\n",
      "\n",
      "Epoch 00003: val_loss did not improve from 0.46549\n",
      "Epoch 4/100\n",
      "334/334 [==============================] - 46s 137ms/step - loss: 0.5108 - accuracy: 0.7884 - val_loss: 0.5082 - val_accuracy: 0.8344\n",
      "\n",
      "Epoch 00004: val_loss did not improve from 0.46549\n",
      "Epoch 5/100\n",
      "334/334 [==============================] - 47s 140ms/step - loss: 0.5016 - accuracy: 0.7944 - val_loss: 0.4770 - val_accuracy: 0.8340\n",
      "\n",
      "Epoch 00005: val_loss did not improve from 0.46549\n",
      "Epoch 6/100\n",
      "334/334 [==============================] - 47s 141ms/step - loss: 0.4912 - accuracy: 0.8034 - val_loss: 0.4711 - val_accuracy: 0.8279\n",
      "\n",
      "Epoch 00006: val_loss did not improve from 0.46549\n",
      "Epoch 7/100\n",
      "334/334 [==============================] - 48s 143ms/step - loss: 0.4836 - accuracy: 0.8040 - val_loss: 0.4419 - val_accuracy: 0.8480\n",
      "\n",
      "Epoch 00007: val_loss improved from 0.46549 to 0.44187, saving model to model.h5\n",
      "Epoch 8/100\n",
      "334/334 [==============================] - 47s 141ms/step - loss: 0.4796 - accuracy: 0.8071 - val_loss: 0.4800 - val_accuracy: 0.8072\n",
      "\n",
      "Epoch 00008: val_loss did not improve from 0.44187\n",
      "Epoch 9/100\n",
      "334/334 [==============================] - 48s 143ms/step - loss: 0.4707 - accuracy: 0.8097 - val_loss: 0.4248 - val_accuracy: 0.8311\n",
      "\n",
      "Epoch 00009: val_loss improved from 0.44187 to 0.42476, saving model to model.h5\n",
      "Epoch 10/100\n",
      "334/334 [==============================] - 47s 141ms/step - loss: 0.4625 - accuracy: 0.8126 - val_loss: 0.4547 - val_accuracy: 0.8204\n",
      "\n",
      "Epoch 00010: val_loss did not improve from 0.42476\n",
      "Epoch 11/100\n",
      "334/334 [==============================] - 48s 145ms/step - loss: 0.4643 - accuracy: 0.8150 - val_loss: 0.4826 - val_accuracy: 0.8096\n",
      "\n",
      "Epoch 00011: val_loss did not improve from 0.42476\n",
      "Epoch 12/100\n",
      "334/334 [==============================] - 49s 146ms/step - loss: 0.4548 - accuracy: 0.8156 - val_loss: 0.4402 - val_accuracy: 0.8551\n",
      "\n",
      "Epoch 00012: val_loss did not improve from 0.42476\n",
      "Epoch 13/100\n",
      "334/334 [==============================] - 49s 146ms/step - loss: 0.4542 - accuracy: 0.8228 - val_loss: 0.4345 - val_accuracy: 0.8396\n",
      "\n",
      "Epoch 00013: val_loss did not improve from 0.42476\n",
      "Epoch 14/100\n",
      "334/334 [==============================] - 49s 147ms/step - loss: 0.4485 - accuracy: 0.8243 - val_loss: 0.4234 - val_accuracy: 0.8377\n",
      "\n",
      "Epoch 00014: val_loss improved from 0.42476 to 0.42344, saving model to model.h5\n",
      "Epoch 15/100\n",
      "334/334 [==============================] - 48s 143ms/step - loss: 0.4445 - accuracy: 0.8238 - val_loss: 0.4234 - val_accuracy: 0.8635\n",
      "\n",
      "Epoch 00015: val_loss improved from 0.42344 to 0.42342, saving model to model.h5\n",
      "Epoch 16/100\n",
      "334/334 [==============================] - 48s 144ms/step - loss: 0.4453 - accuracy: 0.8268 - val_loss: 0.3893 - val_accuracy: 0.8654\n",
      "\n",
      "Epoch 00016: val_loss improved from 0.42342 to 0.38934, saving model to model.h5\n",
      "Epoch 17/100\n",
      "334/334 [==============================] - 48s 144ms/step - loss: 0.4418 - accuracy: 0.8280 - val_loss: 0.3787 - val_accuracy: 0.8574\n",
      "\n",
      "Epoch 00017: val_loss improved from 0.38934 to 0.37870, saving model to model.h5\n",
      "Epoch 18/100\n",
      "334/334 [==============================] - 48s 144ms/step - loss: 0.4380 - accuracy: 0.8284 - val_loss: 0.3901 - val_accuracy: 0.8555\n",
      "\n",
      "Epoch 00018: val_loss did not improve from 0.37870\n",
      "Epoch 19/100\n",
      "334/334 [==============================] - 49s 148ms/step - loss: 0.4341 - accuracy: 0.8321 - val_loss: 0.3592 - val_accuracy: 0.8659\n",
      "\n",
      "Epoch 00019: val_loss improved from 0.37870 to 0.35916, saving model to model.h5\n",
      "Epoch 20/100\n",
      "334/334 [==============================] - 48s 144ms/step - loss: 0.4363 - accuracy: 0.8285 - val_loss: 0.4201 - val_accuracy: 0.8649\n",
      "\n",
      "Epoch 00020: val_loss did not improve from 0.35916\n",
      "Epoch 21/100\n",
      "334/334 [==============================] - 50s 148ms/step - loss: 0.4377 - accuracy: 0.8300 - val_loss: 0.3851 - val_accuracy: 0.8626\n",
      "\n",
      "Epoch 00021: val_loss did not improve from 0.35916\n",
      "Epoch 22/100\n",
      "334/334 [==============================] - 50s 148ms/step - loss: 0.4294 - accuracy: 0.8366 - val_loss: 0.3812 - val_accuracy: 0.8715\n",
      "\n",
      "Epoch 00022: val_loss did not improve from 0.35916\n",
      "Epoch 23/100\n",
      "334/334 [==============================] - 50s 150ms/step - loss: 0.4236 - accuracy: 0.8358 - val_loss: 0.3753 - val_accuracy: 0.8752\n",
      "\n",
      "Epoch 00023: val_loss did not improve from 0.35916\n",
      "Epoch 24/100\n",
      "334/334 [==============================] - 50s 150ms/step - loss: 0.4219 - accuracy: 0.8387 - val_loss: 0.3726 - val_accuracy: 0.8729\n",
      "\n",
      "Epoch 00024: val_loss did not improve from 0.35916\n",
      "Epoch 25/100\n",
      "334/334 [==============================] - 50s 150ms/step - loss: 0.4262 - accuracy: 0.8310 - val_loss: 0.3964 - val_accuracy: 0.8607\n",
      "\n",
      "Epoch 00025: val_loss did not improve from 0.35916\n",
      "Epoch 26/100\n",
      "334/334 [==============================] - 50s 150ms/step - loss: 0.4207 - accuracy: 0.8416 - val_loss: 0.3918 - val_accuracy: 0.8729\n",
      "\n",
      "Epoch 00026: val_loss did not improve from 0.35916\n",
      "Epoch 27/100\n",
      "334/334 [==============================] - 50s 150ms/step - loss: 0.4148 - accuracy: 0.8420 - val_loss: 0.3666 - val_accuracy: 0.8743\n",
      "\n",
      "Epoch 00027: val_loss did not improve from 0.35916\n",
      "Epoch 28/100\n",
      "334/334 [==============================] - 50s 150ms/step - loss: 0.4184 - accuracy: 0.8382 - val_loss: 0.3941 - val_accuracy: 0.8841\n",
      "\n",
      "Epoch 00028: val_loss did not improve from 0.35916\n",
      "Epoch 29/100\n",
      "334/334 [==============================] - 50s 150ms/step - loss: 0.4063 - accuracy: 0.8453 - val_loss: 0.3450 - val_accuracy: 0.8795\n",
      "\n",
      "Epoch 00029: val_loss improved from 0.35916 to 0.34497, saving model to model.h5\n",
      "Epoch 30/100\n",
      "334/334 [==============================] - 49s 146ms/step - loss: 0.4067 - accuracy: 0.8495 - val_loss: 0.3581 - val_accuracy: 0.8729\n",
      "\n",
      "Epoch 00030: val_loss did not improve from 0.34497\n",
      "Epoch 31/100\n",
      "334/334 [==============================] - 50s 150ms/step - loss: 0.4141 - accuracy: 0.8452 - val_loss: 0.3922 - val_accuracy: 0.8841\n",
      "\n",
      "Epoch 00031: val_loss did not improve from 0.34497\n",
      "Epoch 32/100\n",
      "334/334 [==============================] - 50s 150ms/step - loss: 0.4044 - accuracy: 0.8416 - val_loss: 0.4149 - val_accuracy: 0.8560\n",
      "\n",
      "Epoch 00032: val_loss did not improve from 0.34497\n",
      "Epoch 33/100\n",
      "334/334 [==============================] - 50s 150ms/step - loss: 0.3995 - accuracy: 0.8486 - val_loss: 0.3767 - val_accuracy: 0.8762\n",
      "\n",
      "Epoch 00033: val_loss did not improve from 0.34497\n",
      "Epoch 34/100\n",
      "334/334 [==============================] - 50s 150ms/step - loss: 0.3962 - accuracy: 0.8474 - val_loss: 0.3418 - val_accuracy: 0.8602\n",
      "\n",
      "Epoch 00034: val_loss improved from 0.34497 to 0.34184, saving model to model.h5\n",
      "Epoch 35/100\n",
      "334/334 [==============================] - 49s 146ms/step - loss: 0.3963 - accuracy: 0.8497 - val_loss: 0.3746 - val_accuracy: 0.8724\n",
      "\n",
      "Epoch 00035: val_loss did not improve from 0.34184\n",
      "Epoch 36/100\n",
      "334/334 [==============================] - 50s 149ms/step - loss: 0.4063 - accuracy: 0.8498 - val_loss: 0.3505 - val_accuracy: 0.8870\n",
      "\n",
      "Epoch 00036: val_loss did not improve from 0.34184\n",
      "Epoch 37/100\n",
      "334/334 [==============================] - 50s 150ms/step - loss: 0.3962 - accuracy: 0.8521 - val_loss: 0.3493 - val_accuracy: 0.8879\n",
      "\n",
      "Epoch 00037: val_loss did not improve from 0.34184\n",
      "Epoch 38/100\n",
      "334/334 [==============================] - 50s 150ms/step - loss: 0.3997 - accuracy: 0.8449 - val_loss: 0.3675 - val_accuracy: 0.8644\n",
      "\n",
      "Epoch 00038: val_loss did not improve from 0.34184\n",
      "Epoch 39/100\n",
      "334/334 [==============================] - 50s 150ms/step - loss: 0.3987 - accuracy: 0.8552 - val_loss: 0.3408 - val_accuracy: 0.8926\n",
      "\n",
      "Epoch 00039: val_loss improved from 0.34184 to 0.34079, saving model to model.h5\n",
      "Epoch 40/100\n",
      "334/334 [==============================] - 49s 146ms/step - loss: 0.4106 - accuracy: 0.8443 - val_loss: 0.3847 - val_accuracy: 0.8865\n",
      "\n",
      "Epoch 00040: val_loss did not improve from 0.34079\n",
      "Epoch 41/100\n",
      "334/334 [==============================] - 50s 149ms/step - loss: 0.3928 - accuracy: 0.8578 - val_loss: 0.3467 - val_accuracy: 0.8996\n",
      "\n",
      "Epoch 00041: val_loss did not improve from 0.34079\n",
      "Epoch 42/100\n",
      "334/334 [==============================] - 50s 150ms/step - loss: 0.3985 - accuracy: 0.8528 - val_loss: 0.3413 - val_accuracy: 0.8917\n",
      "\n",
      "Epoch 00042: val_loss did not improve from 0.34079\n",
      "Epoch 43/100\n",
      "334/334 [==============================] - 50s 151ms/step - loss: 0.3954 - accuracy: 0.8523 - val_loss: 0.3341 - val_accuracy: 0.8865\n",
      "\n",
      "Epoch 00043: val_loss improved from 0.34079 to 0.33408, saving model to model.h5\n",
      "Epoch 44/100\n",
      "334/334 [==============================] - 48s 145ms/step - loss: 0.3866 - accuracy: 0.8546 - val_loss: 0.3628 - val_accuracy: 0.8780\n",
      "\n",
      "Epoch 00044: val_loss did not improve from 0.33408\n",
      "Epoch 45/100\n",
      "334/334 [==============================] - 50s 149ms/step - loss: 0.3791 - accuracy: 0.8584 - val_loss: 0.3059 - val_accuracy: 0.8954\n",
      "\n",
      "Epoch 00045: val_loss improved from 0.33408 to 0.30585, saving model to model.h5\n",
      "Epoch 46/100\n",
      "334/334 [==============================] - 49s 146ms/step - loss: 0.3777 - accuracy: 0.8576 - val_loss: 0.3352 - val_accuracy: 0.8710\n",
      "\n",
      "Epoch 00046: val_loss did not improve from 0.30585\n",
      "Epoch 47/100\n",
      "334/334 [==============================] - 50s 150ms/step - loss: 0.3774 - accuracy: 0.8605 - val_loss: 0.3171 - val_accuracy: 0.8992\n",
      "\n",
      "Epoch 00047: val_loss did not improve from 0.30585\n",
      "Epoch 48/100\n",
      "334/334 [==============================] - 50s 151ms/step - loss: 0.3778 - accuracy: 0.8652 - val_loss: 0.3560 - val_accuracy: 0.8851\n",
      "\n",
      "Epoch 00048: val_loss did not improve from 0.30585\n",
      "Epoch 49/100\n",
      "334/334 [==============================] - 50s 150ms/step - loss: 0.3705 - accuracy: 0.8659 - val_loss: 0.3001 - val_accuracy: 0.9109\n",
      "\n",
      "Epoch 00049: val_loss improved from 0.30585 to 0.30010, saving model to model.h5\n",
      "Epoch 50/100\n",
      "334/334 [==============================] - 49s 145ms/step - loss: 0.3696 - accuracy: 0.8686 - val_loss: 0.3334 - val_accuracy: 0.9067\n",
      "\n",
      "Epoch 00050: val_loss did not improve from 0.30010\n",
      "Epoch 51/100\n",
      "334/334 [==============================] - 50s 148ms/step - loss: 0.3679 - accuracy: 0.8710 - val_loss: 0.3053 - val_accuracy: 0.9062\n",
      "\n",
      "Epoch 00051: val_loss did not improve from 0.30010\n",
      "Epoch 52/100\n",
      "334/334 [==============================] - 50s 150ms/step - loss: 0.3665 - accuracy: 0.8631 - val_loss: 0.2786 - val_accuracy: 0.9034\n",
      "\n",
      "Epoch 00052: val_loss improved from 0.30010 to 0.27858, saving model to model.h5\n",
      "Epoch 53/100\n",
      "334/334 [==============================] - 49s 146ms/step - loss: 0.3585 - accuracy: 0.8722 - val_loss: 0.3484 - val_accuracy: 0.8860\n",
      "\n",
      "Epoch 00053: val_loss did not improve from 0.27858\n",
      "Epoch 54/100\n",
      "334/334 [==============================] - 50s 148ms/step - loss: 0.3769 - accuracy: 0.8615 - val_loss: 0.2816 - val_accuracy: 0.9043\n",
      "\n",
      "Epoch 00054: val_loss did not improve from 0.27858\n",
      "Epoch 55/100\n",
      "334/334 [==============================] - 50s 149ms/step - loss: 0.3593 - accuracy: 0.8760 - val_loss: 0.2961 - val_accuracy: 0.8992\n",
      "\n",
      "Epoch 00055: val_loss did not improve from 0.27858\n",
      "Epoch 56/100\n",
      "334/334 [==============================] - 50s 150ms/step - loss: 0.3837 - accuracy: 0.8641 - val_loss: 0.3143 - val_accuracy: 0.9038\n",
      "\n",
      "Epoch 00056: val_loss did not improve from 0.27858\n",
      "Epoch 57/100\n",
      "334/334 [==============================] - 50s 150ms/step - loss: 0.3707 - accuracy: 0.8648 - val_loss: 0.3213 - val_accuracy: 0.9114\n",
      "\n",
      "Epoch 00057: val_loss did not improve from 0.27858\n",
      "Epoch 58/100\n",
      "334/334 [==============================] - 50s 150ms/step - loss: 0.3759 - accuracy: 0.8658 - val_loss: 0.3263 - val_accuracy: 0.8954\n",
      "\n",
      "Epoch 00058: val_loss did not improve from 0.27858\n",
      "Epoch 59/100\n",
      "334/334 [==============================] - 50s 150ms/step - loss: 0.3696 - accuracy: 0.8670 - val_loss: 0.2946 - val_accuracy: 0.9010\n",
      "\n",
      "Epoch 00059: val_loss did not improve from 0.27858\n",
      "Epoch 60/100\n",
      "334/334 [==============================] - 50s 150ms/step - loss: 0.3607 - accuracy: 0.8721 - val_loss: 0.2852 - val_accuracy: 0.9118\n",
      "\n",
      "Epoch 00060: val_loss did not improve from 0.27858\n",
      "Epoch 61/100\n",
      "334/334 [==============================] - 50s 150ms/step - loss: 0.3605 - accuracy: 0.8703 - val_loss: 0.2979 - val_accuracy: 0.9076\n",
      "\n",
      "Epoch 00061: val_loss did not improve from 0.27858\n",
      "Epoch 62/100\n",
      "334/334 [==============================] - 50s 150ms/step - loss: 0.3599 - accuracy: 0.8733 - val_loss: 0.2941 - val_accuracy: 0.9053\n",
      "\n",
      "Epoch 00062: val_loss did not improve from 0.27858\n",
      "Restoring model weights from the end of the best epoch.\n",
      "Epoch 00062: early stopping\n"
     ]
    }
   ],
   "source": [
    "H = model.fit(\n",
    "    train_ds,\n",
    "    epochs = EPOCHS,\n",
    "    validation_data = val_ds,\n",
    "    callbacks = callbacks,\n",
    "    class_weight = class_weight)"
   ]
  },
  {
   "cell_type": "code",
   "execution_count": 22,
   "metadata": {},
   "outputs": [],
   "source": [
    "model.save('inceptionv3-model')"
   ]
  },
  {
   "cell_type": "code",
   "execution_count": 23,
   "metadata": {},
   "outputs": [
    {
     "name": "stdout",
     "output_type": "stream",
     "text": [
      "\n",
      "val_accuracy: 87.06%\n",
      "\n",
      "accuracy: 83.78%\n"
     ]
    }
   ],
   "source": [
    "val_accuracy = np.mean(H.history['val_accuracy'])\n",
    "print(\"\\n%s: %.2f%%\" % ('val_accuracy', val_accuracy*100))\n",
    "\n",
    "\n",
    "accuracy = np.mean(H.history['accuracy'])\n",
    "print(\"\\n%s: %.2f%%\" % ('accuracy', accuracy*100))"
   ]
  },
  {
   "cell_type": "code",
   "execution_count": 25,
   "metadata": {},
   "outputs": [
    {
     "data": {
      "image/png": "[encoded data removed]",
      "text/plain": [
       "<Figure size 1008x288 with 2 Axes>"
      ]
     },
     "metadata": {},
     "output_type": "display_data"
    }
   ],
   "source": [
    "history_df = pd.DataFrame(H.history)\n",
    "\n",
    "plt.figure(figsize=(14, 4))\n",
    "plt.subplot(1,2,1)\n",
    "sns.scatterplot(data=history_df[['accuracy','val_accuracy']], palette=['#E2485A', '#679B8B']);\n",
    "plt.legend(loc='lower right')\n",
    "plt.title('Training and Validation Accuracy')\n",
    "\n",
    "plt.subplot(1,2,2)\n",
    "sns.scatterplot(data=history_df[['loss','val_loss']], palette=['#E2485A', '#679B8B'])\n",
    "plt.title('Training and Validation Loss')\n",
    "\n",
    "plt.show()"
   ]
  },
  {
   "cell_type": "code",
   "execution_count": 21,
   "metadata": {},
   "outputs": [
    {
     "name": "stdout",
     "output_type": "stream",
     "text": [
      "WARNING:tensorflow:SavedModel saved prior to TF 2.5 detected when loading Keras model. Please ensure that you are saving the model with model.save() or tf.keras.models.save_model(), *NOT* tf.saved_model.save(). To confirm, there should be a file named \"keras_metadata.pb\" in the SavedModel directory.\n"
     ]
    },
    {
     "name": "stderr",
     "output_type": "stream",
     "text": [
      "WARNING:tensorflow:SavedModel saved prior to TF 2.5 detected when loading Keras model. Please ensure that you are saving the model with model.save() or tf.keras.models.save_model(), *NOT* tf.saved_model.save(). To confirm, there should be a file named \"keras_metadata.pb\" in the SavedModel directory.\n"
     ]
    }
   ],
   "source": [
    "model = tf.keras.models.load_model('inceptionv3-model')"
   ]
  },
  {
   "cell_type": "code",
   "execution_count": 21,
   "metadata": {},
   "outputs": [
    {
     "data": {
      "image/png": "[encoded data removed]",
      "text/plain": [
       "<Figure size 576x432 with 2 Axes>"
      ]
     },
     "metadata": {
      "needs_background": "light"
     },
     "output_type": "display_data"
    }
   ],
   "source": [
    "y_test_arg=np.argmax(y_val,axis=1)\n",
    "Y_pred = np.argmax(model.predict(X_val),axis=1)\n",
    "cm = confusion_matrix(y_test_arg, Y_pred)\n",
    "plot_confusion_matrix(cm=cm, normalize=False,target_names=CLASS_NAMES)"
   ]
  },
  {
   "cell_type": "code",
   "execution_count": 47,
   "metadata": {},
   "outputs": [
    {
     "name": "stdout",
     "output_type": "stream",
     "text": [
      "              precision    recall  f1-score   support\n",
      "\n",
      "         ALL       0.69      0.73      0.71      1473\n",
      "         HEM       0.31      0.26      0.28       659\n",
      "\n",
      "    accuracy                           0.59      2132\n",
      "   macro avg       0.50      0.50      0.50      2132\n",
      "weighted avg       0.57      0.59      0.58      2132\n",
      "\n"
     ]
    }
   ],
   "source": [
    "print(classification_report(y_test_arg, Y_pred, target_names=CLASS_NAMES))"
   ]
  },
  {
   "cell_type": "code",
   "execution_count": null,
   "metadata": {},
   "outputs": [],
   "source": [
    "#new_model = tf.keras.models.load_model('inceptionv3-model/model.h5',custom_objects={'KerasLayer':hub.KerasLayer})\n",
    "#new_model.summary()"
   ]
  },
  {
   "cell_type": "code",
   "execution_count": 30,
   "metadata": {
    "scrolled": true
   },
   "outputs": [
    {
     "name": "stdout",
     "output_type": "stream",
     "text": [
      "[0.9826962 0.0173038]\n",
      "UID_57_9_1_all.bmp\n"
     ]
    },
    {
     "data": {
      "image/png": "[encoded data removed]",
      "text/plain": [
       "<Figure size 432x288 with 1 Axes>"
      ]
     },
     "metadata": {
      "needs_background": "light"
     },
     "output_type": "display_data"
    }
   ],
   "source": [
    "test_img_path = random.choice(valid_dataset)\n",
    "\n",
    "test_img = cv.imread(test_img_path)\n",
    "\n",
    "img = cv.imread(test_img_path)\n",
    "img = cv.resize(img, (128,128))\n",
    "img = img.astype(\"float\") / 255.0\n",
    "img = img_to_array(img)\n",
    "img = np.expand_dims(img, axis=0)\n",
    "\n",
    "preds = model.predict(img)[0]\n",
    "print(preds)\n",
    "\n",
    "j = np.argmax(preds)\n",
    "label = CLASS_NAMES[j]\n",
    "\n",
    "bmp_f = test_img_path.split(os.sep)[-1]\n",
    "\n",
    "label = \"{}: {:.2f}%\".format(label, preds[j])\n",
    "\n",
    "\n",
    "plt.title(label)\n",
    "plt.imshow(test_img)\n",
    "\n",
    "print(valid_data[valid_data[\"new_names\"] == bmp_f].Patient_ID.values[0])"
   ]
  },
  {
   "cell_type": "code",
   "execution_count": null,
   "metadata": {},
   "outputs": [],
   "source": []
  }
 ],
 "metadata": {
  "kernelspec": {
   "display_name": "leuk-class-proj",
   "language": "python",
   "name": "leuk-class-proj"
  },
  "language_info": {
   "codemirror_mode": {
    "name": "ipython",
    "version": 3
   },
   "file_extension": ".py",
   "mimetype": "text/x-python",
   "name": "python",
   "nbconvert_exporter": "python",
   "pygments_lexer": "ipython3",
   "version": "3.6.13"
  }
 },
 "nbformat": 4,
 "nbformat_minor": 4
}
