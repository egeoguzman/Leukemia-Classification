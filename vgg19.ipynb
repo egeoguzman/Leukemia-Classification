{
 "cells": [
  {
   "cell_type": "markdown",
   "metadata": {},
   "source": [
    "<h1 style=\"color:000000\">Leukemia Classification</h1>"
   ]
  },
  {
   "cell_type": "markdown",
   "metadata": {},
   "source": [
    "<h3 style=\"color:000000\">Installing dependicies and packages</h3>"
   ]
  },
  {
   "cell_type": "code",
   "execution_count": 1,
   "metadata": {},
   "outputs": [
    {
     "name": "stdout",
     "output_type": "stream",
     "text": [
      "Requirement already satisfied: numpy in c:\\users\\asus\\miniconda3\\lib\\site-packages (1.19.5)\n",
      "Could not fetch URL https://pypi.org/simple/pip/: There was a problem confirming the ssl certificate: HTTPSConnectionPool(host='pypi.org', port=443): Max retries exceeded with url: /simple/pip/ (Caused by SSLError(\"Can't connect to HTTPS URL because the SSL module is not available.\")) - skipping\n"
     ]
    },
    {
     "name": "stderr",
     "output_type": "stream",
     "text": [
      "WARNING: pip is configured with locations that require TLS/SSL, however the ssl module in Python is not available.\n",
      "WARNING: pip is configured with locations that require TLS/SSL, however the ssl module in Python is not available.\n"
     ]
    },
    {
     "name": "stdout",
     "output_type": "stream",
     "text": [
      "Requirement already satisfied: pandas in c:\\users\\asus\\miniconda3\\lib\\site-packages (1.2.4)\n",
      "Requirement already satisfied: numpy>=1.16.5 in c:\\users\\asus\\miniconda3\\lib\\site-packages (from pandas) (1.19.5)\n",
      "Requirement already satisfied: pytz>=2017.3 in c:\\users\\asus\\miniconda3\\lib\\site-packages (from pandas) (2021.1)\n",
      "Requirement already satisfied: python-dateutil>=2.7.3 in c:\\users\\asus\\miniconda3\\lib\\site-packages (from pandas) (2.8.1)\n",
      "Requirement already satisfied: six>=1.5 in c:\\users\\asus\\miniconda3\\lib\\site-packages (from python-dateutil>=2.7.3->pandas) (1.15.0)\n",
      "Could not fetch URL https://pypi.org/simple/pip/: There was a problem confirming the ssl certificate: HTTPSConnectionPool(host='pypi.org', port=443): Max retries exceeded with url: /simple/pip/ (Caused by SSLError(\"Can't connect to HTTPS URL because the SSL module is not available.\")) - skipping\n"
     ]
    },
    {
     "name": "stderr",
     "output_type": "stream",
     "text": [
      "WARNING: pip is configured with locations that require TLS/SSL, however the ssl module in Python is not available.\n",
      "WARNING: pip is configured with locations that require TLS/SSL, however the ssl module in Python is not available.\n"
     ]
    },
    {
     "name": "stdout",
     "output_type": "stream",
     "text": [
      "Requirement already satisfied: matplotlib in c:\\users\\asus\\miniconda3\\lib\\site-packages (3.4.2)\n",
      "Requirement already satisfied: pyparsing>=2.2.1 in c:\\users\\asus\\miniconda3\\lib\\site-packages (from matplotlib) (2.4.7)\n",
      "Requirement already satisfied: python-dateutil>=2.7 in c:\\users\\asus\\miniconda3\\lib\\site-packages (from matplotlib) (2.8.1)\n",
      "Requirement already satisfied: kiwisolver>=1.0.1 in c:\\users\\asus\\miniconda3\\lib\\site-packages (from matplotlib) (1.3.1)\n",
      "Requirement already satisfied: numpy>=1.16 in c:\\users\\asus\\miniconda3\\lib\\site-packages (from matplotlib) (1.19.5)\n",
      "Requirement already satisfied: cycler>=0.10 in c:\\users\\asus\\miniconda3\\lib\\site-packages (from matplotlib) (0.10.0)\n",
      "Requirement already satisfied: pillow>=6.2.0 in c:\\users\\asus\\miniconda3\\lib\\site-packages (from matplotlib) (8.2.0)\n",
      "Requirement already satisfied: six in c:\\users\\asus\\miniconda3\\lib\\site-packages (from cycler>=0.10->matplotlib) (1.15.0)\n",
      "Requirement already satisfied: six in c:\\users\\asus\\miniconda3\\lib\\site-packages (from cycler>=0.10->matplotlib) (1.15.0)\n",
      "Could not fetch URL https://pypi.org/simple/pip/: There was a problem confirming the ssl certificate: HTTPSConnectionPool(host='pypi.org', port=443): Max retries exceeded with url: /simple/pip/ (Caused by SSLError(\"Can't connect to HTTPS URL because the SSL module is not available.\")) - skipping\n"
     ]
    },
    {
     "name": "stderr",
     "output_type": "stream",
     "text": [
      "WARNING: pip is configured with locations that require TLS/SSL, however the ssl module in Python is not available.\n",
      "WARNING: pip is configured with locations that require TLS/SSL, however the ssl module in Python is not available.\n"
     ]
    },
    {
     "name": "stdout",
     "output_type": "stream",
     "text": [
      "Requirement already satisfied: tensorflow in c:\\users\\asus\\miniconda3\\lib\\site-packages (2.5.0)\n",
      "Requirement already satisfied: flatbuffers~=1.12.0 in c:\\users\\asus\\miniconda3\\lib\\site-packages (from tensorflow) (1.12)\n",
      "Requirement already satisfied: google-pasta~=0.2 in c:\\users\\asus\\miniconda3\\lib\\site-packages (from tensorflow) (0.2.0)\n",
      "Requirement already satisfied: six~=1.15.0 in c:\\users\\asus\\miniconda3\\lib\\site-packages (from tensorflow) (1.15.0)\n",
      "Requirement already satisfied: astunparse~=1.6.3 in c:\\users\\asus\\miniconda3\\lib\\site-packages (from tensorflow) (1.6.3)\n",
      "Requirement already satisfied: keras-nightly~=2.5.0.dev in c:\\users\\asus\\miniconda3\\lib\\site-packages (from tensorflow) (2.5.0.dev2021032900)\n",
      "Requirement already satisfied: gast==0.4.0 in c:\\users\\asus\\miniconda3\\lib\\site-packages (from tensorflow) (0.4.0)\n",
      "Requirement already satisfied: keras-preprocessing~=1.1.2 in c:\\users\\asus\\miniconda3\\lib\\site-packages (from tensorflow) (1.1.2)\n",
      "Requirement already satisfied: numpy~=1.19.2 in c:\\users\\asus\\miniconda3\\lib\\site-packages (from tensorflow) (1.19.5)\n",
      "Requirement already satisfied: tensorflow-estimator<2.6.0,>=2.5.0rc0 in c:\\users\\asus\\miniconda3\\lib\\site-packages (from tensorflow) (2.5.0)\n",
      "Requirement already satisfied: opt-einsum~=3.3.0 in c:\\users\\asus\\miniconda3\\lib\\site-packages (from tensorflow) (3.3.0)\n",
      "Requirement already satisfied: wrapt~=1.12.1 in c:\\users\\asus\\miniconda3\\lib\\site-packages (from tensorflow) (1.12.1)\n",
      "Requirement already satisfied: termcolor~=1.1.0 in c:\\users\\asus\\miniconda3\\lib\\site-packages (from tensorflow) (1.1.0)\n",
      "Requirement already satisfied: protobuf>=3.9.2 in c:\\users\\asus\\miniconda3\\lib\\site-packages (from tensorflow) (3.17.0)\n",
      "Requirement already satisfied: typing-extensions~=3.7.4 in c:\\users\\asus\\miniconda3\\lib\\site-packages (from tensorflow) (3.7.4.3)\n",
      "Requirement already satisfied: absl-py~=0.10 in c:\\users\\asus\\miniconda3\\lib\\site-packages (from tensorflow) (0.12.0)\n",
      "Requirement already satisfied: grpcio~=1.34.0 in c:\\users\\asus\\miniconda3\\lib\\site-packages (from tensorflow) (1.34.1)\n",
      "Requirement already satisfied: h5py~=3.1.0 in c:\\users\\asus\\miniconda3\\lib\\site-packages (from tensorflow) (3.1.0)\n",
      "Requirement already satisfied: tensorboard~=2.5 in c:\\users\\asus\\miniconda3\\lib\\site-packages (from tensorflow) (2.5.0)\n",
      "Requirement already satisfied: wheel~=0.35 in c:\\users\\asus\\miniconda3\\lib\\site-packages (from tensorflow) (0.36.1)\n",
      "Requirement already satisfied: six~=1.15.0 in c:\\users\\asus\\miniconda3\\lib\\site-packages (from tensorflow) (1.15.0)\n",
      "Requirement already satisfied: six~=1.15.0 in c:\\users\\asus\\miniconda3\\lib\\site-packages (from tensorflow) (1.15.0)\n",
      "Requirement already satisfied: wheel~=0.35 in c:\\users\\asus\\miniconda3\\lib\\site-packages (from tensorflow) (0.36.1)\n",
      "Requirement already satisfied: six~=1.15.0 in c:\\users\\asus\\miniconda3\\lib\\site-packages (from tensorflow) (1.15.0)\n",
      "Requirement already satisfied: six~=1.15.0 in c:\\users\\asus\\miniconda3\\lib\\site-packages (from tensorflow) (1.15.0)\n",
      "Requirement already satisfied: numpy~=1.19.2 in c:\\users\\asus\\miniconda3\\lib\\site-packages (from tensorflow) (1.19.5)\n",
      "Requirement already satisfied: numpy~=1.19.2 in c:\\users\\asus\\miniconda3\\lib\\site-packages (from tensorflow) (1.19.5)\n",
      "Requirement already satisfied: six~=1.15.0 in c:\\users\\asus\\miniconda3\\lib\\site-packages (from tensorflow) (1.15.0)\n",
      "Requirement already satisfied: numpy~=1.19.2 in c:\\users\\asus\\miniconda3\\lib\\site-packages (from tensorflow) (1.19.5)\n",
      "Requirement already satisfied: six~=1.15.0 in c:\\users\\asus\\miniconda3\\lib\\site-packages (from tensorflow) (1.15.0)\n",
      "Requirement already satisfied: absl-py~=0.10 in c:\\users\\asus\\miniconda3\\lib\\site-packages (from tensorflow) (0.12.0)\n",
      "Requirement already satisfied: requests<3,>=2.21.0 in c:\\users\\asus\\miniconda3\\lib\\site-packages (from tensorboard~=2.5->tensorflow) (2.25.0)\n",
      "Requirement already satisfied: tensorboard-data-server<0.7.0,>=0.6.0 in c:\\users\\asus\\miniconda3\\lib\\site-packages (from tensorboard~=2.5->tensorflow) (0.6.1)\n",
      "Requirement already satisfied: tensorboard-plugin-wit>=1.6.0 in c:\\users\\asus\\miniconda3\\lib\\site-packages (from tensorboard~=2.5->tensorflow) (1.8.0)\n",
      "Requirement already satisfied: werkzeug>=0.11.15 in c:\\users\\asus\\miniconda3\\lib\\site-packages (from tensorboard~=2.5->tensorflow) (2.0.1)\n",
      "Requirement already satisfied: google-auth<2,>=1.6.3 in c:\\users\\asus\\miniconda3\\lib\\site-packages (from tensorboard~=2.5->tensorflow) (1.30.0)\n",
      "Requirement already satisfied: wheel~=0.35 in c:\\users\\asus\\miniconda3\\lib\\site-packages (from tensorflow) (0.36.1)\n",
      "Requirement already satisfied: numpy~=1.19.2 in c:\\users\\asus\\miniconda3\\lib\\site-packages (from tensorflow) (1.19.5)\n",
      "Requirement already satisfied: setuptools>=41.0.0 in c:\\users\\asus\\miniconda3\\lib\\site-packages (from tensorboard~=2.5->tensorflow) (51.0.0.post20201207)\n",
      "Requirement already satisfied: markdown>=2.6.8 in c:\\users\\asus\\miniconda3\\lib\\site-packages (from tensorboard~=2.5->tensorflow) (3.3.4)\n",
      "Requirement already satisfied: grpcio~=1.34.0 in c:\\users\\asus\\miniconda3\\lib\\site-packages (from tensorflow) (1.34.1)\n",
      "Requirement already satisfied: protobuf>=3.9.2 in c:\\users\\asus\\miniconda3\\lib\\site-packages (from tensorflow) (3.17.0)\n",
      "Requirement already satisfied: google-auth-oauthlib<0.5,>=0.4.1 in c:\\users\\asus\\miniconda3\\lib\\site-packages (from tensorboard~=2.5->tensorflow) (0.4.4)\n",
      "Requirement already satisfied: pyasn1-modules>=0.2.1 in c:\\users\\asus\\miniconda3\\lib\\site-packages (from google-auth<2,>=1.6.3->tensorboard~=2.5->tensorflow) (0.2.8)\n",
      "Requirement already satisfied: setuptools>=41.0.0 in c:\\users\\asus\\miniconda3\\lib\\site-packages (from tensorboard~=2.5->tensorflow) (51.0.0.post20201207)\n",
      "Requirement already satisfied: six~=1.15.0 in c:\\users\\asus\\miniconda3\\lib\\site-packages (from tensorflow) (1.15.0)\n",
      "Requirement already satisfied: cachetools<5.0,>=2.0.0 in c:\\users\\asus\\miniconda3\\lib\\site-packages (from google-auth<2,>=1.6.3->tensorboard~=2.5->tensorflow) (4.2.2)\n",
      "Requirement already satisfied: rsa<5,>=3.1.4 in c:\\users\\asus\\miniconda3\\lib\\site-packages (from google-auth<2,>=1.6.3->tensorboard~=2.5->tensorflow) (4.7.2)\n",
      "Requirement already satisfied: google-auth<2,>=1.6.3 in c:\\users\\asus\\miniconda3\\lib\\site-packages (from tensorboard~=2.5->tensorflow) (1.30.0)\n",
      "Requirement already satisfied: requests-oauthlib>=0.7.0 in c:\\users\\asus\\miniconda3\\lib\\site-packages (from google-auth-oauthlib<0.5,>=0.4.1->tensorboard~=2.5->tensorflow) (1.3.0)\n",
      "Requirement already satisfied: pyasn1<0.5.0,>=0.4.6 in c:\\users\\asus\\miniconda3\\lib\\site-packages (from pyasn1-modules>=0.2.1->google-auth<2,>=1.6.3->tensorboard~=2.5->tensorflow) (0.4.8)\n",
      "Requirement already satisfied: idna<3,>=2.5 in c:\\users\\asus\\miniconda3\\lib\\site-packages (from requests<3,>=2.21.0->tensorboard~=2.5->tensorflow) (2.10)\n",
      "Requirement already satisfied: urllib3<1.27,>=1.21.1 in c:\\users\\asus\\miniconda3\\lib\\site-packages (from requests<3,>=2.21.0->tensorboard~=2.5->tensorflow) (1.25.11)\n",
      "Requirement already satisfied: certifi>=2017.4.17 in c:\\users\\asus\\miniconda3\\lib\\site-packages (from requests<3,>=2.21.0->tensorboard~=2.5->tensorflow) (2020.12.5)\n",
      "Requirement already satisfied: chardet<4,>=3.0.2 in c:\\users\\asus\\miniconda3\\lib\\site-packages (from requests<3,>=2.21.0->tensorboard~=2.5->tensorflow) (3.0.4)\n",
      "Requirement already satisfied: oauthlib>=3.0.0 in c:\\users\\asus\\miniconda3\\lib\\site-packages (from requests-oauthlib>=0.7.0->google-auth-oauthlib<0.5,>=0.4.1->tensorboard~=2.5->tensorflow) (3.1.0)\n",
      "Requirement already satisfied: requests<3,>=2.21.0 in c:\\users\\asus\\miniconda3\\lib\\site-packages (from tensorboard~=2.5->tensorflow) (2.25.0)\n",
      "Requirement already satisfied: pyasn1<0.5.0,>=0.4.6 in c:\\users\\asus\\miniconda3\\lib\\site-packages (from pyasn1-modules>=0.2.1->google-auth<2,>=1.6.3->tensorboard~=2.5->tensorflow) (0.4.8)\n",
      "Could not fetch URL https://pypi.org/simple/pip/: There was a problem confirming the ssl certificate: HTTPSConnectionPool(host='pypi.org', port=443): Max retries exceeded with url: /simple/pip/ (Caused by SSLError(\"Can't connect to HTTPS URL because the SSL module is not available.\")) - skipping\n"
     ]
    },
    {
     "name": "stderr",
     "output_type": "stream",
     "text": [
      "WARNING: pip is configured with locations that require TLS/SSL, however the ssl module in Python is not available.\n",
      "WARNING: pip is configured with locations that require TLS/SSL, however the ssl module in Python is not available.\n"
     ]
    },
    {
     "name": "stdout",
     "output_type": "stream",
     "text": [
      "Requirement already satisfied: scikit-image in c:\\users\\asus\\miniconda3\\lib\\site-packages (0.18.1)\n",
      "Requirement already satisfied: PyWavelets>=1.1.1 in c:\\users\\asus\\miniconda3\\lib\\site-packages (from scikit-image) (1.1.1)\n",
      "Requirement already satisfied: tifffile>=2019.7.26 in c:\\users\\asus\\miniconda3\\lib\\site-packages (from scikit-image) (2021.4.8)\n",
      "Requirement already satisfied: pillow!=7.1.0,!=7.1.1,>=4.3.0 in c:\\users\\asus\\miniconda3\\lib\\site-packages (from scikit-image) (8.2.0)\n",
      "Requirement already satisfied: scipy>=1.0.1 in c:\\users\\asus\\miniconda3\\lib\\site-packages (from scikit-image) (1.6.3)\n",
      "Requirement already satisfied: numpy>=1.16.5 in c:\\users\\asus\\miniconda3\\lib\\site-packages (from scikit-image) (1.19.5)\n",
      "Requirement already satisfied: networkx>=2.0 in c:\\users\\asus\\miniconda3\\lib\\site-packages (from scikit-image) (2.5.1)\n",
      "Requirement already satisfied: imageio>=2.3.0 in c:\\users\\asus\\miniconda3\\lib\\site-packages (from scikit-image) (2.9.0)\n",
      "Requirement already satisfied: matplotlib!=3.0.0,>=2.0.0 in c:\\users\\asus\\miniconda3\\lib\\site-packages (from scikit-image) (3.4.2)\n",
      "Requirement already satisfied: pillow!=7.1.0,!=7.1.1,>=4.3.0 in c:\\users\\asus\\miniconda3\\lib\\site-packages (from scikit-image) (8.2.0)\n",
      "Requirement already satisfied: numpy>=1.16.5 in c:\\users\\asus\\miniconda3\\lib\\site-packages (from scikit-image) (1.19.5)\n",
      "Requirement already satisfied: python-dateutil>=2.7 in c:\\users\\asus\\miniconda3\\lib\\site-packages (from matplotlib!=3.0.0,>=2.0.0->scikit-image) (2.8.1)\n",
      "Requirement already satisfied: pillow!=7.1.0,!=7.1.1,>=4.3.0 in c:\\users\\asus\\miniconda3\\lib\\site-packages (from scikit-image) (8.2.0)\n",
      "Requirement already satisfied: kiwisolver>=1.0.1 in c:\\users\\asus\\miniconda3\\lib\\site-packages (from matplotlib!=3.0.0,>=2.0.0->scikit-image) (1.3.1)\n",
      "Requirement already satisfied: cycler>=0.10 in c:\\users\\asus\\miniconda3\\lib\\site-packages (from matplotlib!=3.0.0,>=2.0.0->scikit-image) (0.10.0)\n",
      "Requirement already satisfied: numpy>=1.16.5 in c:\\users\\asus\\miniconda3\\lib\\site-packages (from scikit-image) (1.19.5)\n",
      "Requirement already satisfied: pyparsing>=2.2.1 in c:\\users\\asus\\miniconda3\\lib\\site-packages (from matplotlib!=3.0.0,>=2.0.0->scikit-image) (2.4.7)\n",
      "Requirement already satisfied: six in c:\\users\\asus\\miniconda3\\lib\\site-packages (from cycler>=0.10->matplotlib!=3.0.0,>=2.0.0->scikit-image) (1.15.0)\n",
      "Requirement already satisfied: decorator<5,>=4.3 in c:\\users\\asus\\miniconda3\\lib\\site-packages (from networkx>=2.0->scikit-image) (4.4.2)\n",
      "Requirement already satisfied: six in c:\\users\\asus\\miniconda3\\lib\\site-packages (from cycler>=0.10->matplotlib!=3.0.0,>=2.0.0->scikit-image) (1.15.0)\n",
      "Requirement already satisfied: numpy>=1.16.5 in c:\\users\\asus\\miniconda3\\lib\\site-packages (from scikit-image) (1.19.5)\n",
      "Requirement already satisfied: numpy>=1.16.5 in c:\\users\\asus\\miniconda3\\lib\\site-packages (from scikit-image) (1.19.5)\n",
      "Requirement already satisfied: numpy>=1.16.5 in c:\\users\\asus\\miniconda3\\lib\\site-packages (from scikit-image) (1.19.5)\n",
      "Could not fetch URL https://pypi.org/simple/pip/: There was a problem confirming the ssl certificate: HTTPSConnectionPool(host='pypi.org', port=443): Max retries exceeded with url: /simple/pip/ (Caused by SSLError(\"Can't connect to HTTPS URL because the SSL module is not available.\")) - skipping\n"
     ]
    },
    {
     "name": "stderr",
     "output_type": "stream",
     "text": [
      "WARNING: pip is configured with locations that require TLS/SSL, however the ssl module in Python is not available.\n",
      "WARNING: pip is configured with locations that require TLS/SSL, however the ssl module in Python is not available.\n"
     ]
    },
    {
     "name": "stdout",
     "output_type": "stream",
     "text": [
      "Requirement already satisfied: tqdm in c:\\users\\asus\\miniconda3\\lib\\site-packages (4.54.1)\n",
      "Could not fetch URL https://pypi.org/simple/pip/: There was a problem confirming the ssl certificate: HTTPSConnectionPool(host='pypi.org', port=443): Max retries exceeded with url: /simple/pip/ (Caused by SSLError(\"Can't connect to HTTPS URL because the SSL module is not available.\")) - skipping\n"
     ]
    },
    {
     "name": "stderr",
     "output_type": "stream",
     "text": [
      "WARNING: pip is configured with locations that require TLS/SSL, however the ssl module in Python is not available.\n",
      "WARNING: pip is configured with locations that require TLS/SSL, however the ssl module in Python is not available.\n"
     ]
    },
    {
     "name": "stdout",
     "output_type": "stream",
     "text": [
      "Requirement already satisfied: scikit-learn in c:\\users\\asus\\miniconda3\\lib\\site-packages (0.24.2)\n",
      "Requirement already satisfied: numpy>=1.13.3 in c:\\users\\asus\\miniconda3\\lib\\site-packages (from scikit-learn) (1.19.5)\n",
      "Requirement already satisfied: joblib>=0.11 in c:\\users\\asus\\miniconda3\\lib\\site-packages (from scikit-learn) (1.0.1)\n",
      "Requirement already satisfied: scipy>=0.19.1 in c:\\users\\asus\\miniconda3\\lib\\site-packages (from scikit-learn) (1.6.3)\n"
     ]
    },
    {
     "name": "stderr",
     "output_type": "stream",
     "text": [
      "WARNING: pip is configured with locations that require TLS/SSL, however the ssl module in Python is not available.\n",
      "WARNING: pip is configured with locations that require TLS/SSL, however the ssl module in Python is not available.\n"
     ]
    },
    {
     "name": "stdout",
     "output_type": "stream",
     "text": [
      "Requirement already satisfied: threadpoolctl>=2.0.0 in c:\\users\\asus\\miniconda3\\lib\\site-packages (from scikit-learn) (2.1.0)\n",
      "Requirement already satisfied: numpy>=1.13.3 in c:\\users\\asus\\miniconda3\\lib\\site-packages (from scikit-learn) (1.19.5)\n",
      "Could not fetch URL https://pypi.org/simple/pip/: There was a problem confirming the ssl certificate: HTTPSConnectionPool(host='pypi.org', port=443): Max retries exceeded with url: /simple/pip/ (Caused by SSLError(\"Can't connect to HTTPS URL because the SSL module is not available.\")) - skipping\n",
      "Could not fetch URL https://pypi.org/simple/seaborn/: There was a problem confirming the ssl certificate: HTTPSConnectionPool(host='pypi.org', port=443): Max retries exceeded with url: /simple/seaborn/ (Caused by SSLError(\"Can't connect to HTTPS URL because the SSL module is not available.\")) - skipping\n",
      "Could not fetch URL https://pypi.org/simple/pip/: There was a problem confirming the ssl certificate: HTTPSConnectionPool(host='pypi.org', port=443): Max retries exceeded with url: /simple/pip/ (Caused by SSLError(\"Can't connect to HTTPS URL because the SSL module is not available.\")) - skipping\n"
     ]
    },
    {
     "name": "stderr",
     "output_type": "stream",
     "text": [
      "WARNING: pip is configured with locations that require TLS/SSL, however the ssl module in Python is not available.\n",
      "WARNING: Retrying (Retry(total=4, connect=None, read=None, redirect=None, status=None)) after connection broken by 'SSLError(\"Can't connect to HTTPS URL because the SSL module is not available.\")': /simple/seaborn/\n",
      "WARNING: Retrying (Retry(total=3, connect=None, read=None, redirect=None, status=None)) after connection broken by 'SSLError(\"Can't connect to HTTPS URL because the SSL module is not available.\")': /simple/seaborn/\n",
      "WARNING: Retrying (Retry(total=2, connect=None, read=None, redirect=None, status=None)) after connection broken by 'SSLError(\"Can't connect to HTTPS URL because the SSL module is not available.\")': /simple/seaborn/\n",
      "WARNING: Retrying (Retry(total=1, connect=None, read=None, redirect=None, status=None)) after connection broken by 'SSLError(\"Can't connect to HTTPS URL because the SSL module is not available.\")': /simple/seaborn/\n",
      "WARNING: Retrying (Retry(total=0, connect=None, read=None, redirect=None, status=None)) after connection broken by 'SSLError(\"Can't connect to HTTPS URL because the SSL module is not available.\")': /simple/seaborn/\n",
      "ERROR: Could not find a version that satisfies the requirement seaborn\n",
      "ERROR: No matching distribution found for seaborn\n",
      "WARNING: pip is configured with locations that require TLS/SSL, however the ssl module in Python is not available.\n"
     ]
    },
    {
     "name": "stdout",
     "output_type": "stream",
     "text": [
      "Could not fetch URL https://pypi.org/simple/opencv-contrib-python/: There was a problem confirming the ssl certificate: HTTPSConnectionPool(host='pypi.org', port=443): Max retries exceeded with url: /simple/opencv-contrib-python/ (Caused by SSLError(\"Can't connect to HTTPS URL because the SSL module is not available.\")) - skipping\n",
      "Could not fetch URL https://pypi.org/simple/pip/: There was a problem confirming the ssl certificate: HTTPSConnectionPool(host='pypi.org', port=443): Max retries exceeded with url: /simple/pip/ (Caused by SSLError(\"Can't connect to HTTPS URL because the SSL module is not available.\")) - skipping\n"
     ]
    },
    {
     "name": "stderr",
     "output_type": "stream",
     "text": [
      "WARNING: pip is configured with locations that require TLS/SSL, however the ssl module in Python is not available.\n",
      "WARNING: Retrying (Retry(total=4, connect=None, read=None, redirect=None, status=None)) after connection broken by 'SSLError(\"Can't connect to HTTPS URL because the SSL module is not available.\")': /simple/opencv-contrib-python/\n",
      "WARNING: Retrying (Retry(total=3, connect=None, read=None, redirect=None, status=None)) after connection broken by 'SSLError(\"Can't connect to HTTPS URL because the SSL module is not available.\")': /simple/opencv-contrib-python/\n",
      "WARNING: Retrying (Retry(total=2, connect=None, read=None, redirect=None, status=None)) after connection broken by 'SSLError(\"Can't connect to HTTPS URL because the SSL module is not available.\")': /simple/opencv-contrib-python/\n",
      "WARNING: Retrying (Retry(total=1, connect=None, read=None, redirect=None, status=None)) after connection broken by 'SSLError(\"Can't connect to HTTPS URL because the SSL module is not available.\")': /simple/opencv-contrib-python/\n",
      "WARNING: Retrying (Retry(total=0, connect=None, read=None, redirect=None, status=None)) after connection broken by 'SSLError(\"Can't connect to HTTPS URL because the SSL module is not available.\")': /simple/opencv-contrib-python/\n",
      "ERROR: Could not find a version that satisfies the requirement opencv-contrib-python\n",
      "ERROR: No matching distribution found for opencv-contrib-python\n",
      "WARNING: pip is configured with locations that require TLS/SSL, however the ssl module in Python is not available.\n"
     ]
    }
   ],
   "source": [
    "!pip install numpy\n",
    "!pip install pandas\n",
    "!pip install matplotlib\n",
    "!pip install tensorflow\n",
    "!pip install scikit-image\n",
    "!pip install tqdm\n",
    "!pip install scikit-learn\n",
    "!pip install seaborn\n",
    "!pip install opencv-contrib-python"
   ]
  },
  {
   "cell_type": "markdown",
   "metadata": {},
   "source": [
    "<h3 style=\"color:000000\">Importing libraries</h3>"
   ]
  },
  {
   "cell_type": "code",
   "execution_count": 1,
   "metadata": {},
   "outputs": [],
   "source": [
    "import numpy as np\n",
    "import pandas as pd\n",
    "import matplotlib.pyplot as plt\n",
    "import tensorflow as tf\n",
    "import os\n",
    "import tqdm\n",
    "import skimage.io\n",
    "import glob\n",
    "import random\n",
    "from PIL import Image\n",
    "import itertools\n",
    "\n",
    "import cv2 as cv\n",
    "\n",
    "import tensorflow_hub as hub\n",
    "import seaborn as sns\n",
    "\n",
    "from tensorflow.keras.models import load_model\n",
    "from tqdm import tqdm\n",
    "from skimage.io import imread, imshow\n",
    "from sklearn.preprocessing import LabelEncoder\n",
    "from skimage.transform import resize\n",
    "from sklearn.utils import shuffle\n",
    "from sklearn.metrics import classification_report, confusion_matrix\n",
    "from tensorflow.keras.utils import to_categorical\n",
    "from tensorflow.keras.preprocessing.image import ImageDataGenerator\n",
    "from tensorflow.keras.models import Sequential, Model\n",
    "from tensorflow.keras.layers import InputLayer, Conv2D, BatchNormalization, MaxPool2D, Dropout, Flatten, Dense\n",
    "from tensorflow.keras.callbacks import EarlyStopping, ModelCheckpoint, ReduceLROnPlateau\n",
    "from tensorflow.keras.applications.inception_v3 import preprocess_input, decode_predictions\n",
    "from tensorflow.keras.preprocessing import image\n",
    "from tensorflow.keras import layers\n",
    "from tensorflow.keras.preprocessing.image import img_to_array\n",
    "from tensorflow.keras.applications.vgg19 import VGG19, preprocess_input\n",
    "\n",
    "from keras.utils import np_utils\n",
    "from tensorflow.keras.optimizers import Adam\n",
    "from keras import backend as K"
   ]
  },
  {
   "cell_type": "markdown",
   "metadata": {},
   "source": [
    "<h3 style=\"color:000000\">Utilities</h3>\n",
    "<h3 style=\"color:blue\">Confusion Matrix Plotting Function</h3>"
   ]
  },
  {
   "cell_type": "code",
   "execution_count": 2,
   "metadata": {},
   "outputs": [],
   "source": [
    "def plot_confusion_matrix(cm,\n",
    "                          target_names,\n",
    "                          title='Confusion matrix',\n",
    "                          cmap=None,\n",
    "                          normalize=True):\n",
    "    \"\"\"\n",
    "    given a sklearn confusion matrix (cm), make a nice plot\n",
    "\n",
    "    Arguments\n",
    "    ---------\n",
    "    cm:           confusion matrix from sklearn.metrics.confusion_matrix\n",
    "\n",
    "    target_names: given classification classes such as [0, 1, 2]\n",
    "                  the class names, for example: ['high', 'medium', 'low']\n",
    "\n",
    "    title:        the text to display at the top of the matrix\n",
    "\n",
    "    cmap:         the gradient of the values displayed from matplotlib.pyplot.cm\n",
    "                  see http://matplotlib.org/examples/color/colormaps_reference.html\n",
    "                  plt.get_cmap('jet') or plt.cm.Blues\n",
    "\n",
    "    normalize:    If False, plot the raw numbers\n",
    "                  If True, plot the proportions\n",
    "\n",
    "    Usage\n",
    "    -----\n",
    "    plot_confusion_matrix(cm           = cm,                  # confusion matrix created by\n",
    "                                                              # sklearn.metrics.confusion_matrix\n",
    "                          normalize    = True,                # show proportions\n",
    "                          target_names = y_labels_vals,       # list of names of the classes\n",
    "                          title        = best_estimator_name) # title of graph\n",
    "\n",
    "    Citiation\n",
    "    ---------\n",
    "    http://scikit-learn.org/stable/auto_examples/model_selection/plot_confusion_matrix.html\n",
    "\n",
    "    \"\"\"\n",
    "\n",
    "\n",
    "    accuracy = np.trace(cm) / float(np.sum(cm))\n",
    "    misclass = 1 - accuracy\n",
    "\n",
    "    if cmap is None:\n",
    "        cmap = plt.get_cmap('Blues')\n",
    "\n",
    "    plt.figure(figsize=(8, 6))\n",
    "    plt.imshow(cm, interpolation='nearest', cmap=cmap)\n",
    "    plt.title(title)\n",
    "    plt.colorbar()\n",
    "\n",
    "    if target_names is not None:\n",
    "        tick_marks = np.arange(len(target_names))\n",
    "        plt.xticks(tick_marks, target_names, rotation=45)\n",
    "        plt.yticks(tick_marks, target_names)\n",
    "\n",
    "    if normalize:\n",
    "        cm = cm.astype('float') / cm.sum(axis=1)[:, np.newaxis]\n",
    "\n",
    "\n",
    "    thresh = cm.max() / 1.5 if normalize else cm.max() / 2\n",
    "    for i, j in itertools.product(range(cm.shape[0]), range(cm.shape[1])):\n",
    "        if normalize:\n",
    "            plt.text(j, i, \"{:0.4f}\".format(cm[i, j]),\n",
    "                     horizontalalignment=\"center\",\n",
    "                     color=\"white\" if cm[i, j] > thresh else \"black\")\n",
    "        else:\n",
    "            plt.text(j, i, \"{:,}\".format(cm[i, j]),\n",
    "                     horizontalalignment=\"center\",\n",
    "                     color=\"white\" if cm[i, j] > thresh else \"black\")\n",
    "\n",
    "\n",
    "    plt.tight_layout()\n",
    "    plt.ylabel('True label')\n",
    "    plt.xlabel('Predicted label')\n",
    "    plt.show()"
   ]
  },
  {
   "cell_type": "markdown",
   "metadata": {},
   "source": [
    "<h3 style=\"color:000000\">Data preprocessing</h3>\n",
    "<h3 style=\"color:blue\">Reading Files</h3>"
   ]
  },
  {
   "cell_type": "markdown",
   "metadata": {},
   "source": [
    "<h3 style=\"font-weight:bold;color:red;\">!!! NOTE: For test dataset, labels are not defined. So, we are not going to be able to use test dataset for testing</h3>"
   ]
  },
  {
   "cell_type": "code",
   "execution_count": 3,
   "metadata": {},
   "outputs": [],
   "source": [
    "#Traning Dataset\n",
    "train_dataset_0_all = glob.glob('data/training_data/fold_0/all/*.bmp')\n",
    "train_dataset_0_hem = glob.glob('data/training_data/fold_0/hem/*.bmp')\n",
    "train_dataset_1_all = glob.glob('data/training_data/fold_1/all/*.bmp')\n",
    "train_dataset_1_hem = glob.glob('data/training_data/fold_1/hem/*.bmp')\n",
    "train_dataset_2_all = glob.glob('data/training_data/fold_2/all/*.bmp')\n",
    "train_dataset_2_hem = glob.glob('data/training_data/fold_2/hem/*.bmp')\n",
    "\n",
    "#Test Dataset\n",
    "test_dataset  = glob.glob('data/testing_data/C-NMC_test_final_phase_data/*.bmp')\n",
    "\n",
    "#Validation Dataset (Images)\n",
    "valid_dataset = glob.glob('data/validation_data/C-NMC_test_prelim_phase_data/*.bmp')\n",
    "\n",
    "#Validation Dataset (.CSV)\n",
    "valid_data = pd.read_csv('data/validation_data/C-NMC_test_prelim_phase_data_labels.csv')"
   ]
  },
  {
   "cell_type": "markdown",
   "metadata": {},
   "source": [
    "<h3 style=\"color:000000\">Data preprocessing cont.</h3>\n",
    "<h3 style=\"color:blue\">Collecting Images</h3>"
   ]
  },
  {
   "cell_type": "code",
   "execution_count": 4,
   "metadata": {},
   "outputs": [],
   "source": [
    "ALL = []\n",
    "HEM = []\n",
    "images = []\n",
    "labels = []\n",
    "\n",
    "ALL.extend(train_dataset_0_all)\n",
    "ALL.extend(train_dataset_1_all)\n",
    "ALL.extend(train_dataset_2_all)\n",
    "\n",
    "HEM.extend(train_dataset_0_hem)\n",
    "HEM.extend(train_dataset_1_hem)\n",
    "HEM.extend(train_dataset_2_hem)\n",
    "\n",
    "images.extend(HEM)\n",
    "images.extend(ALL)"
   ]
  },
  {
   "cell_type": "markdown",
   "metadata": {},
   "source": [
    "<h3 style=\"color:000000\">Data preprocessing</h3>\n",
    "<h3 style=\"color:blue\">Load the data</h3>"
   ]
  },
  {
   "cell_type": "code",
   "execution_count": 5,
   "metadata": {
    "scrolled": false
   },
   "outputs": [
    {
     "name": "stdout",
     "output_type": "stream",
     "text": [
      "                                                  images  labels\n",
      "0       data/training_data/fold_0/all/UID_20_1_1_all.bmp       0\n",
      "1        data/training_data/fold_0/all/UID_4_4_2_all.bmp       0\n",
      "2      data/training_data/fold_0/all/UID_45_30_2_all.bmp       0\n",
      "3       data/training_data/fold_0/all/UID_28_2_3_all.bmp       0\n",
      "4       data/training_data/fold_0/all/UID_35_8_7_all.bmp       0\n",
      "...                                                  ...     ...\n",
      "10656  data/training_data/fold_2/hem/UID_H5_12_2_hem.bmp       1\n",
      "10657  data/training_data/fold_2/hem/UID_h3_18_1_hem.bmp       1\n",
      "10658  data/training_data/fold_2/hem/UID_H40_10_2_hem...       1\n",
      "10659   data/training_data/fold_2/hem/UID_H5_4_1_hem.bmp       1\n",
      "10660  data/training_data/fold_2/hem/UID_H23_28_2_hem...       1\n",
      "\n",
      "[10661 rows x 2 columns]\n"
     ]
    }
   ],
   "source": [
    "X_train = []\n",
    "y_train = []\n",
    "\n",
    "for i in range(0, len(ALL)):\n",
    "    X_train.append(ALL[i])\n",
    "    y_train.append(0)\n",
    "    \n",
    "for i in range(0, len(HEM)):\n",
    "    X_train.append(HEM[i])\n",
    "    y_train.append(1)\n",
    "    \n",
    "df = pd.DataFrame({'images' : X_train, 'labels' : y_train})\n",
    "print(df)"
   ]
  },
  {
   "cell_type": "code",
   "execution_count": 6,
   "metadata": {},
   "outputs": [
    {
     "data": {
      "text/html": [
       "<div>\n",
       "<style scoped>\n",
       "    .dataframe tbody tr th:only-of-type {\n",
       "        vertical-align: middle;\n",
       "    }\n",
       "\n",
       "    .dataframe tbody tr th {\n",
       "        vertical-align: top;\n",
       "    }\n",
       "\n",
       "    .dataframe thead th {\n",
       "        text-align: right;\n",
       "    }\n",
       "</style>\n",
       "<table border=\"1\" class=\"dataframe\">\n",
       "  <thead>\n",
       "    <tr style=\"text-align: right;\">\n",
       "      <th></th>\n",
       "      <th>Patient_ID</th>\n",
       "      <th>new_names</th>\n",
       "      <th>labels</th>\n",
       "    </tr>\n",
       "  </thead>\n",
       "  <tbody>\n",
       "    <tr>\n",
       "      <th>0</th>\n",
       "      <td>UID_57_29_1_all.bmp</td>\n",
       "      <td>1.bmp</td>\n",
       "      <td>1</td>\n",
       "    </tr>\n",
       "    <tr>\n",
       "      <th>1</th>\n",
       "      <td>UID_57_22_2_all.bmp</td>\n",
       "      <td>2.bmp</td>\n",
       "      <td>1</td>\n",
       "    </tr>\n",
       "    <tr>\n",
       "      <th>2</th>\n",
       "      <td>UID_57_31_3_all.bmp</td>\n",
       "      <td>3.bmp</td>\n",
       "      <td>1</td>\n",
       "    </tr>\n",
       "    <tr>\n",
       "      <th>3</th>\n",
       "      <td>UID_H49_35_1_hem.bmp</td>\n",
       "      <td>4.bmp</td>\n",
       "      <td>0</td>\n",
       "    </tr>\n",
       "    <tr>\n",
       "      <th>4</th>\n",
       "      <td>UID_58_6_13_all.bmp</td>\n",
       "      <td>5.bmp</td>\n",
       "      <td>1</td>\n",
       "    </tr>\n",
       "    <tr>\n",
       "      <th>5</th>\n",
       "      <td>UID_57_8_11_all.bmp</td>\n",
       "      <td>6.bmp</td>\n",
       "      <td>1</td>\n",
       "    </tr>\n",
       "    <tr>\n",
       "      <th>6</th>\n",
       "      <td>UID_H49_29_2_hem.bmp</td>\n",
       "      <td>7.bmp</td>\n",
       "      <td>0</td>\n",
       "    </tr>\n",
       "    <tr>\n",
       "      <th>7</th>\n",
       "      <td>UID_H30_6_2_hem.bmp</td>\n",
       "      <td>8.bmp</td>\n",
       "      <td>0</td>\n",
       "    </tr>\n",
       "    <tr>\n",
       "      <th>8</th>\n",
       "      <td>UID_58_2_1_all.bmp</td>\n",
       "      <td>9.bmp</td>\n",
       "      <td>1</td>\n",
       "    </tr>\n",
       "    <tr>\n",
       "      <th>9</th>\n",
       "      <td>UID_54_35_3_all.bmp</td>\n",
       "      <td>10.bmp</td>\n",
       "      <td>1</td>\n",
       "    </tr>\n",
       "  </tbody>\n",
       "</table>\n",
       "</div>"
      ],
      "text/plain": [
       "             Patient_ID new_names  labels\n",
       "0   UID_57_29_1_all.bmp     1.bmp       1\n",
       "1   UID_57_22_2_all.bmp     2.bmp       1\n",
       "2   UID_57_31_3_all.bmp     3.bmp       1\n",
       "3  UID_H49_35_1_hem.bmp     4.bmp       0\n",
       "4   UID_58_6_13_all.bmp     5.bmp       1\n",
       "5   UID_57_8_11_all.bmp     6.bmp       1\n",
       "6  UID_H49_29_2_hem.bmp     7.bmp       0\n",
       "7   UID_H30_6_2_hem.bmp     8.bmp       0\n",
       "8    UID_58_2_1_all.bmp     9.bmp       1\n",
       "9   UID_54_35_3_all.bmp    10.bmp       1"
      ]
     },
     "execution_count": 6,
     "metadata": {},
     "output_type": "execute_result"
    }
   ],
   "source": [
    "valid_data.head(10)"
   ]
  },
  {
   "cell_type": "code",
   "execution_count": 7,
   "metadata": {},
   "outputs": [],
   "source": [
    "X_val = []\n",
    "y_val = []\n",
    "\n",
    "for img_name in valid_data.new_names:\n",
    "    X_val.append('data/validation_data/C-NMC_test_prelim_phase_data/' + img_name)\n",
    "for label_name in valid_data.labels.values:\n",
    "    y_val.append(label_name)"
   ]
  },
  {
   "cell_type": "markdown",
   "metadata": {},
   "source": [
    "<h3 style=\"color:000000\">Data preprocessing</h3>\n",
    "<h3 style=\"color:blue\">Parameter Selecting</h3>"
   ]
  },
  {
   "cell_type": "code",
   "execution_count": 8,
   "metadata": {},
   "outputs": [],
   "source": [
    "AUTOTUNE = tf.data.experimental.AUTOTUNE\n",
    "BATCH_SIZE = 32\n",
    "IMG_SIZE = 128\n",
    "EPOCHS = 100\n",
    "WEIGHTS = 'imagenet'\n",
    "CLASS_NAMES = [\"ALL\", \"HEM\"]"
   ]
  },
  {
   "cell_type": "markdown",
   "metadata": {},
   "source": [
    "<h3 style=\"color:000000\">Data preprocessing</h3>\n",
    "<h3 style=\"color:blue\">ONE-HOT Encoding</h3>"
   ]
  },
  {
   "cell_type": "code",
   "execution_count": 9,
   "metadata": {},
   "outputs": [],
   "source": [
    "y_train = tf.keras.utils.to_categorical(np.array(y_train), 2)\n",
    "ds = tf.data.Dataset.from_tensor_slices((X_train,y_train))\n"
   ]
  },
  {
   "cell_type": "code",
   "execution_count": 10,
   "metadata": {},
   "outputs": [],
   "source": [
    "def process_dataset(image,label):\n",
    "    img = tf.io.read_file(image)\n",
    "    img = tf.io.decode_bmp(img, channels=3)\n",
    "    img = tf.image.resize(img, [IMG_SIZE,IMG_SIZE])\n",
    "    return img, label\n",
    "\n",
    "ds = ds.map(process_dataset, num_parallel_calls=AUTOTUNE)"
   ]
  },
  {
   "cell_type": "code",
   "execution_count": 11,
   "metadata": {
    "execution": {
     "iopub.execute_input": "2021-06-05T21:17:50.398793Z",
     "iopub.status.busy": "2021-06-05T21:17:50.398437Z",
     "iopub.status.idle": "2021-06-05T21:17:50.454292Z",
     "shell.execute_reply": "2021-06-05T21:17:50.452344Z",
     "shell.execute_reply.started": "2021-06-05T21:17:50.398726Z"
    }
   },
   "outputs": [
    {
     "name": "stdout",
     "output_type": "stream",
     "text": [
      "Training dataset : 8529\n",
      "Validation dataset : 2132\n"
     ]
    }
   ],
   "source": [
    "val_size = int(len(images) * 0.2)\n",
    "ds = ds.shuffle(10000)\n",
    "\n",
    "val_ds = ds.take(val_size)\n",
    "train_ds = ds.skip(val_size)\n",
    "\n",
    "print('Training dataset :',tf.data.experimental.cardinality(train_ds).numpy())\n",
    "print('Validation dataset :',tf.data.experimental.cardinality(val_ds).numpy())"
   ]
  },
  {
   "cell_type": "code",
   "execution_count": 12,
   "metadata": {},
   "outputs": [],
   "source": [
    "def prepare_for_training(ds):\n",
    "    ds = ds.cache()\n",
    "    ds = ds.shuffle(buffer_size=1000)\n",
    "    ds = ds.batch(BATCH_SIZE)\n",
    "    ds = ds.prefetch(buffer_size=AUTOTUNE)\n",
    "    return ds\n",
    "\n",
    "train_ds = prepare_for_training(train_ds)\n",
    "val_ds = prepare_for_training(val_ds)"
   ]
  },
  {
   "cell_type": "code",
   "execution_count": 13,
   "metadata": {},
   "outputs": [],
   "source": [
    "normalization_layer = layers.experimental.preprocessing.Rescaling(1./255)\n",
    "train_ds = train_ds.map(lambda x, y: (normalization_layer(x), y))\n",
    "val_ds = val_ds.map(lambda x, y: (normalization_layer(x), y))"
   ]
  },
  {
   "cell_type": "code",
   "execution_count": 14,
   "metadata": {},
   "outputs": [],
   "source": [
    "X_train = np.concatenate([x for x, y in train_ds], axis=0)\n",
    "y_train = np.concatenate([y for x, y in train_ds], axis=0)\n",
    "X_val = np.concatenate([x for x, y in val_ds], axis=0)\n",
    "y_val = np.concatenate([y for x, y in val_ds], axis=0)"
   ]
  },
  {
   "cell_type": "markdown",
   "metadata": {},
   "source": [
    "<h3 style=\"color:000000\">Convolutional Neural Network</h3>\n",
    "<h3 style=\"color:blue\">VGG19</h3>"
   ]
  },
  {
   "cell_type": "markdown",
   "metadata": {},
   "source": [
    "![Architecture-of-the-FCN-VGG19-adapted-from-Long-et-al-2015-which-learns-to-combine.png](./images/Architecture-of-the-FCN-VGG19-adapted-from-Long-et-al-2015-which-learns-to-combine.png)"
   ]
  },
  {
   "cell_type": "markdown",
   "metadata": {},
   "source": [
    "<h3 style=\"color:000000\">VGG19</h3>\n",
    "<h3 style=\"color:blue\">Model Tuning</h3>"
   ]
  },
  {
   "cell_type": "code",
   "execution_count": 16,
   "metadata": {},
   "outputs": [],
   "source": [
    "vgg19 = VGG19(include_top=False, weights=WEIGHTS, input_shape=(IMG_SIZE,IMG_SIZE,3))"
   ]
  },
  {
   "cell_type": "code",
   "execution_count": 17,
   "metadata": {},
   "outputs": [],
   "source": [
    "for layers in vgg19.layers:\n",
    "    layers.trainable = False"
   ]
  },
  {
   "cell_type": "code",
   "execution_count": 18,
   "metadata": {},
   "outputs": [],
   "source": [
    "x = Flatten()(vgg19.output)\n",
    "\n",
    "\n",
    "fcc_layer_1 = tf.keras.layers.Dense(units = 1024, activation = 'relu')(x)\n",
    "dropout_1   = tf.keras.layers.Dropout(0.3)(fcc_layer_1)\n",
    "\n",
    "fcc_layer_2 = tf.keras.layers.Dense(units = 512, activation = 'relu')(dropout_1)\n",
    "dropout_2   = tf.keras.layers.Dropout(0.3)(fcc_layer_2)\n",
    "\n",
    "final_layer = tf.keras.layers.Dense(units = 2, activation = 'sigmoid')(dropout_2)"
   ]
  },
  {
   "cell_type": "code",
   "execution_count": 19,
   "metadata": {},
   "outputs": [],
   "source": [
    "model = Model(inputs = vgg19.input, outputs = final_layer)"
   ]
  },
  {
   "cell_type": "code",
   "execution_count": 20,
   "metadata": {},
   "outputs": [
    {
     "name": "stdout",
     "output_type": "stream",
     "text": [
      "Model: \"model\"\n",
      "_________________________________________________________________\n",
      "Layer (type)                 Output Shape              Param #   \n",
      "=================================================================\n",
      "input_1 (InputLayer)         [(None, 128, 128, 3)]     0         \n",
      "_________________________________________________________________\n",
      "block1_conv1 (Conv2D)        (None, 128, 128, 64)      1792      \n",
      "_________________________________________________________________\n",
      "block1_conv2 (Conv2D)        (None, 128, 128, 64)      36928     \n",
      "_________________________________________________________________\n",
      "block1_pool (MaxPooling2D)   (None, 64, 64, 64)        0         \n",
      "_________________________________________________________________\n",
      "block2_conv1 (Conv2D)        (None, 64, 64, 128)       73856     \n",
      "_________________________________________________________________\n",
      "block2_conv2 (Conv2D)        (None, 64, 64, 128)       147584    \n",
      "_________________________________________________________________\n",
      "block2_pool (MaxPooling2D)   (None, 32, 32, 128)       0         \n",
      "_________________________________________________________________\n",
      "block3_conv1 (Conv2D)        (None, 32, 32, 256)       295168    \n",
      "_________________________________________________________________\n",
      "block3_conv2 (Conv2D)        (None, 32, 32, 256)       590080    \n",
      "_________________________________________________________________\n",
      "block3_conv3 (Conv2D)        (None, 32, 32, 256)       590080    \n",
      "_________________________________________________________________\n",
      "block3_conv4 (Conv2D)        (None, 32, 32, 256)       590080    \n",
      "_________________________________________________________________\n",
      "block3_pool (MaxPooling2D)   (None, 16, 16, 256)       0         \n",
      "_________________________________________________________________\n",
      "block4_conv1 (Conv2D)        (None, 16, 16, 512)       1180160   \n",
      "_________________________________________________________________\n",
      "block4_conv2 (Conv2D)        (None, 16, 16, 512)       2359808   \n",
      "_________________________________________________________________\n",
      "block4_conv3 (Conv2D)        (None, 16, 16, 512)       2359808   \n",
      "_________________________________________________________________\n",
      "block4_conv4 (Conv2D)        (None, 16, 16, 512)       2359808   \n",
      "_________________________________________________________________\n",
      "block4_pool (MaxPooling2D)   (None, 8, 8, 512)         0         \n",
      "_________________________________________________________________\n",
      "block5_conv1 (Conv2D)        (None, 8, 8, 512)         2359808   \n",
      "_________________________________________________________________\n",
      "block5_conv2 (Conv2D)        (None, 8, 8, 512)         2359808   \n",
      "_________________________________________________________________\n",
      "block5_conv3 (Conv2D)        (None, 8, 8, 512)         2359808   \n",
      "_________________________________________________________________\n",
      "block5_conv4 (Conv2D)        (None, 8, 8, 512)         2359808   \n",
      "_________________________________________________________________\n",
      "block5_pool (MaxPooling2D)   (None, 4, 4, 512)         0         \n",
      "_________________________________________________________________\n",
      "flatten (Flatten)            (None, 8192)              0         \n",
      "_________________________________________________________________\n",
      "dense (Dense)                (None, 1024)              8389632   \n",
      "_________________________________________________________________\n",
      "dropout (Dropout)            (None, 1024)              0         \n",
      "_________________________________________________________________\n",
      "dense_1 (Dense)              (None, 512)               524800    \n",
      "_________________________________________________________________\n",
      "dropout_1 (Dropout)          (None, 512)               0         \n",
      "_________________________________________________________________\n",
      "dense_2 (Dense)              (None, 2)                 1026      \n",
      "=================================================================\n",
      "Total params: 28,939,842\n",
      "Trainable params: 8,915,458\n",
      "Non-trainable params: 20,024,384\n",
      "_________________________________________________________________\n"
     ]
    }
   ],
   "source": [
    "model.summary()"
   ]
  },
  {
   "cell_type": "markdown",
   "metadata": {},
   "source": [
    "<h3 style=\"color:000000\">Data preprocessing cont.</h3>\n",
    "<h3 style=\"color:blue\">Balancing Weights</h3>"
   ]
  },
  {
   "cell_type": "code",
   "execution_count": 21,
   "metadata": {},
   "outputs": [
    {
     "name": "stdout",
     "output_type": "stream",
     "text": [
      "Total ALL: 7272\n",
      "Total Normal: 3389\n",
      "Initial bias: 0.76350\n",
      "Weight for class 0: 0.73\n",
      "Weight for class 1: 1.57\n"
     ]
    }
   ],
   "source": [
    "train_0 = len(df[df.labels == 0])\n",
    "train_1 = len(df[df.labels == 1])\n",
    "train_total = train_0 + train_1\n",
    "\n",
    "initial_bias = np.log([train_0 / train_1])\n",
    "\n",
    "weight_0 = (1 / train_0) * (train_total) / 2.0\n",
    "weight_1 = (1 / train_1) * (train_total) / 2.0\n",
    "\n",
    "class_weight = {0: weight_0, 1: weight_1}\n",
    "\n",
    "print(\"Total ALL: \" + format(train_0))\n",
    "print(\"Total Normal: \" + format(train_1))\n",
    "print(\"Initial bias: {:.5f}\".format(initial_bias[0]))\n",
    "print(\"Weight for class 0: {:.2f}\".format(weight_0))\n",
    "print(\"Weight for class 1: {:.2f}\".format(weight_1))"
   ]
  },
  {
   "cell_type": "markdown",
   "metadata": {},
   "source": [
    "<h3 style=\"color:000000\">VGG19</h3>\n",
    "<h3 style=\"color:blue\">Callbacks</h3>"
   ]
  },
  {
   "cell_type": "code",
   "execution_count": 22,
   "metadata": {
    "_kg_hide-output": true
   },
   "outputs": [],
   "source": [
    "callbacks = [\n",
    "    tf.keras.callbacks.ModelCheckpoint(\"model.h5\", verbose = 1, save_best_only=True),\n",
    "    tf.keras.callbacks.EarlyStopping(verbose = 1, patience=10, restore_best_weights=True)\n",
    "]"
   ]
  },
  {
   "cell_type": "markdown",
   "metadata": {},
   "source": [
    "<h3 style=\"color:000000\">VGG19</h3>\n",
    "<h3 style=\"color:blue\">Compiler</h3>"
   ]
  },
  {
   "cell_type": "code",
   "execution_count": 23,
   "metadata": {},
   "outputs": [],
   "source": [
    "model.compile(optimizer = 'adam', \n",
    "              loss = 'categorical_crossentropy',\n",
    "              metrics = ['accuracy'])"
   ]
  },
  {
   "cell_type": "markdown",
   "metadata": {},
   "source": [
    "<h3 style=\"color:000000\">VGG19</h3>\n",
    "<h3 style=\"color:blue\">Training</h3>"
   ]
  },
  {
   "cell_type": "code",
   "execution_count": 24,
   "metadata": {},
   "outputs": [
    {
     "name": "stdout",
     "output_type": "stream",
     "text": [
      "WARNING:tensorflow:From C:\\Users\\ASUS\\miniconda3\\envs\\CMPE462Project\\lib\\site-packages\\tensorflow\\python\\ops\\array_ops.py:5049: calling gather (from tensorflow.python.ops.array_ops) with validate_indices is deprecated and will be removed in a future version.\n",
      "Instructions for updating:\n",
      "The `validate_indices` argument has no effect. Indices are always validated on CPU and never validated on GPU.\n",
      "Epoch 1/100\n",
      "267/267 [==============================] - 85s 260ms/step - loss: 0.6287 - accuracy: 0.7238 - val_loss: 0.6328 - val_accuracy: 0.7022\n",
      "Epoch 2/100\n",
      "267/267 [==============================] - 62s 231ms/step - loss: 0.5202 - accuracy: 0.7669 - val_loss: 0.4591 - val_accuracy: 0.8166\n",
      "Epoch 3/100\n",
      "267/267 [==============================] - 65s 242ms/step - loss: 0.5203 - accuracy: 0.7671 - val_loss: 0.5793 - val_accuracy: 0.7087\n",
      "Epoch 4/100\n",
      "267/267 [==============================] - 66s 247ms/step - loss: 0.5253 - accuracy: 0.7758 - val_loss: 0.4621 - val_accuracy: 0.8161\n",
      "Epoch 5/100\n",
      "267/267 [==============================] - 66s 249ms/step - loss: 0.5183 - accuracy: 0.7747 - val_loss: 0.4788 - val_accuracy: 0.7922\n",
      "Epoch 6/100\n",
      "267/267 [==============================] - 68s 253ms/step - loss: 0.5120 - accuracy: 0.7776 - val_loss: 0.4552 - val_accuracy: 0.8246\n",
      "Epoch 7/100\n",
      "267/267 [==============================] - 68s 256ms/step - loss: 0.5023 - accuracy: 0.7852 - val_loss: 0.4648 - val_accuracy: 0.7908\n",
      "Epoch 8/100\n",
      "267/267 [==============================] - 69s 260ms/step - loss: 0.4987 - accuracy: 0.7883 - val_loss: 0.4534 - val_accuracy: 0.8161\n",
      "Epoch 9/100\n",
      "267/267 [==============================] - 69s 260ms/step - loss: 0.4967 - accuracy: 0.7852 - val_loss: 0.4422 - val_accuracy: 0.8232\n",
      "Epoch 10/100\n",
      "267/267 [==============================] - 70s 261ms/step - loss: 0.5005 - accuracy: 0.7875 - val_loss: 0.4623 - val_accuracy: 0.8152\n",
      "Epoch 11/100\n",
      "267/267 [==============================] - 72s 268ms/step - loss: 0.5045 - accuracy: 0.7823 - val_loss: 0.4940 - val_accuracy: 0.7598\n",
      "Epoch 12/100\n",
      "267/267 [==============================] - 72s 268ms/step - loss: 0.5008 - accuracy: 0.7875 - val_loss: 0.4639 - val_accuracy: 0.8077\n",
      "Epoch 13/100\n",
      "267/267 [==============================] - 72s 269ms/step - loss: 0.4950 - accuracy: 0.7895 - val_loss: 0.4932 - val_accuracy: 0.7589\n",
      "Epoch 14/100\n",
      "267/267 [==============================] - 75s 281ms/step - loss: 0.5035 - accuracy: 0.7748 - val_loss: 0.4617 - val_accuracy: 0.7927\n",
      "Epoch 15/100\n",
      "267/267 [==============================] - 75s 281ms/step - loss: 0.4945 - accuracy: 0.7907 - val_loss: 0.4618 - val_accuracy: 0.8030\n",
      "Epoch 16/100\n",
      "267/267 [==============================] - 75s 281ms/step - loss: 0.4980 - accuracy: 0.7881 - val_loss: 0.4672 - val_accuracy: 0.8250\n",
      "Epoch 17/100\n",
      "267/267 [==============================] - 75s 281ms/step - loss: 0.4934 - accuracy: 0.7985 - val_loss: 0.4451 - val_accuracy: 0.8208\n",
      "Epoch 18/100\n",
      "267/267 [==============================] - 75s 281ms/step - loss: 0.4880 - accuracy: 0.7905 - val_loss: 0.4499 - val_accuracy: 0.8021\n",
      "Epoch 19/100\n",
      "267/267 [==============================] - 75s 281ms/step - loss: 0.4877 - accuracy: 0.7926 - val_loss: 0.4504 - val_accuracy: 0.8166\n",
      "Epoch 20/100\n",
      "267/267 [==============================] - 75s 281ms/step - loss: 0.4879 - accuracy: 0.7866 - val_loss: 0.4410 - val_accuracy: 0.8166\n",
      "Epoch 21/100\n",
      "267/267 [==============================] - 75s 281ms/step - loss: 0.4922 - accuracy: 0.7870 - val_loss: 0.4521 - val_accuracy: 0.8072\n",
      "Epoch 22/100\n",
      "267/267 [==============================] - 75s 281ms/step - loss: 0.4896 - accuracy: 0.7890 - val_loss: 0.4470 - val_accuracy: 0.8283\n",
      "Epoch 23/100\n",
      "267/267 [==============================] - 75s 281ms/step - loss: 0.4847 - accuracy: 0.7963 - val_loss: 0.4407 - val_accuracy: 0.8316\n",
      "Epoch 24/100\n",
      "267/267 [==============================] - 77s 288ms/step - loss: 0.4748 - accuracy: 0.8034 - val_loss: 0.4410 - val_accuracy: 0.8053\n",
      "Epoch 25/100\n",
      "267/267 [==============================] - 77s 288ms/step - loss: 0.4837 - accuracy: 0.7922 - val_loss: 0.4283 - val_accuracy: 0.8311\n",
      "Epoch 26/100\n",
      "267/267 [==============================] - 77s 288ms/step - loss: 0.4829 - accuracy: 0.8007 - val_loss: 0.4588 - val_accuracy: 0.8072\n",
      "Epoch 27/100\n",
      "267/267 [==============================] - 77s 288ms/step - loss: 0.4778 - accuracy: 0.8019 - val_loss: 0.4795 - val_accuracy: 0.7828\n",
      "Epoch 28/100\n",
      "267/267 [==============================] - 77s 288ms/step - loss: 0.4794 - accuracy: 0.7996 - val_loss: 0.4382 - val_accuracy: 0.8199\n",
      "Epoch 29/100\n",
      "267/267 [==============================] - 77s 288ms/step - loss: 0.4782 - accuracy: 0.7960 - val_loss: 0.4319 - val_accuracy: 0.8269\n",
      "Epoch 30/100\n",
      "267/267 [==============================] - 77s 288ms/step - loss: 0.4760 - accuracy: 0.7986 - val_loss: 0.4708 - val_accuracy: 0.7946\n",
      "Epoch 31/100\n",
      "267/267 [==============================] - 77s 289ms/step - loss: 0.4761 - accuracy: 0.8013 - val_loss: 0.4326 - val_accuracy: 0.8358\n",
      "Epoch 32/100\n",
      "267/267 [==============================] - 77s 288ms/step - loss: 0.4810 - accuracy: 0.7929 - val_loss: 0.4329 - val_accuracy: 0.8199\n",
      "Epoch 33/100\n",
      "267/267 [==============================] - 77s 288ms/step - loss: 0.4777 - accuracy: 0.7982 - val_loss: 0.4546 - val_accuracy: 0.8213\n",
      "Epoch 34/100\n",
      "267/267 [==============================] - 77s 288ms/step - loss: 0.4836 - accuracy: 0.7955 - val_loss: 0.4473 - val_accuracy: 0.8208\n",
      "Epoch 35/100\n",
      "267/267 [==============================] - 77s 288ms/step - loss: 0.4802 - accuracy: 0.8030 - val_loss: 0.4324 - val_accuracy: 0.8283\n",
      "Epoch 36/100\n",
      "267/267 [==============================] - 77s 289ms/step - loss: 0.4731 - accuracy: 0.8068 - val_loss: 0.4186 - val_accuracy: 0.8340\n",
      "Epoch 37/100\n",
      "267/267 [==============================] - 77s 289ms/step - loss: 0.4787 - accuracy: 0.7989 - val_loss: 0.4683 - val_accuracy: 0.7922\n",
      "Epoch 38/100\n",
      "267/267 [==============================] - 80s 301ms/step - loss: 0.4724 - accuracy: 0.8023 - val_loss: 0.4380 - val_accuracy: 0.8171\n",
      "Epoch 39/100\n",
      "267/267 [==============================] - 80s 301ms/step - loss: 0.4761 - accuracy: 0.8042 - val_loss: 0.4323 - val_accuracy: 0.8302\n",
      "Epoch 40/100\n",
      "267/267 [==============================] - 80s 301ms/step - loss: 0.4760 - accuracy: 0.8023 - val_loss: 0.4471 - val_accuracy: 0.8288\n",
      "Epoch 41/100\n",
      "267/267 [==============================] - 80s 301ms/step - loss: 0.4759 - accuracy: 0.8044 - val_loss: 0.4641 - val_accuracy: 0.8171\n",
      "Epoch 42/100\n",
      "267/267 [==============================] - 80s 301ms/step - loss: 0.4753 - accuracy: 0.7940 - val_loss: 0.4195 - val_accuracy: 0.8349\n",
      "Epoch 43/100\n",
      "267/267 [==============================] - 80s 301ms/step - loss: 0.4776 - accuracy: 0.8049 - val_loss: 0.4183 - val_accuracy: 0.8354\n",
      "Epoch 44/100\n",
      "267/267 [==============================] - 80s 301ms/step - loss: 0.4779 - accuracy: 0.8002 - val_loss: 0.4402 - val_accuracy: 0.8307\n",
      "Epoch 45/100\n",
      "267/267 [==============================] - 80s 301ms/step - loss: 0.4695 - accuracy: 0.8011 - val_loss: 0.4415 - val_accuracy: 0.8246\n",
      "Epoch 46/100\n",
      "267/267 [==============================] - 80s 301ms/step - loss: 0.4736 - accuracy: 0.7982 - val_loss: 0.4340 - val_accuracy: 0.8302\n",
      "Epoch 47/100\n",
      "267/267 [==============================] - 80s 301ms/step - loss: 0.4725 - accuracy: 0.8063 - val_loss: 0.4184 - val_accuracy: 0.8321\n",
      "Epoch 48/100\n",
      "267/267 [==============================] - 80s 301ms/step - loss: 0.4771 - accuracy: 0.7987 - val_loss: 0.4259 - val_accuracy: 0.8340\n",
      "Epoch 49/100\n",
      "267/267 [==============================] - 80s 301ms/step - loss: 0.4675 - accuracy: 0.8117 - val_loss: 0.4241 - val_accuracy: 0.8311\n",
      "Epoch 50/100\n",
      "267/267 [==============================] - 80s 301ms/step - loss: 0.4690 - accuracy: 0.8067 - val_loss: 0.4176 - val_accuracy: 0.8382\n",
      "Epoch 51/100\n",
      "267/267 [==============================] - 80s 301ms/step - loss: 0.4672 - accuracy: 0.8088 - val_loss: 0.4543 - val_accuracy: 0.8340\n",
      "Epoch 52/100\n",
      "267/267 [==============================] - 80s 301ms/step - loss: 0.4649 - accuracy: 0.7999 - val_loss: 0.4128 - val_accuracy: 0.8401\n",
      "Epoch 53/100\n",
      "267/267 [==============================] - 80s 301ms/step - loss: 0.4634 - accuracy: 0.8132 - val_loss: 0.4419 - val_accuracy: 0.8255\n",
      "Epoch 54/100\n",
      "267/267 [==============================] - 80s 301ms/step - loss: 0.4649 - accuracy: 0.8113 - val_loss: 0.4258 - val_accuracy: 0.8377\n",
      "Epoch 55/100\n",
      "267/267 [==============================] - 83s 311ms/step - loss: 0.4621 - accuracy: 0.8159 - val_loss: 0.4311 - val_accuracy: 0.8340\n",
      "Epoch 56/100\n",
      "267/267 [==============================] - 83s 311ms/step - loss: 0.4708 - accuracy: 0.8077 - val_loss: 0.4358 - val_accuracy: 0.8354\n",
      "Epoch 57/100\n",
      "267/267 [==============================] - 83s 311ms/step - loss: 0.4564 - accuracy: 0.8201 - val_loss: 0.4280 - val_accuracy: 0.8391\n",
      "Epoch 58/100\n",
      "267/267 [==============================] - 83s 311ms/step - loss: 0.4479 - accuracy: 0.8177 - val_loss: 0.4247 - val_accuracy: 0.8349\n",
      "Epoch 59/100\n",
      "267/267 [==============================] - 83s 311ms/step - loss: 0.4636 - accuracy: 0.8164 - val_loss: 0.4196 - val_accuracy: 0.8419\n",
      "Epoch 60/100\n",
      "267/267 [==============================] - 83s 311ms/step - loss: 0.4633 - accuracy: 0.8135 - val_loss: 0.4075 - val_accuracy: 0.8377\n",
      "Epoch 61/100\n",
      "267/267 [==============================] - 83s 311ms/step - loss: 0.4651 - accuracy: 0.8140 - val_loss: 0.4270 - val_accuracy: 0.8358\n",
      "Epoch 62/100\n",
      "267/267 [==============================] - 83s 311ms/step - loss: 0.4599 - accuracy: 0.8163 - val_loss: 0.4158 - val_accuracy: 0.8386\n",
      "Epoch 63/100\n",
      "267/267 [==============================] - 83s 311ms/step - loss: 0.4669 - accuracy: 0.8030 - val_loss: 0.4117 - val_accuracy: 0.8391\n",
      "Epoch 64/100\n",
      "267/267 [==============================] - 83s 311ms/step - loss: 0.4581 - accuracy: 0.8130 - val_loss: 0.4589 - val_accuracy: 0.8039\n",
      "Epoch 65/100\n",
      "267/267 [==============================] - 83s 311ms/step - loss: 0.4635 - accuracy: 0.8070 - val_loss: 0.4093 - val_accuracy: 0.8401\n",
      "Epoch 66/100\n",
      "267/267 [==============================] - 83s 311ms/step - loss: 0.4650 - accuracy: 0.8099 - val_loss: 0.4289 - val_accuracy: 0.8368\n",
      "Epoch 67/100\n",
      "267/267 [==============================] - 83s 311ms/step - loss: 0.4715 - accuracy: 0.8150 - val_loss: 0.4370 - val_accuracy: 0.8321\n",
      "Epoch 68/100\n",
      "267/267 [==============================] - 83s 311ms/step - loss: 0.4654 - accuracy: 0.8118 - val_loss: 0.4110 - val_accuracy: 0.8466\n",
      "Epoch 69/100\n",
      "267/267 [==============================] - 83s 311ms/step - loss: 0.4618 - accuracy: 0.8150 - val_loss: 0.4277 - val_accuracy: 0.8260\n",
      "Epoch 70/100\n",
      "267/267 [==============================] - 83s 311ms/step - loss: 0.4603 - accuracy: 0.8144 - val_loss: 0.4391 - val_accuracy: 0.8293\n",
      "Epoch 71/100\n",
      "267/267 [==============================] - 83s 311ms/step - loss: 0.4652 - accuracy: 0.8078 - val_loss: 0.4372 - val_accuracy: 0.8311\n",
      "Epoch 72/100\n",
      "267/267 [==============================] - 83s 311ms/step - loss: 0.4634 - accuracy: 0.8197 - val_loss: 0.4206 - val_accuracy: 0.8405\n",
      "Epoch 73/100\n",
      "267/267 [==============================] - 83s 311ms/step - loss: 0.4483 - accuracy: 0.8248 - val_loss: 0.4191 - val_accuracy: 0.8433\n",
      "Epoch 74/100\n",
      "267/267 [==============================] - 83s 311ms/step - loss: 0.4752 - accuracy: 0.8094 - val_loss: 0.4557 - val_accuracy: 0.8246\n",
      "Epoch 75/100\n",
      "267/267 [==============================] - 83s 311ms/step - loss: 0.4669 - accuracy: 0.8117 - val_loss: 0.4134 - val_accuracy: 0.8415\n",
      "Epoch 76/100\n",
      "267/267 [==============================] - 83s 311ms/step - loss: 0.4656 - accuracy: 0.8176 - val_loss: 0.4254 - val_accuracy: 0.8424\n",
      "Epoch 77/100\n",
      "267/267 [==============================] - 83s 311ms/step - loss: 0.4876 - accuracy: 0.8119 - val_loss: 0.4517 - val_accuracy: 0.8297\n",
      "Epoch 78/100\n",
      "267/267 [==============================] - 83s 311ms/step - loss: 0.4717 - accuracy: 0.8156 - val_loss: 0.4381 - val_accuracy: 0.8307\n",
      "Epoch 79/100\n",
      "267/267 [==============================] - 83s 311ms/step - loss: 0.4588 - accuracy: 0.8160 - val_loss: 0.4103 - val_accuracy: 0.8433\n",
      "Epoch 80/100\n",
      "267/267 [==============================] - 83s 311ms/step - loss: 0.4567 - accuracy: 0.8156 - val_loss: 0.4209 - val_accuracy: 0.8452\n",
      "Epoch 81/100\n",
      "267/267 [==============================] - 83s 311ms/step - loss: 0.4491 - accuracy: 0.8176 - val_loss: 0.4104 - val_accuracy: 0.8344\n",
      "Epoch 82/100\n",
      "267/267 [==============================] - 83s 311ms/step - loss: 0.4584 - accuracy: 0.8196 - val_loss: 0.4188 - val_accuracy: 0.8433\n",
      "Epoch 83/100\n",
      "267/267 [==============================] - 83s 311ms/step - loss: 0.4742 - accuracy: 0.8117 - val_loss: 0.4385 - val_accuracy: 0.8311\n",
      "Epoch 84/100\n",
      "267/267 [==============================] - 83s 311ms/step - loss: 0.4690 - accuracy: 0.8096 - val_loss: 0.4613 - val_accuracy: 0.8410\n",
      "Epoch 85/100\n",
      "267/267 [==============================] - 83s 311ms/step - loss: 0.4494 - accuracy: 0.8276 - val_loss: 0.3987 - val_accuracy: 0.8537\n",
      "Epoch 86/100\n",
      "267/267 [==============================] - 83s 311ms/step - loss: 0.4598 - accuracy: 0.8111 - val_loss: 0.4401 - val_accuracy: 0.8143\n",
      "Epoch 87/100\n",
      "267/267 [==============================] - 83s 311ms/step - loss: 0.4452 - accuracy: 0.8245 - val_loss: 0.4068 - val_accuracy: 0.8490\n",
      "Epoch 88/100\n",
      "267/267 [==============================] - 83s 311ms/step - loss: 0.4579 - accuracy: 0.8094 - val_loss: 0.4417 - val_accuracy: 0.8171\n",
      "Epoch 89/100\n",
      "267/267 [==============================] - 83s 311ms/step - loss: 0.4728 - accuracy: 0.8091 - val_loss: 0.4685 - val_accuracy: 0.8002\n",
      "Epoch 90/100\n",
      "267/267 [==============================] - 83s 311ms/step - loss: 0.4662 - accuracy: 0.8069 - val_loss: 0.4585 - val_accuracy: 0.8039\n",
      "Epoch 91/100\n",
      "267/267 [==============================] - 83s 311ms/step - loss: 0.4537 - accuracy: 0.8187 - val_loss: 0.4069 - val_accuracy: 0.8462\n",
      "Epoch 92/100\n",
      "267/267 [==============================] - 83s 311ms/step - loss: 0.4478 - accuracy: 0.8228 - val_loss: 0.4074 - val_accuracy: 0.8405\n",
      "Epoch 93/100\n",
      "267/267 [==============================] - 83s 311ms/step - loss: 0.4468 - accuracy: 0.8184 - val_loss: 0.4168 - val_accuracy: 0.8382\n",
      "Epoch 94/100\n",
      "267/267 [==============================] - 83s 311ms/step - loss: 0.4671 - accuracy: 0.8051 - val_loss: 0.4385 - val_accuracy: 0.8396\n",
      "Epoch 95/100\n",
      "267/267 [==============================] - 83s 311ms/step - loss: 0.4632 - accuracy: 0.8162 - val_loss: 0.4316 - val_accuracy: 0.8462\n",
      "Epoch 96/100\n",
      "267/267 [==============================] - 83s 311ms/step - loss: 0.4554 - accuracy: 0.8223 - val_loss: 0.4309 - val_accuracy: 0.8326\n",
      "Epoch 97/100\n",
      "267/267 [==============================] - 83s 311ms/step - loss: 0.4487 - accuracy: 0.8219 - val_loss: 0.3956 - val_accuracy: 0.8471\n",
      "Epoch 98/100\n",
      "267/267 [==============================] - 83s 311ms/step - loss: 0.4555 - accuracy: 0.8186 - val_loss: 0.4254 - val_accuracy: 0.8382\n",
      "Epoch 99/100\n",
      "267/267 [==============================] - 83s 311ms/step - loss: 0.4493 - accuracy: 0.8224 - val_loss: 0.4142 - val_accuracy: 0.8462\n",
      "Epoch 100/100\n",
      "267/267 [==============================] - 83s 311ms/step - loss: 0.4418 - accuracy: 0.8223 - val_loss: 0.3956 - val_accuracy: 0.8438\n"
     ]
    }
   ],
   "source": [
    "H = model.fit(\n",
    "    train_ds,\n",
    "    epochs = EPOCHS,\n",
    "    validation_data = val_ds,\n",
    "    class_weight = class_weight)"
   ]
  },
  {
   "cell_type": "code",
   "execution_count": 25,
   "metadata": {},
   "outputs": [
    {
     "name": "stdout",
     "output_type": "stream",
     "text": [
      "INFO:tensorflow:Assets written to: vgg19-model\\assets\n"
     ]
    }
   ],
   "source": [
    "model.save('vgg19-model')"
   ]
  },
  {
   "cell_type": "code",
   "execution_count": 26,
   "metadata": {},
   "outputs": [
    {
     "name": "stdout",
     "output_type": "stream",
     "text": [
      "\n",
      "val_accuracy: 82.35%\n",
      "\n",
      "accuracy: 80.34%\n"
     ]
    }
   ],
   "source": [
    "val_accuracy = np.mean(H.history['val_accuracy'])\n",
    "print(\"\\n%s: %.2f%%\" % ('val_accuracy', val_accuracy*100))\n",
    "\n",
    "\n",
    "accuracy = np.mean(H.history['accuracy'])\n",
    "print(\"\\n%s: %.2f%%\" % ('accuracy', accuracy*100))"
   ]
  },
  {
   "cell_type": "code",
   "execution_count": 27,
   "metadata": {},
   "outputs": [
    {
     "data": {
      "image/png": "[encoded data removed]",
      "text/plain": [
       "<Figure size 1008x288 with 2 Axes>"
      ]
     },
     "metadata": {
      "needs_background": "light"
     },
     "output_type": "display_data"
    }
   ],
   "source": [
    "history_df = pd.DataFrame(H.history)\n",
    "\n",
    "plt.figure(figsize=(14, 4))\n",
    "plt.subplot(1,2,1)\n",
    "sns.scatterplot(data=history_df[['accuracy','val_accuracy']], palette=['#E2485A', '#679B8B']);\n",
    "plt.legend(loc='lower right')\n",
    "plt.title('Training and Validation Accuracy')\n",
    "\n",
    "plt.subplot(1,2,2)\n",
    "sns.scatterplot(data=history_df[['loss','val_loss']], palette=['#E2485A', '#679B8B'])\n",
    "plt.title('Training and Validation Loss')\n",
    "\n",
    "plt.show()"
   ]
  },
  {
   "cell_type": "code",
   "execution_count": 15,
   "metadata": {},
   "outputs": [],
   "source": [
    "model = tf.keras.models.load_model('vgg19-model')"
   ]
  },
  {
   "cell_type": "code",
   "execution_count": 16,
   "metadata": {},
   "outputs": [
    {
     "data": {
      "image/png": "[encoded data removed]",
      "text/plain": [
       "<Figure size 576x432 with 2 Axes>"
      ]
     },
     "metadata": {
      "needs_background": "light"
     },
     "output_type": "display_data"
    }
   ],
   "source": [
    "y_test_arg=np.argmax(y_val,axis=1)\n",
    "Y_pred = np.argmax(model.predict(X_val),axis=1)\n",
    "cm = confusion_matrix(y_test_arg, Y_pred)\n",
    "plot_confusion_matrix(cm=cm, normalize=True,target_names=CLASS_NAMES)"
   ]
  },
  {
   "cell_type": "code",
   "execution_count": 17,
   "metadata": {},
   "outputs": [
    {
     "name": "stdout",
     "output_type": "stream",
     "text": [
      "              precision    recall  f1-score   support\n",
      "\n",
      "         ALL       0.70      0.80      0.75      1488\n",
      "         HEM       0.31      0.20      0.25       644\n",
      "\n",
      "    accuracy                           0.62      2132\n",
      "   macro avg       0.50      0.50      0.50      2132\n",
      "weighted avg       0.58      0.62      0.60      2132\n",
      "\n"
     ]
    }
   ],
   "source": [
    "print(classification_report(y_test_arg, Y_pred, target_names=CLASS_NAMES))"
   ]
  },
  {
   "cell_type": "code",
   "execution_count": 18,
   "metadata": {},
   "outputs": [],
   "source": [
    "#new_model = tf.keras.models.load_model('vgg19-model/model.h5',custom_objects={'KerasLayer':hub.KerasLayer})\n",
    "#new_model.summary()"
   ]
  },
  {
   "cell_type": "code",
   "execution_count": null,
   "metadata": {
    "scrolled": true
   },
   "outputs": [
    {
     "name": "stdout",
     "output_type": "stream",
     "text": [
      "UID_57_1_8_all.bmp\n"
     ]
    },
    {
     "data": {
      "image/png": "[encoded data removed]",
      "text/plain": [
       "<Figure size 432x288 with 1 Axes>"
      ]
     },
     "metadata": {
      "needs_background": "light"
     },
     "output_type": "display_data"
    }
   ],
   "source": [
    "test_img_path = random.choice(valid_dataset)\n",
    "\n",
    "test_img = cv.imread(test_img_path)\n",
    "\n",
    "img = cv.imread(test_img_path)\n",
    "img = cv.resize(img, (128,128))\n",
    "img = img.astype(\"float\") / 255.0\n",
    "img = img_to_array(img)\n",
    "img = np.expand_dims(img, axis=0)\n",
    "\n",
    "preds = model.predict(img)[0]\n",
    "\n",
    "j = np.argmax(preds)\n",
    "label = CLASS_NAMES[j]\n",
    "\n",
    "bmp_f = test_img_path.split(os.sep)[-1]\n",
    "\n",
    "label = \"{}: {:.2f}%\".format(label, preds[j])\n",
    "\n",
    "\n",
    "plt.title(label)\n",
    "plt.imshow(test_img)\n",
    "\n",
    "print(valid_data[valid_data[\"new_names\"] == bmp_f].Patient_ID.values[0])"
   ]
  },
  {
   "cell_type": "code",
   "execution_count": null,
   "metadata": {},
   "outputs": [],
   "source": []
  }
 ],
 "metadata": {
  "kernelspec": {
   "display_name": "leuk-class-proj",
   "language": "python",
   "name": "leuk-class-proj"
  },
  "language_info": {
   "codemirror_mode": {
    "name": "ipython",
    "version": 3
   },
   "file_extension": ".py",
   "mimetype": "text/x-python",
   "name": "python",
   "nbconvert_exporter": "python",
   "pygments_lexer": "ipython3",
   "version": "3.6.13"
  }
 },
 "nbformat": 4,
 "nbformat_minor": 4
}
