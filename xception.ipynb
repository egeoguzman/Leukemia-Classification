{
 "cells": [
  {
   "cell_type": "markdown",
   "metadata": {},
   "source": [
    "<h1 style=\"color:000000\">Leukemia Classification</h1>"
   ]
  },
  {
   "cell_type": "markdown",
   "metadata": {},
   "source": [
    "<h3 style=\"color:000000\">Installing dependicies and packages</h3>"
   ]
  },
  {
   "cell_type": "code",
   "execution_count": null,
   "metadata": {},
   "outputs": [],
   "source": [
    "!pip install numpy\n",
    "!pip install pandas\n",
    "!pip install matplotlib\n",
    "!pip install tensorflow\n",
    "!pip install scikit-image\n",
    "!pip install tqdm\n",
    "!pip install scikit-learn\n",
    "!pip install seaborn\n",
    "!pip install opencv-contrib-python"
   ]
  },
  {
   "cell_type": "markdown",
   "metadata": {},
   "source": [
    "<h3 style=\"color:000000\">Importing libraries</h3>"
   ]
  },
  {
   "cell_type": "code",
   "execution_count": 1,
   "metadata": {},
   "outputs": [],
   "source": [
    "import numpy as np\n",
    "import pandas as pd\n",
    "import matplotlib.pyplot as plt\n",
    "import tensorflow as tf\n",
    "import os\n",
    "import tqdm\n",
    "import skimage.io\n",
    "import glob\n",
    "import random\n",
    "from PIL import Image\n",
    "import itertools\n",
    "\n",
    "import cv2 as cv\n",
    "\n",
    "import seaborn as sns\n",
    "\n",
    "from tqdm import tqdm\n",
    "\n",
    "from skimage.io import imread, imshow\n",
    "from sklearn.preprocessing import LabelEncoder, OrdinalEncoder\n",
    "from skimage.transform import resize\n",
    "from sklearn.utils import shuffle\n",
    "from sklearn.metrics import classification_report, confusion_matrix \n",
    "from sklearn.model_selection import train_test_split\n",
    "\n",
    "import tensorflow as tf\n",
    "import tensorflow_hub as hub\n",
    "from tensorflow.keras.models import load_model\n",
    "from tensorflow.keras.utils import to_categorical\n",
    "from tensorflow.keras.preprocessing.image import ImageDataGenerator\n",
    "from tensorflow.keras.models import Sequential, Model\n",
    "from tensorflow.keras.layers import InputLayer, Conv2D, BatchNormalization, MaxPool2D, Dropout, Flatten, Dense\n",
    "from tensorflow.keras.callbacks import EarlyStopping, ModelCheckpoint, ReduceLROnPlateau\n",
    "from tensorflow.keras.applications.inception_v3 import preprocess_input, decode_predictions\n",
    "from tensorflow.keras.preprocessing import image\n",
    "from tensorflow.keras import layers\n",
    "from tensorflow.keras.preprocessing.image import img_to_array\n",
    "from tensorflow.keras.applications.xception import Xception, preprocess_input\n",
    "from tensorflow.keras.optimizers import Adam\n",
    "\n",
    "from keras.utils import np_utils\n",
    "from keras import backend as K"
   ]
  },
  {
   "cell_type": "markdown",
   "metadata": {},
   "source": [
    "<h3 style=\"color:000000\">Utilities</h3>\n",
    "<h3 style=\"color:blue\">Confusion Matrix Plotting Function</h3>"
   ]
  },
  {
   "cell_type": "code",
   "execution_count": 2,
   "metadata": {},
   "outputs": [],
   "source": [
    "def plot_confusion_matrix(cm,\n",
    "                          target_names,\n",
    "                          title='Confusion matrix',\n",
    "                          cmap=None,\n",
    "                          normalize=True):\n",
    "    \"\"\"\n",
    "    given a sklearn confusion matrix (cm), make a nice plot\n",
    "\n",
    "    Arguments\n",
    "    ---------\n",
    "    cm:           confusion matrix from sklearn.metrics.confusion_matrix\n",
    "\n",
    "    target_names: given classification classes such as [0, 1, 2]\n",
    "                  the class names, for example: ['high', 'medium', 'low']\n",
    "\n",
    "    title:        the text to display at the top of the matrix\n",
    "\n",
    "    cmap:         the gradient of the values displayed from matplotlib.pyplot.cm\n",
    "                  see http://matplotlib.org/examples/color/colormaps_reference.html\n",
    "                  plt.get_cmap('jet') or plt.cm.Blues\n",
    "\n",
    "    normalize:    If False, plot the raw numbers\n",
    "                  If True, plot the proportions\n",
    "\n",
    "    Usage\n",
    "    -----\n",
    "    plot_confusion_matrix(cm           = cm,                  # confusion matrix created by\n",
    "                                                              # sklearn.metrics.confusion_matrix\n",
    "                          normalize    = True,                # show proportions\n",
    "                          target_names = y_labels_vals,       # list of names of the classes\n",
    "                          title        = best_estimator_name) # title of graph\n",
    "\n",
    "    Citiation\n",
    "    ---------\n",
    "    http://scikit-learn.org/stable/auto_examples/model_selection/plot_confusion_matrix.html\n",
    "\n",
    "    \"\"\"\n",
    "\n",
    "\n",
    "    accuracy = np.trace(cm) / float(np.sum(cm))\n",
    "    misclass = 1 - accuracy\n",
    "\n",
    "    if cmap is None:\n",
    "        cmap = plt.get_cmap('Blues')\n",
    "\n",
    "    plt.figure(figsize=(8, 6))\n",
    "    plt.imshow(cm, interpolation='nearest', cmap=cmap)\n",
    "    plt.title(title)\n",
    "    plt.colorbar()\n",
    "\n",
    "    if target_names is not None:\n",
    "        tick_marks = np.arange(len(target_names))\n",
    "        plt.xticks(tick_marks, target_names, rotation=45)\n",
    "        plt.yticks(tick_marks, target_names)\n",
    "\n",
    "    if normalize:\n",
    "        cm = cm.astype('float') / cm.sum(axis=1)[:, np.newaxis]\n",
    "\n",
    "\n",
    "    thresh = cm.max() / 1.5 if normalize else cm.max() / 2\n",
    "    for i, j in itertools.product(range(cm.shape[0]), range(cm.shape[1])):\n",
    "        if normalize:\n",
    "            plt.text(j, i, \"{:0.4f}\".format(cm[i, j]),\n",
    "                     horizontalalignment=\"center\",\n",
    "                     color=\"white\" if cm[i, j] > thresh else \"black\")\n",
    "        else:\n",
    "            plt.text(j, i, \"{:,}\".format(cm[i, j]),\n",
    "                     horizontalalignment=\"center\",\n",
    "                     color=\"white\" if cm[i, j] > thresh else \"black\")\n",
    "\n",
    "\n",
    "    plt.tight_layout()\n",
    "    plt.ylabel('True label')\n",
    "    plt.xlabel('Predicted label')\n",
    "    plt.show()"
   ]
  },
  {
   "cell_type": "markdown",
   "metadata": {},
   "source": [
    "<h3 style=\"color:000000\">Data preprocessing</h3>\n",
    "<h3 style=\"color:blue\">Reading Files</h3>"
   ]
  },
  {
   "cell_type": "markdown",
   "metadata": {},
   "source": [
    "<h3 style=\"font-weight:bold;color:red;\">!!! NOTE: For test dataset, labels are not defined. So, we are not going to be able to use test dataset for testing</h3>"
   ]
  },
  {
   "cell_type": "code",
   "execution_count": 3,
   "metadata": {},
   "outputs": [],
   "source": [
    "#Traning Dataset\n",
    "train_dataset_0_all = glob.glob('data/training_data/fold_0/all/*.bmp')\n",
    "train_dataset_0_hem = glob.glob('data/training_data/fold_0/hem/*.bmp')\n",
    "train_dataset_1_all = glob.glob('data/training_data/fold_1/all/*.bmp')\n",
    "train_dataset_1_hem = glob.glob('data/training_data/fold_1/hem/*.bmp')\n",
    "train_dataset_2_all = glob.glob('data/training_data/fold_2/all/*.bmp')\n",
    "train_dataset_2_hem = glob.glob('data/training_data/fold_2/hem/*.bmp')\n",
    "\n",
    "#Test Dataset\n",
    "test_dataset  = glob.glob('data/testing_data/C-NMC_test_final_phase_data/*.bmp')\n",
    "\n",
    "#Validation Dataset (Images)\n",
    "valid_dataset = glob.glob('data/validation_data/C-NMC_test_prelim_phase_data/*.bmp')\n",
    "\n",
    "#Validation Dataset (.CSV)\n",
    "valid_data = pd.read_csv('data/validation_data/C-NMC_test_prelim_phase_data_labels.csv')"
   ]
  },
  {
   "cell_type": "markdown",
   "metadata": {},
   "source": [
    "<h3 style=\"color:000000\">Data preprocessing cont.</h3>\n",
    "<h3 style=\"color:blue\">Collecting Images</h3>"
   ]
  },
  {
   "cell_type": "code",
   "execution_count": 4,
   "metadata": {},
   "outputs": [],
   "source": [
    "ALL = []\n",
    "HEM = []\n",
    "\n",
    "ALL.extend(train_dataset_0_all)\n",
    "ALL.extend(train_dataset_1_all)\n",
    "ALL.extend(train_dataset_2_all)\n",
    "\n",
    "HEM.extend(train_dataset_0_hem)\n",
    "HEM.extend(train_dataset_1_hem)\n",
    "HEM.extend(train_dataset_2_hem)\n",
    "\n",
    "ALL = np.array(ALL)\n",
    "HEM = np.array(HEM)"
   ]
  },
  {
   "cell_type": "markdown",
   "metadata": {},
   "source": [
    "<h3 style=\"color:000000\">Data preprocessing</h3>\n",
    "<h3 style=\"color:blue\">Load the data</h3>"
   ]
  },
  {
   "cell_type": "code",
   "execution_count": 5,
   "metadata": {
    "scrolled": false
   },
   "outputs": [
    {
     "name": "stderr",
     "output_type": "stream",
     "text": [
      "100%|██████████| 7272/7272 [02:26<00:00, 49.55it/s]\n",
      "100%|██████████| 3389/3389 [01:08<00:00, 49.17it/s]\n"
     ]
    }
   ],
   "source": [
    "X_train = []\n",
    "y_train = []\n",
    "\n",
    "for i in tqdm(range(0, len(ALL))):\n",
    "    img = imread(ALL[i])\n",
    "    img = resize(img, (229,229))\n",
    "    X_train.append(img)\n",
    "    y_train.append(1)\n",
    "    \n",
    "for i in tqdm(range(0, len(HEM))):\n",
    "    img = imread(HEM[i])\n",
    "    img = resize(img, (229,229))\n",
    "    X_train.append(img)\n",
    "    y_train.append(0)\n",
    "    \n",
    "#X_train = np.array(X_train)\n",
    "#y_train = np.array(y_train)\n",
    "\n",
    "#X_train.shape, y_train.shape"
   ]
  },
  {
   "cell_type": "code",
   "execution_count": 6,
   "metadata": {},
   "outputs": [
    {
     "data": {
      "text/html": [
       "<div>\n",
       "<style scoped>\n",
       "    .dataframe tbody tr th:only-of-type {\n",
       "        vertical-align: middle;\n",
       "    }\n",
       "\n",
       "    .dataframe tbody tr th {\n",
       "        vertical-align: top;\n",
       "    }\n",
       "\n",
       "    .dataframe thead th {\n",
       "        text-align: right;\n",
       "    }\n",
       "</style>\n",
       "<table border=\"1\" class=\"dataframe\">\n",
       "  <thead>\n",
       "    <tr style=\"text-align: right;\">\n",
       "      <th></th>\n",
       "      <th>Patient_ID</th>\n",
       "      <th>new_names</th>\n",
       "      <th>labels</th>\n",
       "    </tr>\n",
       "  </thead>\n",
       "  <tbody>\n",
       "    <tr>\n",
       "      <th>0</th>\n",
       "      <td>UID_57_29_1_all.bmp</td>\n",
       "      <td>1.bmp</td>\n",
       "      <td>1</td>\n",
       "    </tr>\n",
       "    <tr>\n",
       "      <th>1</th>\n",
       "      <td>UID_57_22_2_all.bmp</td>\n",
       "      <td>2.bmp</td>\n",
       "      <td>1</td>\n",
       "    </tr>\n",
       "    <tr>\n",
       "      <th>2</th>\n",
       "      <td>UID_57_31_3_all.bmp</td>\n",
       "      <td>3.bmp</td>\n",
       "      <td>1</td>\n",
       "    </tr>\n",
       "    <tr>\n",
       "      <th>3</th>\n",
       "      <td>UID_H49_35_1_hem.bmp</td>\n",
       "      <td>4.bmp</td>\n",
       "      <td>0</td>\n",
       "    </tr>\n",
       "    <tr>\n",
       "      <th>4</th>\n",
       "      <td>UID_58_6_13_all.bmp</td>\n",
       "      <td>5.bmp</td>\n",
       "      <td>1</td>\n",
       "    </tr>\n",
       "    <tr>\n",
       "      <th>5</th>\n",
       "      <td>UID_57_8_11_all.bmp</td>\n",
       "      <td>6.bmp</td>\n",
       "      <td>1</td>\n",
       "    </tr>\n",
       "    <tr>\n",
       "      <th>6</th>\n",
       "      <td>UID_H49_29_2_hem.bmp</td>\n",
       "      <td>7.bmp</td>\n",
       "      <td>0</td>\n",
       "    </tr>\n",
       "    <tr>\n",
       "      <th>7</th>\n",
       "      <td>UID_H30_6_2_hem.bmp</td>\n",
       "      <td>8.bmp</td>\n",
       "      <td>0</td>\n",
       "    </tr>\n",
       "    <tr>\n",
       "      <th>8</th>\n",
       "      <td>UID_58_2_1_all.bmp</td>\n",
       "      <td>9.bmp</td>\n",
       "      <td>1</td>\n",
       "    </tr>\n",
       "    <tr>\n",
       "      <th>9</th>\n",
       "      <td>UID_54_35_3_all.bmp</td>\n",
       "      <td>10.bmp</td>\n",
       "      <td>1</td>\n",
       "    </tr>\n",
       "  </tbody>\n",
       "</table>\n",
       "</div>"
      ],
      "text/plain": [
       "             Patient_ID new_names  labels\n",
       "0   UID_57_29_1_all.bmp     1.bmp       1\n",
       "1   UID_57_22_2_all.bmp     2.bmp       1\n",
       "2   UID_57_31_3_all.bmp     3.bmp       1\n",
       "3  UID_H49_35_1_hem.bmp     4.bmp       0\n",
       "4   UID_58_6_13_all.bmp     5.bmp       1\n",
       "5   UID_57_8_11_all.bmp     6.bmp       1\n",
       "6  UID_H49_29_2_hem.bmp     7.bmp       0\n",
       "7   UID_H30_6_2_hem.bmp     8.bmp       0\n",
       "8    UID_58_2_1_all.bmp     9.bmp       1\n",
       "9   UID_54_35_3_all.bmp    10.bmp       1"
      ]
     },
     "execution_count": 6,
     "metadata": {},
     "output_type": "execute_result"
    }
   ],
   "source": [
    "valid_data.head(10)"
   ]
  },
  {
   "cell_type": "code",
   "execution_count": 7,
   "metadata": {},
   "outputs": [
    {
     "name": "stderr",
     "output_type": "stream",
     "text": [
      "100%|██████████| 1867/1867 [00:39<00:00, 47.84it/s]\n"
     ]
    },
    {
     "data": {
      "text/plain": [
       "((1867, 229, 229, 3), (1867,))"
      ]
     },
     "execution_count": 7,
     "metadata": {},
     "output_type": "execute_result"
    }
   ],
   "source": [
    "X_val = []\n",
    "y_val = []\n",
    "\n",
    "for img_name in tqdm(valid_data.new_names):\n",
    "    img = imread('data/validation_data/C-NMC_test_prelim_phase_data/' + img_name)\n",
    "    img = resize(img,(229,229))\n",
    "    X_val.append(img)\n",
    "      \n",
    "X_val = np.array(X_val)\n",
    "y_val = valid_data.labels.values\n",
    "X_val.shape, y_val.shape"
   ]
  },
  {
   "cell_type": "code",
   "execution_count": 8,
   "metadata": {},
   "outputs": [],
   "source": [
    "X_train = np.array(X_train, dtype=\"float\") / 255.0"
   ]
  },
  {
   "cell_type": "markdown",
   "metadata": {},
   "source": [
    "<h3 style=\"color:000000\">Data preprocessing</h3>\n",
    "<h3 style=\"color:blue\">ONE-HOT Encoding</h3>"
   ]
  },
  {
   "cell_type": "code",
   "execution_count": 9,
   "metadata": {},
   "outputs": [],
   "source": [
    "le = LabelEncoder()\n",
    "y_train = le.fit_transform(y_train)\n",
    "y_train = np_utils.to_categorical(y_train, 2)"
   ]
  },
  {
   "cell_type": "code",
   "execution_count": 10,
   "metadata": {},
   "outputs": [],
   "source": [
    "(trainX, testX, trainY, testY) = train_test_split(X_train, y_train,test_size=0.20, random_state=42)"
   ]
  },
  {
   "cell_type": "markdown",
   "metadata": {},
   "source": [
    "<h3 style=\"color:000000\">Data preprocessing</h3>\n",
    "<h3 style=\"color:blue\">Parameter Selecting</h3>"
   ]
  },
  {
   "cell_type": "code",
   "execution_count": 11,
   "metadata": {},
   "outputs": [],
   "source": [
    "AUTOTUNE = tf.data.experimental.AUTOTUNE\n",
    "BATCH_SIZE = 32\n",
    "IMG_SIZE = 299\n",
    "EPOCHS = 100\n",
    "WEIGHTS = 'imagenet'\n",
    "CLASS_NAMES = [\"HEM\", \"ALL\"]"
   ]
  },
  {
   "cell_type": "markdown",
   "metadata": {},
   "source": [
    "<h3 style=\"color:000000\">Data preprocessing</h3>\n",
    "<h3 style=\"color:blue\">Data Augmentation</h3>"
   ]
  },
  {
   "cell_type": "code",
   "execution_count": 12,
   "metadata": {},
   "outputs": [],
   "source": [
    "aug  = ImageDataGenerator(rotation_range=20, \n",
    "                                    zoom_range=0.15,\n",
    "                                    width_shift_range=0.2, \n",
    "                                    height_shift_range=0.2, \n",
    "                                    shear_range=0.15,\n",
    "                                    horizontal_flip=True, \n",
    "                                    fill_mode=\"nearest\")\n",
    "#train_datagen.fit(X_train)"
   ]
  },
  {
   "cell_type": "code",
   "execution_count": 13,
   "metadata": {},
   "outputs": [],
   "source": [
    "valid_datagen = ImageDataGenerator()\n",
    "\n",
    "valid_datagen.fit(X_val)"
   ]
  },
  {
   "cell_type": "markdown",
   "metadata": {},
   "source": [
    "<h3 style=\"color:000000\">Convolutional Neural Network</h3>\n",
    "<h3 style=\"color:blue\">XCEPTION</h3>"
   ]
  },
  {
   "cell_type": "markdown",
   "metadata": {},
   "source": [
    "<img src=\"./images/1*t6qfo9ucYza_lbLfg5-p_w.png\">"
   ]
  },
  {
   "cell_type": "markdown",
   "metadata": {},
   "source": [
    "<h3 style=\"color:000000\">XCEPTION</h3>\n",
    "<h3 style=\"color:blue\">Model Implementation</h3>"
   ]
  },
  {
   "cell_type": "code",
   "execution_count": 14,
   "metadata": {},
   "outputs": [],
   "source": [
    "models = tf.keras.models\n",
    "layers = tf.keras.layers\n",
    "#initializers = tf.contrib.keras.initializers\n",
    "#regularizers = tf.contrib.keras.regularizers"
   ]
  },
  {
   "cell_type": "code",
   "execution_count": 15,
   "metadata": {},
   "outputs": [],
   "source": [
    "def conv_block(x, filters, block_num, conv_num, strides=(1,1)):\n",
    "    name = 'block{}_conv{}_'.format(block_num, conv_num)\n",
    "\n",
    "    # conv-BN-relu\n",
    "    x = layers.Conv2D(filters, (3,3), strides=(2,2), use_bias=False, name=name)(x)\n",
    "    x = layers.BatchNormalization(name=name+'bn')(x)\n",
    "    x = layers.Activation('relu', name=name+'act')(x)\n",
    "\n",
    "    return x"
   ]
  },
  {
   "cell_type": "code",
   "execution_count": 16,
   "metadata": {},
   "outputs": [],
   "source": [
    "def separable_conv_block(x, filters, block_num, conv_num, pre_activation=None):\n",
    "    name = 'block{}_sepconv{}_'.format(block_num, conv_num)\n",
    "\n",
    "    if pre_activation is True:\n",
    "        x = layers.Activation('relu', name=name+'act')(x)\n",
    "\n",
    "    # (relu)-sepconv-BN-(relu)\n",
    "    x = layers.SeparableConv2D(filters, (3,3), padding='same', use_bias=False, name=name)(x)\n",
    "    x = layers.BatchNormalization(name=name+'bn')(x)\n",
    "\n",
    "    if pre_activation is False:\n",
    "        x = layers.Activation('relu', name=name+'act')(x)\n",
    "\n",
    "\n",
    "    return x"
   ]
  },
  {
   "cell_type": "code",
   "execution_count": 17,
   "metadata": {},
   "outputs": [],
   "source": [
    "def middle_flow_block(x, filters, block_num):\n",
    "\n",
    "    # middle flow\n",
    "\n",
    "    residual = x\n",
    "\n",
    "    x = separable_conv_block(x, filters, block_num=block_num, conv_num='1', pre_activation=True)\n",
    "    x = separable_conv_block(x, filters, block_num=block_num, conv_num='2', pre_activation=True)\n",
    "    x = separable_conv_block(x, filters, block_num=block_num, conv_num='3', pre_activation=True)\n",
    "\n",
    "    return layers.add([x, residual])"
   ]
  },
  {
   "cell_type": "code",
   "execution_count": 18,
   "metadata": {},
   "outputs": [],
   "source": [
    "def xception_block(x, filters, block_num, pre_activation=True):\n",
    "    block = 'block{}_'.format(block_num)\n",
    "    filter_conv1, filter_conv2 = filters\n",
    "\n",
    "    # residual conv branch\n",
    "    residual = layers.Conv2D(filter_conv2, (1, 1), strides=(2, 2),padding='same', use_bias=False)(x)\n",
    "    residual = layers.BatchNormalization()(residual)\n",
    "\n",
    "    # separable conv block\n",
    "    x = separable_conv_block(x, filter_conv1, block_num=block_num, conv_num='1', pre_activation=pre_activation)\n",
    "    x = separable_conv_block(x, filter_conv2, block_num=block_num, conv_num='2', pre_activation=True)\n",
    "\n",
    "    # downsampling and merging\n",
    "    x = layers.MaxPooling2D((3, 3), strides=(2, 2), padding='same', name=block+'pool')(x)\n",
    "\n",
    "    return layers.add([x, residual])"
   ]
  },
  {
   "cell_type": "code",
   "execution_count": 19,
   "metadata": {},
   "outputs": [],
   "source": [
    "def Xception(input_shape=(299,299,3), classes=2):\n",
    "    \"\"\"Instantiates the Xception architecture.\n",
    "    \"\"\"\n",
    "\n",
    "    img_input = layers.Input(shape=input_shape)\n",
    "\n",
    "    #===========ENTRY FLOW==============\n",
    "    #Block 1\n",
    "    x = conv_block(img_input, 32, block_num='1', conv_num='1', strides=(2,2))\n",
    "    x = conv_block(x, 64, block_num='1', conv_num='2')\n",
    "\n",
    "    #Block 2\n",
    "    x = xception_block(x, (128, 128), '2', pre_activation=False)\n",
    "\n",
    "    #Block 3\n",
    "    x = xception_block(x, (256, 256), '3')\n",
    "\n",
    "    #Block 4\n",
    "    x = xception_block(x, (728, 728), '4')\n",
    "\n",
    "\n",
    "    #===========MIDDLE FLOW===============\n",
    "    for i in range(8):\n",
    "        block_num = str(5+i)\n",
    "        x = middle_flow_block(x, 728, block_num)\n",
    "\n",
    "    #========EXIT FLOW============\n",
    "    #Block 13\n",
    "    x = xception_block(x, (728, 1024), '13') # second conv is different\n",
    "\n",
    "    # Block 14\n",
    "    x = separable_conv_block(x, 1536, block_num='14', conv_num='1', pre_activation=False)\n",
    "    x = separable_conv_block(x, 2048, block_num='14', conv_num='2', pre_activation=False)\n",
    "\n",
    "    # logistic regression\n",
    "    x = layers.GlobalAveragePooling2D(name='avg_pool')(x)\n",
    "    x = layers.Dense(classes, activation='softmax', name='predictions')(x)\n",
    "\n",
    "    # Create model.\n",
    "    model = models.Model(inputs=img_input, outputs=x, name='xception')\n",
    "    return model"
   ]
  },
  {
   "cell_type": "code",
   "execution_count": 20,
   "metadata": {},
   "outputs": [
    {
     "name": "stdout",
     "output_type": "stream",
     "text": [
      "Model: \"xception\"\n",
      "__________________________________________________________________________________________________\n",
      "Layer (type)                    Output Shape         Param #     Connected to                     \n",
      "==================================================================================================\n",
      "input_1 (InputLayer)            [(None, 299, 299, 3) 0                                            \n",
      "__________________________________________________________________________________________________\n",
      "block1_conv1_ (Conv2D)          (None, 149, 149, 32) 864         input_1[0][0]                    \n",
      "__________________________________________________________________________________________________\n",
      "block1_conv1_bn (BatchNormaliza (None, 149, 149, 32) 128         block1_conv1_[0][0]              \n",
      "__________________________________________________________________________________________________\n",
      "block1_conv1_act (Activation)   (None, 149, 149, 32) 0           block1_conv1_bn[0][0]            \n",
      "__________________________________________________________________________________________________\n",
      "block1_conv2_ (Conv2D)          (None, 74, 74, 64)   18432       block1_conv1_act[0][0]           \n",
      "__________________________________________________________________________________________________\n",
      "block1_conv2_bn (BatchNormaliza (None, 74, 74, 64)   256         block1_conv2_[0][0]              \n",
      "__________________________________________________________________________________________________\n",
      "block1_conv2_act (Activation)   (None, 74, 74, 64)   0           block1_conv2_bn[0][0]            \n",
      "__________________________________________________________________________________________________\n",
      "block2_sepconv1_ (SeparableConv (None, 74, 74, 128)  8768        block1_conv2_act[0][0]           \n",
      "__________________________________________________________________________________________________\n",
      "block2_sepconv1_bn (BatchNormal (None, 74, 74, 128)  512         block2_sepconv1_[0][0]           \n",
      "__________________________________________________________________________________________________\n",
      "block2_sepconv1_act (Activation (None, 74, 74, 128)  0           block2_sepconv1_bn[0][0]         \n",
      "__________________________________________________________________________________________________\n",
      "block2_sepconv2_act (Activation (None, 74, 74, 128)  0           block2_sepconv1_act[0][0]        \n",
      "__________________________________________________________________________________________________\n",
      "block2_sepconv2_ (SeparableConv (None, 74, 74, 128)  17536       block2_sepconv2_act[0][0]        \n",
      "__________________________________________________________________________________________________\n",
      "block2_sepconv2_bn (BatchNormal (None, 74, 74, 128)  512         block2_sepconv2_[0][0]           \n",
      "__________________________________________________________________________________________________\n",
      "conv2d (Conv2D)                 (None, 37, 37, 128)  8192        block1_conv2_act[0][0]           \n",
      "__________________________________________________________________________________________________\n",
      "block2_pool (MaxPooling2D)      (None, 37, 37, 128)  0           block2_sepconv2_bn[0][0]         \n",
      "__________________________________________________________________________________________________\n",
      "batch_normalization (BatchNorma (None, 37, 37, 128)  512         conv2d[0][0]                     \n",
      "__________________________________________________________________________________________________\n",
      "add (Add)                       (None, 37, 37, 128)  0           block2_pool[0][0]                \n",
      "                                                                 batch_normalization[0][0]        \n",
      "__________________________________________________________________________________________________\n",
      "block3_sepconv1_act (Activation (None, 37, 37, 128)  0           add[0][0]                        \n",
      "__________________________________________________________________________________________________\n",
      "block3_sepconv1_ (SeparableConv (None, 37, 37, 256)  33920       block3_sepconv1_act[0][0]        \n",
      "__________________________________________________________________________________________________\n",
      "block3_sepconv1_bn (BatchNormal (None, 37, 37, 256)  1024        block3_sepconv1_[0][0]           \n",
      "__________________________________________________________________________________________________\n",
      "block3_sepconv2_act (Activation (None, 37, 37, 256)  0           block3_sepconv1_bn[0][0]         \n",
      "__________________________________________________________________________________________________\n",
      "block3_sepconv2_ (SeparableConv (None, 37, 37, 256)  67840       block3_sepconv2_act[0][0]        \n",
      "__________________________________________________________________________________________________\n",
      "block3_sepconv2_bn (BatchNormal (None, 37, 37, 256)  1024        block3_sepconv2_[0][0]           \n",
      "__________________________________________________________________________________________________\n",
      "conv2d_1 (Conv2D)               (None, 19, 19, 256)  32768       add[0][0]                        \n",
      "__________________________________________________________________________________________________\n",
      "block3_pool (MaxPooling2D)      (None, 19, 19, 256)  0           block3_sepconv2_bn[0][0]         \n",
      "__________________________________________________________________________________________________\n",
      "batch_normalization_1 (BatchNor (None, 19, 19, 256)  1024        conv2d_1[0][0]                   \n",
      "__________________________________________________________________________________________________\n",
      "add_1 (Add)                     (None, 19, 19, 256)  0           block3_pool[0][0]                \n",
      "                                                                 batch_normalization_1[0][0]      \n",
      "__________________________________________________________________________________________________\n",
      "block4_sepconv1_act (Activation (None, 19, 19, 256)  0           add_1[0][0]                      \n",
      "__________________________________________________________________________________________________\n",
      "block4_sepconv1_ (SeparableConv (None, 19, 19, 728)  188672      block4_sepconv1_act[0][0]        \n",
      "__________________________________________________________________________________________________\n",
      "block4_sepconv1_bn (BatchNormal (None, 19, 19, 728)  2912        block4_sepconv1_[0][0]           \n",
      "__________________________________________________________________________________________________\n",
      "block4_sepconv2_act (Activation (None, 19, 19, 728)  0           block4_sepconv1_bn[0][0]         \n",
      "__________________________________________________________________________________________________\n",
      "block4_sepconv2_ (SeparableConv (None, 19, 19, 728)  536536      block4_sepconv2_act[0][0]        \n",
      "__________________________________________________________________________________________________\n",
      "block4_sepconv2_bn (BatchNormal (None, 19, 19, 728)  2912        block4_sepconv2_[0][0]           \n",
      "__________________________________________________________________________________________________\n",
      "conv2d_2 (Conv2D)               (None, 10, 10, 728)  186368      add_1[0][0]                      \n",
      "__________________________________________________________________________________________________\n",
      "block4_pool (MaxPooling2D)      (None, 10, 10, 728)  0           block4_sepconv2_bn[0][0]         \n",
      "__________________________________________________________________________________________________\n",
      "batch_normalization_2 (BatchNor (None, 10, 10, 728)  2912        conv2d_2[0][0]                   \n",
      "__________________________________________________________________________________________________\n",
      "add_2 (Add)                     (None, 10, 10, 728)  0           block4_pool[0][0]                \n",
      "                                                                 batch_normalization_2[0][0]      \n",
      "__________________________________________________________________________________________________\n",
      "block5_sepconv1_act (Activation (None, 10, 10, 728)  0           add_2[0][0]                      \n",
      "__________________________________________________________________________________________________\n",
      "block5_sepconv1_ (SeparableConv (None, 10, 10, 728)  536536      block5_sepconv1_act[0][0]        \n",
      "__________________________________________________________________________________________________\n",
      "block5_sepconv1_bn (BatchNormal (None, 10, 10, 728)  2912        block5_sepconv1_[0][0]           \n",
      "__________________________________________________________________________________________________\n",
      "block5_sepconv2_act (Activation (None, 10, 10, 728)  0           block5_sepconv1_bn[0][0]         \n",
      "__________________________________________________________________________________________________\n",
      "block5_sepconv2_ (SeparableConv (None, 10, 10, 728)  536536      block5_sepconv2_act[0][0]        \n",
      "__________________________________________________________________________________________________\n",
      "block5_sepconv2_bn (BatchNormal (None, 10, 10, 728)  2912        block5_sepconv2_[0][0]           \n",
      "__________________________________________________________________________________________________\n",
      "block5_sepconv3_act (Activation (None, 10, 10, 728)  0           block5_sepconv2_bn[0][0]         \n",
      "__________________________________________________________________________________________________\n",
      "block5_sepconv3_ (SeparableConv (None, 10, 10, 728)  536536      block5_sepconv3_act[0][0]        \n",
      "__________________________________________________________________________________________________\n",
      "block5_sepconv3_bn (BatchNormal (None, 10, 10, 728)  2912        block5_sepconv3_[0][0]           \n",
      "__________________________________________________________________________________________________\n",
      "add_3 (Add)                     (None, 10, 10, 728)  0           block5_sepconv3_bn[0][0]         \n",
      "                                                                 add_2[0][0]                      \n",
      "__________________________________________________________________________________________________\n",
      "block6_sepconv1_act (Activation (None, 10, 10, 728)  0           add_3[0][0]                      \n",
      "__________________________________________________________________________________________________\n",
      "block6_sepconv1_ (SeparableConv (None, 10, 10, 728)  536536      block6_sepconv1_act[0][0]        \n",
      "__________________________________________________________________________________________________\n",
      "block6_sepconv1_bn (BatchNormal (None, 10, 10, 728)  2912        block6_sepconv1_[0][0]           \n",
      "__________________________________________________________________________________________________\n",
      "block6_sepconv2_act (Activation (None, 10, 10, 728)  0           block6_sepconv1_bn[0][0]         \n",
      "__________________________________________________________________________________________________\n",
      "block6_sepconv2_ (SeparableConv (None, 10, 10, 728)  536536      block6_sepconv2_act[0][0]        \n",
      "__________________________________________________________________________________________________\n",
      "block6_sepconv2_bn (BatchNormal (None, 10, 10, 728)  2912        block6_sepconv2_[0][0]           \n",
      "__________________________________________________________________________________________________\n",
      "block6_sepconv3_act (Activation (None, 10, 10, 728)  0           block6_sepconv2_bn[0][0]         \n",
      "__________________________________________________________________________________________________\n",
      "block6_sepconv3_ (SeparableConv (None, 10, 10, 728)  536536      block6_sepconv3_act[0][0]        \n",
      "__________________________________________________________________________________________________\n",
      "block6_sepconv3_bn (BatchNormal (None, 10, 10, 728)  2912        block6_sepconv3_[0][0]           \n",
      "__________________________________________________________________________________________________\n",
      "add_4 (Add)                     (None, 10, 10, 728)  0           block6_sepconv3_bn[0][0]         \n",
      "                                                                 add_3[0][0]                      \n",
      "__________________________________________________________________________________________________\n",
      "block7_sepconv1_act (Activation (None, 10, 10, 728)  0           add_4[0][0]                      \n",
      "__________________________________________________________________________________________________\n",
      "block7_sepconv1_ (SeparableConv (None, 10, 10, 728)  536536      block7_sepconv1_act[0][0]        \n",
      "__________________________________________________________________________________________________\n",
      "block7_sepconv1_bn (BatchNormal (None, 10, 10, 728)  2912        block7_sepconv1_[0][0]           \n",
      "__________________________________________________________________________________________________\n",
      "block7_sepconv2_act (Activation (None, 10, 10, 728)  0           block7_sepconv1_bn[0][0]         \n",
      "__________________________________________________________________________________________________\n",
      "block7_sepconv2_ (SeparableConv (None, 10, 10, 728)  536536      block7_sepconv2_act[0][0]        \n",
      "__________________________________________________________________________________________________\n",
      "block7_sepconv2_bn (BatchNormal (None, 10, 10, 728)  2912        block7_sepconv2_[0][0]           \n",
      "__________________________________________________________________________________________________\n",
      "block7_sepconv3_act (Activation (None, 10, 10, 728)  0           block7_sepconv2_bn[0][0]         \n",
      "__________________________________________________________________________________________________\n",
      "block7_sepconv3_ (SeparableConv (None, 10, 10, 728)  536536      block7_sepconv3_act[0][0]        \n",
      "__________________________________________________________________________________________________\n",
      "block7_sepconv3_bn (BatchNormal (None, 10, 10, 728)  2912        block7_sepconv3_[0][0]           \n",
      "__________________________________________________________________________________________________\n",
      "add_5 (Add)                     (None, 10, 10, 728)  0           block7_sepconv3_bn[0][0]         \n",
      "                                                                 add_4[0][0]                      \n",
      "__________________________________________________________________________________________________\n",
      "block8_sepconv1_act (Activation (None, 10, 10, 728)  0           add_5[0][0]                      \n",
      "__________________________________________________________________________________________________\n",
      "block8_sepconv1_ (SeparableConv (None, 10, 10, 728)  536536      block8_sepconv1_act[0][0]        \n",
      "__________________________________________________________________________________________________\n",
      "block8_sepconv1_bn (BatchNormal (None, 10, 10, 728)  2912        block8_sepconv1_[0][0]           \n",
      "__________________________________________________________________________________________________\n",
      "block8_sepconv2_act (Activation (None, 10, 10, 728)  0           block8_sepconv1_bn[0][0]         \n",
      "__________________________________________________________________________________________________\n",
      "block8_sepconv2_ (SeparableConv (None, 10, 10, 728)  536536      block8_sepconv2_act[0][0]        \n",
      "__________________________________________________________________________________________________\n",
      "block8_sepconv2_bn (BatchNormal (None, 10, 10, 728)  2912        block8_sepconv2_[0][0]           \n",
      "__________________________________________________________________________________________________\n",
      "block8_sepconv3_act (Activation (None, 10, 10, 728)  0           block8_sepconv2_bn[0][0]         \n",
      "__________________________________________________________________________________________________\n",
      "block8_sepconv3_ (SeparableConv (None, 10, 10, 728)  536536      block8_sepconv3_act[0][0]        \n",
      "__________________________________________________________________________________________________\n",
      "block8_sepconv3_bn (BatchNormal (None, 10, 10, 728)  2912        block8_sepconv3_[0][0]           \n",
      "__________________________________________________________________________________________________\n",
      "add_6 (Add)                     (None, 10, 10, 728)  0           block8_sepconv3_bn[0][0]         \n",
      "                                                                 add_5[0][0]                      \n",
      "__________________________________________________________________________________________________\n",
      "block9_sepconv1_act (Activation (None, 10, 10, 728)  0           add_6[0][0]                      \n",
      "__________________________________________________________________________________________________\n",
      "block9_sepconv1_ (SeparableConv (None, 10, 10, 728)  536536      block9_sepconv1_act[0][0]        \n",
      "__________________________________________________________________________________________________\n",
      "block9_sepconv1_bn (BatchNormal (None, 10, 10, 728)  2912        block9_sepconv1_[0][0]           \n",
      "__________________________________________________________________________________________________\n",
      "block9_sepconv2_act (Activation (None, 10, 10, 728)  0           block9_sepconv1_bn[0][0]         \n",
      "__________________________________________________________________________________________________\n",
      "block9_sepconv2_ (SeparableConv (None, 10, 10, 728)  536536      block9_sepconv2_act[0][0]        \n",
      "__________________________________________________________________________________________________\n",
      "block9_sepconv2_bn (BatchNormal (None, 10, 10, 728)  2912        block9_sepconv2_[0][0]           \n",
      "__________________________________________________________________________________________________\n",
      "block9_sepconv3_act (Activation (None, 10, 10, 728)  0           block9_sepconv2_bn[0][0]         \n",
      "__________________________________________________________________________________________________\n",
      "block9_sepconv3_ (SeparableConv (None, 10, 10, 728)  536536      block9_sepconv3_act[0][0]        \n",
      "__________________________________________________________________________________________________\n",
      "block9_sepconv3_bn (BatchNormal (None, 10, 10, 728)  2912        block9_sepconv3_[0][0]           \n",
      "__________________________________________________________________________________________________\n",
      "add_7 (Add)                     (None, 10, 10, 728)  0           block9_sepconv3_bn[0][0]         \n",
      "                                                                 add_6[0][0]                      \n",
      "__________________________________________________________________________________________________\n",
      "block10_sepconv1_act (Activatio (None, 10, 10, 728)  0           add_7[0][0]                      \n",
      "__________________________________________________________________________________________________\n",
      "block10_sepconv1_ (SeparableCon (None, 10, 10, 728)  536536      block10_sepconv1_act[0][0]       \n",
      "__________________________________________________________________________________________________\n",
      "block10_sepconv1_bn (BatchNorma (None, 10, 10, 728)  2912        block10_sepconv1_[0][0]          \n",
      "__________________________________________________________________________________________________\n",
      "block10_sepconv2_act (Activatio (None, 10, 10, 728)  0           block10_sepconv1_bn[0][0]        \n",
      "__________________________________________________________________________________________________\n",
      "block10_sepconv2_ (SeparableCon (None, 10, 10, 728)  536536      block10_sepconv2_act[0][0]       \n",
      "__________________________________________________________________________________________________\n",
      "block10_sepconv2_bn (BatchNorma (None, 10, 10, 728)  2912        block10_sepconv2_[0][0]          \n",
      "__________________________________________________________________________________________________\n",
      "block10_sepconv3_act (Activatio (None, 10, 10, 728)  0           block10_sepconv2_bn[0][0]        \n",
      "__________________________________________________________________________________________________\n",
      "block10_sepconv3_ (SeparableCon (None, 10, 10, 728)  536536      block10_sepconv3_act[0][0]       \n",
      "__________________________________________________________________________________________________\n",
      "block10_sepconv3_bn (BatchNorma (None, 10, 10, 728)  2912        block10_sepconv3_[0][0]          \n",
      "__________________________________________________________________________________________________\n",
      "add_8 (Add)                     (None, 10, 10, 728)  0           block10_sepconv3_bn[0][0]        \n",
      "                                                                 add_7[0][0]                      \n",
      "__________________________________________________________________________________________________\n",
      "block11_sepconv1_act (Activatio (None, 10, 10, 728)  0           add_8[0][0]                      \n",
      "__________________________________________________________________________________________________\n",
      "block11_sepconv1_ (SeparableCon (None, 10, 10, 728)  536536      block11_sepconv1_act[0][0]       \n",
      "__________________________________________________________________________________________________\n",
      "block11_sepconv1_bn (BatchNorma (None, 10, 10, 728)  2912        block11_sepconv1_[0][0]          \n",
      "__________________________________________________________________________________________________\n",
      "block11_sepconv2_act (Activatio (None, 10, 10, 728)  0           block11_sepconv1_bn[0][0]        \n",
      "__________________________________________________________________________________________________\n",
      "block11_sepconv2_ (SeparableCon (None, 10, 10, 728)  536536      block11_sepconv2_act[0][0]       \n",
      "__________________________________________________________________________________________________\n",
      "block11_sepconv2_bn (BatchNorma (None, 10, 10, 728)  2912        block11_sepconv2_[0][0]          \n",
      "__________________________________________________________________________________________________\n",
      "block11_sepconv3_act (Activatio (None, 10, 10, 728)  0           block11_sepconv2_bn[0][0]        \n",
      "__________________________________________________________________________________________________\n",
      "block11_sepconv3_ (SeparableCon (None, 10, 10, 728)  536536      block11_sepconv3_act[0][0]       \n",
      "__________________________________________________________________________________________________\n",
      "block11_sepconv3_bn (BatchNorma (None, 10, 10, 728)  2912        block11_sepconv3_[0][0]          \n",
      "__________________________________________________________________________________________________\n",
      "add_9 (Add)                     (None, 10, 10, 728)  0           block11_sepconv3_bn[0][0]        \n",
      "                                                                 add_8[0][0]                      \n",
      "__________________________________________________________________________________________________\n",
      "block12_sepconv1_act (Activatio (None, 10, 10, 728)  0           add_9[0][0]                      \n",
      "__________________________________________________________________________________________________\n",
      "block12_sepconv1_ (SeparableCon (None, 10, 10, 728)  536536      block12_sepconv1_act[0][0]       \n",
      "__________________________________________________________________________________________________\n",
      "block12_sepconv1_bn (BatchNorma (None, 10, 10, 728)  2912        block12_sepconv1_[0][0]          \n",
      "__________________________________________________________________________________________________\n",
      "block12_sepconv2_act (Activatio (None, 10, 10, 728)  0           block12_sepconv1_bn[0][0]        \n",
      "__________________________________________________________________________________________________\n",
      "block12_sepconv2_ (SeparableCon (None, 10, 10, 728)  536536      block12_sepconv2_act[0][0]       \n",
      "__________________________________________________________________________________________________\n",
      "block12_sepconv2_bn (BatchNorma (None, 10, 10, 728)  2912        block12_sepconv2_[0][0]          \n",
      "__________________________________________________________________________________________________\n",
      "block12_sepconv3_act (Activatio (None, 10, 10, 728)  0           block12_sepconv2_bn[0][0]        \n",
      "__________________________________________________________________________________________________\n",
      "block12_sepconv3_ (SeparableCon (None, 10, 10, 728)  536536      block12_sepconv3_act[0][0]       \n",
      "__________________________________________________________________________________________________\n",
      "block12_sepconv3_bn (BatchNorma (None, 10, 10, 728)  2912        block12_sepconv3_[0][0]          \n",
      "__________________________________________________________________________________________________\n",
      "add_10 (Add)                    (None, 10, 10, 728)  0           block12_sepconv3_bn[0][0]        \n",
      "                                                                 add_9[0][0]                      \n",
      "__________________________________________________________________________________________________\n",
      "block13_sepconv1_act (Activatio (None, 10, 10, 728)  0           add_10[0][0]                     \n",
      "__________________________________________________________________________________________________\n",
      "block13_sepconv1_ (SeparableCon (None, 10, 10, 728)  536536      block13_sepconv1_act[0][0]       \n",
      "__________________________________________________________________________________________________\n",
      "block13_sepconv1_bn (BatchNorma (None, 10, 10, 728)  2912        block13_sepconv1_[0][0]          \n",
      "__________________________________________________________________________________________________\n",
      "block13_sepconv2_act (Activatio (None, 10, 10, 728)  0           block13_sepconv1_bn[0][0]        \n",
      "__________________________________________________________________________________________________\n",
      "block13_sepconv2_ (SeparableCon (None, 10, 10, 1024) 752024      block13_sepconv2_act[0][0]       \n",
      "__________________________________________________________________________________________________\n",
      "block13_sepconv2_bn (BatchNorma (None, 10, 10, 1024) 4096        block13_sepconv2_[0][0]          \n",
      "__________________________________________________________________________________________________\n",
      "conv2d_3 (Conv2D)               (None, 5, 5, 1024)   745472      add_10[0][0]                     \n",
      "__________________________________________________________________________________________________\n",
      "block13_pool (MaxPooling2D)     (None, 5, 5, 1024)   0           block13_sepconv2_bn[0][0]        \n",
      "__________________________________________________________________________________________________\n",
      "batch_normalization_3 (BatchNor (None, 5, 5, 1024)   4096        conv2d_3[0][0]                   \n",
      "__________________________________________________________________________________________________\n",
      "add_11 (Add)                    (None, 5, 5, 1024)   0           block13_pool[0][0]               \n",
      "                                                                 batch_normalization_3[0][0]      \n",
      "__________________________________________________________________________________________________\n",
      "block14_sepconv1_ (SeparableCon (None, 5, 5, 1536)   1582080     add_11[0][0]                     \n",
      "__________________________________________________________________________________________________\n",
      "block14_sepconv1_bn (BatchNorma (None, 5, 5, 1536)   6144        block14_sepconv1_[0][0]          \n",
      "__________________________________________________________________________________________________\n",
      "block14_sepconv1_act (Activatio (None, 5, 5, 1536)   0           block14_sepconv1_bn[0][0]        \n",
      "__________________________________________________________________________________________________\n",
      "block14_sepconv2_ (SeparableCon (None, 5, 5, 2048)   3159552     block14_sepconv1_act[0][0]       \n",
      "__________________________________________________________________________________________________\n",
      "block14_sepconv2_bn (BatchNorma (None, 5, 5, 2048)   8192        block14_sepconv2_[0][0]          \n",
      "__________________________________________________________________________________________________\n",
      "block14_sepconv2_act (Activatio (None, 5, 5, 2048)   0           block14_sepconv2_bn[0][0]        \n",
      "__________________________________________________________________________________________________\n",
      "avg_pool (GlobalAveragePooling2 (None, 2048)         0           block14_sepconv2_act[0][0]       \n",
      "__________________________________________________________________________________________________\n",
      "predictions (Dense)             (None, 2)            4098        avg_pool[0][0]                   \n",
      "==================================================================================================\n",
      "Total params: 20,865,578\n",
      "Trainable params: 20,811,050\n",
      "Non-trainable params: 54,528\n",
      "__________________________________________________________________________________________________\n"
     ]
    }
   ],
   "source": [
    "model = Xception()\n",
    "model.summary()"
   ]
  },
  {
   "cell_type": "markdown",
   "metadata": {},
   "source": [
    "<h3 style=\"color:000000\">XCEPTION</h3>\n",
    "<h3 style=\"color:blue\">Callbacks</h3>"
   ]
  },
  {
   "cell_type": "code",
   "execution_count": 21,
   "metadata": {
    "_kg_hide-output": true
   },
   "outputs": [],
   "source": [
    "callbacks = [\n",
    "    tf.keras.callbacks.ModelCheckpoint(\"model.h5\", verbose = 1, save_best_only=True),\n",
    "    tf.keras.callbacks.EarlyStopping(verbose = 1, patience=10, restore_best_weights=True)\n",
    "]"
   ]
  },
  {
   "cell_type": "markdown",
   "metadata": {},
   "source": [
    "<h3 style=\"color:000000\">XCEPTION</h3>\n",
    "<h3 style=\"color:blue\">Compiler</h3>"
   ]
  },
  {
   "cell_type": "code",
   "execution_count": 22,
   "metadata": {},
   "outputs": [],
   "source": [
    "model.compile(optimizer = 'adam', \n",
    "              loss = 'categorical_crossentropy',\n",
    "              metrics = ['accuracy'])"
   ]
  },
  {
   "cell_type": "markdown",
   "metadata": {},
   "source": [
    "<h3 style=\"color:000000\">XCEPTION</h3>\n",
    "<h3 style=\"color:blue\">Training</h3>"
   ]
  },
  {
   "cell_type": "code",
   "execution_count": null,
   "metadata": {},
   "outputs": [],
   "source": [
    "H = model.fit(\n",
    "    aug.flow(trainX, trainY, batch_size=BATCH_SIZE),\n",
    "    validation_data=(testX, testY), steps_per_epoch=len(trainX) // BATCH_SIZE,\n",
    "    epochs=EPOCHS)"
   ]
  },
  {
   "cell_type": "code",
   "execution_count": null,
   "metadata": {},
   "outputs": [],
   "source": [
    "model.save('xception-model')"
   ]
  },
  {
   "cell_type": "code",
   "execution_count": null,
   "metadata": {},
   "outputs": [],
   "source": [
    "val_accuracy = np.mean(H.history['val_accuracy'])\n",
    "print(\"\\n%s: %.2f%%\" % ('val_accuracy', val_accuracy*100))\n",
    "\n",
    "\n",
    "accuracy = np.mean(H.history['accuracy'])\n",
    "print(\"\\n%s: %.2f%%\" % ('accuracy', accuracy*100))"
   ]
  },
  {
   "cell_type": "code",
   "execution_count": null,
   "metadata": {},
   "outputs": [],
   "source": [
    "history_df = pd.DataFrame(H.history)\n",
    "\n",
    "plt.figure(figsize=(14, 4))\n",
    "plt.subplot(1,2,1)\n",
    "sns.scatterplot(data=history_df[['accuracy','val_accuracy']], palette=['#E2485A', '#679B8B']);\n",
    "plt.legend(loc='lower right')\n",
    "plt.title('Training and Validation Accuracy')\n",
    "\n",
    "plt.subplot(1,2,2)\n",
    "sns.scatterplot(data=history_df[['loss','val_loss']], palette=['#E2485A', '#679B8B'])\n",
    "plt.title('Training and Validation Loss')\n",
    "\n",
    "plt.show()"
   ]
  },
  {
   "cell_type": "code",
   "execution_count": null,
   "metadata": {},
   "outputs": [],
   "source": [
    "model = tf.keras.models.load_model('xception-model')"
   ]
  },
  {
   "cell_type": "code",
   "execution_count": null,
   "metadata": {},
   "outputs": [],
   "source": [
    "y_test_arg=np.argmax(testY,axis=1)\n",
    "Y_pred = np.argmax(model.predict(testX),axis=1)\n",
    "cm = confusion_matrix(y_test_arg, Y_pred)\n",
    "plot_confusion_matrix(cm=cm, normalize=True,target_names=CLASS_NAMES)"
   ]
  },
  {
   "cell_type": "code",
   "execution_count": null,
   "metadata": {},
   "outputs": [],
   "source": [
    "print(classification_report(y_test_arg, Y_pred, target_names=CLASS_NAMES))"
   ]
  },
  {
   "cell_type": "code",
   "execution_count": null,
   "metadata": {},
   "outputs": [],
   "source": [
    "#new_model = tf.keras.models.load_model('vgg19-model/model.h5',custom_objects={'KerasLayer':hub.KerasLayer})\n",
    "#new_model.summary()"
   ]
  },
  {
   "cell_type": "code",
   "execution_count": null,
   "metadata": {
    "scrolled": true
   },
   "outputs": [],
   "source": [
    "test_img_path = random.choice(valid_dataset)\n",
    "\n",
    "test_img = cv.imread(test_img_path)\n",
    "\n",
    "img = cv.imread(test_img_path)\n",
    "img = cv.resize(img, (128,128))\n",
    "img = img.astype(\"float\") / 255.0\n",
    "img = img_to_array(img)\n",
    "img = np.expand_dims(img, axis=0)\n",
    "\n",
    "preds = model.predict(img)[0]\n",
    "\n",
    "j = np.argmax(preds)\n",
    "label = CLASS_NAMES[j]\n",
    "\n",
    "bmp_f = test_img_path.split(os.sep)[-1]\n",
    "\n",
    "label = \"{}: {:.2f}%\".format(label, preds[j])\n",
    "\n",
    "\n",
    "plt.title(label)\n",
    "plt.imshow(test_img)\n",
    "\n",
    "print(valid_data[valid_data[\"new_names\"] == bmp_f].Patient_ID.values[0])"
   ]
  },
  {
   "cell_type": "code",
   "execution_count": null,
   "metadata": {},
   "outputs": [],
   "source": []
  },
  {
   "cell_type": "code",
   "execution_count": null,
   "metadata": {},
   "outputs": [],
   "source": []
  },
  {
   "cell_type": "code",
   "execution_count": null,
   "metadata": {},
   "outputs": [],
   "source": []
  }
 ],
 "metadata": {
  "kernelspec": {
   "display_name": "leuk-class-proj",
   "language": "python",
   "name": "leuk-class-proj"
  },
  "language_info": {
   "codemirror_mode": {
    "name": "ipython",
    "version": 3
   },
   "file_extension": ".py",
   "mimetype": "text/x-python",
   "name": "python",
   "nbconvert_exporter": "python",
   "pygments_lexer": "ipython3",
   "version": "3.6.13"
  }
 },
 "nbformat": 4,
 "nbformat_minor": 4
}
